{
  "cells": [
    {
      "cell_type": "markdown",
      "metadata": {
        "id": "view-in-github",
        "colab_type": "text"
      },
      "source": [
        "<a href=\"https://colab.research.google.com/github/MarielGomezRan/G35.-Modulo-II-Modelos-Estad-sticos/blob/main/Tarea_1_ProbaLaplaciana_EQUIPO4.ipynb\" target=\"_parent\"><img src=\"https://colab.research.google.com/assets/colab-badge.svg\" alt=\"Open In Colab\"/></a>"
      ]
    },
    {
      "cell_type": "markdown",
      "source": [
        "# **#EQUIPO 4**\n",
        "##INTEGRANTES:\n",
        "* GÓMEZ RANGEL MARIEL\n",
        "* JIMENEZ GARCÍA FABIOLA LIZETH\n",
        "* MENESES HERNÁNDEZ JOSE GABRIEL\n",
        "* PAREDES REYES CINDY ELIDEY\n",
        "* ROBLES SÁNCHEZ TAHIRI\n"
      ],
      "metadata": {
        "id": "ylwcfS3Ex_El"
      },
      "id": "ylwcfS3Ex_El"
    },
    {
      "cell_type": "markdown",
      "id": "ab494890-cea1-47f8-97de-7f4de0ec4174",
      "metadata": {
        "id": "ab494890-cea1-47f8-97de-7f4de0ec4174"
      },
      "source": [
        "# Probabilidad Laplaciana (clásica)\n",
        "Para un experimento aleatorio, se tiene que $\\Omega$ es el espacio muestral.\n",
        "\n",
        "Sea $A$ un evento, entonces\n",
        "\n",
        "$$ \\mathbb{P}(A) = \\frac{\\#A}{\\#\\Omega} $$\n",
        "\n",
        "**EJEMPLO:** Sea el experimento de lanzar una moneda 3 veces, de manera independiente (es decir, el $i$-ésimo lanzamiento no me afecta al $i+1$ lanzamiento). El espacio muestral de este experimento es:\n",
        "\n",
        "$$ \\Omega = \\{A,S\\} \\times \\{A,S\\} \\times \\{A,S\\} = \\{A,S\\}^3 $$\n",
        "y tenemos que $\\#\\Omega = 2^3$.\n",
        "\n",
        "Sean los eventos:\n",
        "* $A$: todos los resultados son águila\n",
        "* $S$: todos los resultados son soles\n",
        "* $E$: Por lo menos un resultado es sol\n",
        "Calcular las probabilidades de estos eventos:\n",
        "\n",
        "**Solución** Vamos a descomponer mi conjunto $A$ de la siguiente manera:\n",
        "$$A = A_1 \\cap A_2 \\cap A_3 $$\n",
        "donde $A_i$: caé águila en el $i$-ésimo resultado."
      ]
    },
    {
      "cell_type": "code",
      "execution_count": null,
      "id": "3f14bb3f-5cbf-432a-9482-a2fbb7201452",
      "metadata": {
        "colab": {
          "base_uri": "https://localhost:8080/"
        },
        "id": "3f14bb3f-5cbf-432a-9482-a2fbb7201452",
        "outputId": "b3469f42-d13b-4738-cb6f-06ec73511388"
      },
      "outputs": [
        {
          "output_type": "execute_result",
          "data": {
            "text/plain": [
              "{('A', 'A', 'A'),\n",
              " ('A', 'A', 'S'),\n",
              " ('A', 'S', 'A'),\n",
              " ('A', 'S', 'S'),\n",
              " ('S', 'A', 'A'),\n",
              " ('S', 'A', 'S'),\n",
              " ('S', 'S', 'A'),\n",
              " ('S', 'S', 'S')}"
            ]
          },
          "metadata": {},
          "execution_count": 3
        }
      ],
      "source": [
        "# Vamos a crear el espacio muestral\n",
        "import itertools #importamos el modulo\n",
        "from itertools import product\n",
        "\n",
        "Omega = set( product({\"A\",\"S\"},repeat=3 ))\n",
        "Omega"
      ]
    },
    {
      "cell_type": "code",
      "execution_count": null,
      "id": "2ddc618a-9fbd-4c4f-9882-9acef29830b3",
      "metadata": {
        "colab": {
          "base_uri": "https://localhost:8080/"
        },
        "id": "2ddc618a-9fbd-4c4f-9882-9acef29830b3",
        "outputId": "57458981-b425-4ad0-897d-8e94a13cc4f3"
      },
      "outputs": [
        {
          "output_type": "execute_result",
          "data": {
            "text/plain": [
              "8"
            ]
          },
          "metadata": {},
          "execution_count": 4
        }
      ],
      "source": [
        "len(Omega) # cardinalidad de Omega"
      ]
    },
    {
      "cell_type": "code",
      "execution_count": null,
      "id": "3d9729e7-f4a9-4b56-b80b-ddb93f28bca6",
      "metadata": {
        "colab": {
          "base_uri": "https://localhost:8080/"
        },
        "id": "3d9729e7-f4a9-4b56-b80b-ddb93f28bca6",
        "outputId": "7170f8f1-6d47-4512-a55d-5d5fbac2f762"
      },
      "outputs": [
        {
          "output_type": "execute_result",
          "data": {
            "text/plain": [
              "{('A', 'A', 'A'), ('A', 'A', 'S'), ('A', 'S', 'A'), ('A', 'S', 'S')}"
            ]
          },
          "metadata": {},
          "execution_count": 5
        }
      ],
      "source": [
        "# Vamos a crear el evento A_1\n",
        "A_1 = { om for om in Omega if om[0]==\"A\"} # la primera coordenada es águila\n",
        "A_1"
      ]
    },
    {
      "cell_type": "code",
      "execution_count": null,
      "id": "fd18265c-7d78-4594-bfbd-c83125602eee",
      "metadata": {
        "colab": {
          "base_uri": "https://localhost:8080/"
        },
        "id": "fd18265c-7d78-4594-bfbd-c83125602eee",
        "outputId": "c148c87e-db34-447f-ad06-bd417dc11625"
      },
      "outputs": [
        {
          "output_type": "execute_result",
          "data": {
            "text/plain": [
              "{('A', 'A', 'A'), ('A', 'A', 'S'), ('S', 'A', 'A'), ('S', 'A', 'S')}"
            ]
          },
          "metadata": {},
          "execution_count": 6
        }
      ],
      "source": [
        "# Vamos a crear el evento A_2\n",
        "A_2 = { om for om in Omega if om[1]==\"A\"} # la segunda coordenada es águila\n",
        "A_2"
      ]
    },
    {
      "cell_type": "code",
      "execution_count": null,
      "id": "fcedf772-c10b-42eb-bcd1-2609e928b7f6",
      "metadata": {
        "colab": {
          "base_uri": "https://localhost:8080/"
        },
        "id": "fcedf772-c10b-42eb-bcd1-2609e928b7f6",
        "outputId": "ca95eb39-24f0-45b4-9e85-de24dd0fb33b"
      },
      "outputs": [
        {
          "output_type": "execute_result",
          "data": {
            "text/plain": [
              "{('A', 'A', 'A'), ('A', 'S', 'A'), ('S', 'A', 'A'), ('S', 'S', 'A')}"
            ]
          },
          "metadata": {},
          "execution_count": 7
        }
      ],
      "source": [
        "# Vamos a crear el evento A_3\n",
        "A_3 = { om for om in Omega if om[2]==\"A\"} # la tercera coordenada es águila\n",
        "A_3"
      ]
    },
    {
      "cell_type": "code",
      "execution_count": null,
      "id": "3d2df1cd-fef2-4118-9e1b-684e29dec5df",
      "metadata": {
        "colab": {
          "base_uri": "https://localhost:8080/"
        },
        "id": "3d2df1cd-fef2-4118-9e1b-684e29dec5df",
        "outputId": "b5bb6fe6-e756-483d-b313-680c71c26edd"
      },
      "outputs": [
        {
          "output_type": "execute_result",
          "data": {
            "text/plain": [
              "{('A', 'A', 'A')}"
            ]
          },
          "metadata": {},
          "execution_count": 8
        }
      ],
      "source": [
        "# Vamos a crear el evento A\n",
        "A = A_1.intersection(A_2.intersection(A_3))\n",
        "A"
      ]
    },
    {
      "cell_type": "code",
      "execution_count": null,
      "id": "1e85025c-737d-4d29-b537-ad1c974dc245",
      "metadata": {
        "colab": {
          "base_uri": "https://localhost:8080/"
        },
        "id": "1e85025c-737d-4d29-b537-ad1c974dc245",
        "outputId": "6240a8bc-d70f-42ec-de6a-64f1d09f96e1"
      },
      "outputs": [
        {
          "output_type": "execute_result",
          "data": {
            "text/plain": [
              "1"
            ]
          },
          "metadata": {},
          "execution_count": 9
        }
      ],
      "source": [
        "len(A)"
      ]
    },
    {
      "cell_type": "code",
      "execution_count": null,
      "id": "a9befcc4-9965-4dc1-8889-085a245bd099",
      "metadata": {
        "colab": {
          "base_uri": "https://localhost:8080/"
        },
        "id": "a9befcc4-9965-4dc1-8889-085a245bd099",
        "outputId": "5290a4b0-1438-4bb0-ae69-27444fce3bee"
      },
      "outputs": [
        {
          "output_type": "execute_result",
          "data": {
            "text/plain": [
              "0.125"
            ]
          },
          "metadata": {},
          "execution_count": 10
        }
      ],
      "source": [
        "# Vamos a calcular la probabilidad de A\n",
        "P_A = len(A) / len(Omega)\n",
        "P_A"
      ]
    },
    {
      "cell_type": "markdown",
      "id": "cd54a257-0e41-44ee-9304-f72ba089cbc0",
      "metadata": {
        "id": "cd54a257-0e41-44ee-9304-f72ba089cbc0"
      },
      "source": [
        "Yo quiero expresar mi resultado en fracción, esto se hace de la siguiente manera:"
      ]
    },
    {
      "cell_type": "code",
      "execution_count": null,
      "id": "d21ade82-1215-42ea-92b3-9752417cb12f",
      "metadata": {
        "id": "d21ade82-1215-42ea-92b3-9752417cb12f"
      },
      "outputs": [],
      "source": [
        "from fractions import Fraction\n",
        "\n",
        "def p(E,Omega):\n",
        "    p = Fraction(len(E),len(Omega))\n",
        "    return p"
      ]
    },
    {
      "cell_type": "code",
      "execution_count": null,
      "id": "a78c395c-e87e-43da-83b1-ff947082d4f6",
      "metadata": {
        "id": "a78c395c-e87e-43da-83b1-ff947082d4f6",
        "outputId": "59d5758f-06d1-4728-c7a9-f4c7c703a2ea"
      },
      "outputs": [
        {
          "data": {
            "text/plain": [
              "Fraction(1, 8)"
            ]
          },
          "execution_count": 45,
          "metadata": {},
          "output_type": "execute_result"
        }
      ],
      "source": [
        "prob = p(A,Omega)\n",
        "prob"
      ]
    },
    {
      "cell_type": "markdown",
      "source": [
        "# EVENTO S"
      ],
      "metadata": {
        "id": "Rbkiay0pt6lW"
      },
      "id": "Rbkiay0pt6lW"
    },
    {
      "cell_type": "code",
      "execution_count": null,
      "id": "9ebc30ab-f043-44e2-a615-49f96088e478",
      "metadata": {
        "colab": {
          "base_uri": "https://localhost:8080/"
        },
        "id": "9ebc30ab-f043-44e2-a615-49f96088e478",
        "outputId": "d49cd6e1-9005-40f0-b967-7ba9f730247c"
      },
      "outputs": [
        {
          "output_type": "execute_result",
          "data": {
            "text/plain": [
              "{('S', 'A', 'A'), ('S', 'A', 'S'), ('S', 'S', 'A'), ('S', 'S', 'S')}"
            ]
          },
          "metadata": {},
          "execution_count": 12
        }
      ],
      "source": [
        "# Vamos a crear el evento S_1\n",
        "S_1 = { om for om in Omega if om[0]==\"S\"} # la primera coordenada es SOL\n",
        "S_1"
      ]
    },
    {
      "cell_type": "code",
      "source": [
        "# Vamos a crear el evento S_2\n",
        "S_2 = { om for om in Omega if om[1]==\"S\"} # la segunda coordenada es SOL\n",
        "S_2"
      ],
      "metadata": {
        "colab": {
          "base_uri": "https://localhost:8080/"
        },
        "id": "c6etihRktOnN",
        "outputId": "c3d65656-e62c-4c7b-eee5-0a40b8cd19a7"
      },
      "id": "c6etihRktOnN",
      "execution_count": null,
      "outputs": [
        {
          "output_type": "execute_result",
          "data": {
            "text/plain": [
              "{('A', 'S', 'A'), ('A', 'S', 'S'), ('S', 'S', 'A'), ('S', 'S', 'S')}"
            ]
          },
          "metadata": {},
          "execution_count": 13
        }
      ]
    },
    {
      "cell_type": "code",
      "source": [
        "# Vamos a crear el evento S_3\n",
        "S_3 = { om for om in Omega if om[2]==\"S\"} # la tercera coordenada es SOL\n",
        "S_3"
      ],
      "metadata": {
        "colab": {
          "base_uri": "https://localhost:8080/"
        },
        "id": "d_HUTFUDtW6I",
        "outputId": "10d848e4-98c6-4853-ad27-4bb908e509fc"
      },
      "id": "d_HUTFUDtW6I",
      "execution_count": null,
      "outputs": [
        {
          "output_type": "execute_result",
          "data": {
            "text/plain": [
              "{('A', 'A', 'S'), ('A', 'S', 'S'), ('S', 'A', 'S'), ('S', 'S', 'S')}"
            ]
          },
          "metadata": {},
          "execution_count": 14
        }
      ]
    },
    {
      "cell_type": "code",
      "source": [
        "# Vamos a crear el evento S\n",
        "S = S_1.intersection(S_2.intersection(S_3))\n",
        "S"
      ],
      "metadata": {
        "colab": {
          "base_uri": "https://localhost:8080/"
        },
        "id": "fgXOXDDhtia1",
        "outputId": "e4d258df-1b0e-4eab-d2ae-ea017906730c"
      },
      "id": "fgXOXDDhtia1",
      "execution_count": null,
      "outputs": [
        {
          "output_type": "execute_result",
          "data": {
            "text/plain": [
              "{('S', 'S', 'S')}"
            ]
          },
          "metadata": {},
          "execution_count": 15
        }
      ]
    },
    {
      "cell_type": "code",
      "source": [
        "len(S)"
      ],
      "metadata": {
        "colab": {
          "base_uri": "https://localhost:8080/"
        },
        "id": "rZmujCsqtweu",
        "outputId": "c3c40ccd-1a08-4d7a-c0c9-4e02ab0b7949"
      },
      "id": "rZmujCsqtweu",
      "execution_count": null,
      "outputs": [
        {
          "output_type": "execute_result",
          "data": {
            "text/plain": [
              "1"
            ]
          },
          "metadata": {},
          "execution_count": 16
        }
      ]
    },
    {
      "cell_type": "code",
      "source": [
        "# Vamos a calcular la probabilidad de S\n",
        "P_S = len(S) / len(Omega)\n",
        "P_S"
      ],
      "metadata": {
        "colab": {
          "base_uri": "https://localhost:8080/"
        },
        "id": "it8UP_oTt1qN",
        "outputId": "6bcac9d7-fd9a-4765-ea47-a4207c6ac7af"
      },
      "id": "it8UP_oTt1qN",
      "execution_count": null,
      "outputs": [
        {
          "output_type": "execute_result",
          "data": {
            "text/plain": [
              "0.125"
            ]
          },
          "metadata": {},
          "execution_count": 17
        }
      ]
    },
    {
      "cell_type": "code",
      "source": [
        "prob = p(S,Omega)\n",
        "prob"
      ],
      "metadata": {
        "colab": {
          "base_uri": "https://localhost:8080/"
        },
        "id": "QNpKPHjhuK1_",
        "outputId": "5c4c0160-2fc9-471d-fc32-0a5a80fcbf47"
      },
      "id": "QNpKPHjhuK1_",
      "execution_count": null,
      "outputs": [
        {
          "output_type": "execute_result",
          "data": {
            "text/plain": [
              "Fraction(1, 8)"
            ]
          },
          "metadata": {},
          "execution_count": 18
        }
      ]
    },
    {
      "cell_type": "markdown",
      "source": [
        "# EVENTO E"
      ],
      "metadata": {
        "id": "6LZD0XrRuNHs"
      },
      "id": "6LZD0XrRuNHs"
    },
    {
      "cell_type": "code",
      "source": [
        "# Vamos a crear el evento E\n",
        "E = { om for om in Omega if \"S\" in om} #\n",
        "E"
      ],
      "metadata": {
        "colab": {
          "base_uri": "https://localhost:8080/"
        },
        "id": "DgwLuKg-uh4e",
        "outputId": "7080f16a-d058-4a77-caef-003491e483df"
      },
      "id": "DgwLuKg-uh4e",
      "execution_count": null,
      "outputs": [
        {
          "output_type": "execute_result",
          "data": {
            "text/plain": [
              "{('A', 'A', 'S'),\n",
              " ('A', 'S', 'A'),\n",
              " ('A', 'S', 'S'),\n",
              " ('S', 'A', 'A'),\n",
              " ('S', 'A', 'S'),\n",
              " ('S', 'S', 'A'),\n",
              " ('S', 'S', 'S')}"
            ]
          },
          "metadata": {},
          "execution_count": 21
        }
      ]
    },
    {
      "cell_type": "code",
      "source": [
        "len(E)"
      ],
      "metadata": {
        "colab": {
          "base_uri": "https://localhost:8080/"
        },
        "id": "6okbKsRZv44N",
        "outputId": "4dd6b5fb-7a28-4aff-f02e-fd8eb4f549f0"
      },
      "id": "6okbKsRZv44N",
      "execution_count": null,
      "outputs": [
        {
          "output_type": "execute_result",
          "data": {
            "text/plain": [
              "7"
            ]
          },
          "metadata": {},
          "execution_count": 22
        }
      ]
    },
    {
      "cell_type": "code",
      "source": [
        "# Vamos a calcular la probabilidad de E\n",
        "P_E = len(E) / len(Omega)\n",
        "P_E"
      ],
      "metadata": {
        "colab": {
          "base_uri": "https://localhost:8080/"
        },
        "id": "EbjOF-31v9wY",
        "outputId": "4db3552a-4044-491d-8b4a-5a00144a5ea0"
      },
      "id": "EbjOF-31v9wY",
      "execution_count": null,
      "outputs": [
        {
          "output_type": "execute_result",
          "data": {
            "text/plain": [
              "0.875"
            ]
          },
          "metadata": {},
          "execution_count": 23
        }
      ]
    },
    {
      "cell_type": "code",
      "source": [
        "prob = p(E,Omega)\n",
        "prob"
      ],
      "metadata": {
        "colab": {
          "base_uri": "https://localhost:8080/"
        },
        "id": "zSO97jrYwEeX",
        "outputId": "4f905282-6081-4179-9944-3a351217c690"
      },
      "id": "zSO97jrYwEeX",
      "execution_count": null,
      "outputs": [
        {
          "output_type": "execute_result",
          "data": {
            "text/plain": [
              "Fraction(7, 8)"
            ]
          },
          "metadata": {},
          "execution_count": 24
        }
      ]
    }
  ],
  "metadata": {
    "kernelspec": {
      "display_name": "Python [conda env:base] *",
      "language": "python",
      "name": "conda-base-py"
    },
    "language_info": {
      "codemirror_mode": {
        "name": "ipython",
        "version": 3
      },
      "file_extension": ".py",
      "mimetype": "text/x-python",
      "name": "python",
      "nbconvert_exporter": "python",
      "pygments_lexer": "ipython3",
      "version": "3.12.7"
    },
    "colab": {
      "provenance": [],
      "include_colab_link": true
    }
  },
  "nbformat": 4,
  "nbformat_minor": 5
}
