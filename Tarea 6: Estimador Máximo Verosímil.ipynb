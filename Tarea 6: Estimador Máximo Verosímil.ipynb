{
  "cells": [
    {
      "cell_type": "markdown",
      "metadata": {
        "id": "view-in-github",
        "colab_type": "text"
      },
      "source": [
        "<a href=\"https://colab.research.google.com/github/MarielGomezRan/G35.-Modulo-II-Modelos-Estad-sticos/blob/main/Tarea%206%3A%20Estimador%20M%C3%A1ximo%20Veros%C3%ADmil.ipynb\" target=\"_parent\"><img src=\"https://colab.research.google.com/assets/colab-badge.svg\" alt=\"Open In Colab\"/></a>"
      ]
    },
    {
      "cell_type": "markdown",
      "id": "19cb5130-dc6d-41ba-b352-adfa5bb449ce",
      "metadata": {
        "id": "19cb5130-dc6d-41ba-b352-adfa5bb449ce"
      },
      "source": [
        "## Estimador Máximo Verosímil"
      ]
    },
    {
      "cell_type": "markdown",
      "source": [
        "### **EQUIPO 4: Ejercicio**\n",
        "###INTEGRANTES:\n",
        "* GÓMEZ RANGEL MARIEL\n",
        "* JIMENEZ GARCIA FABIOLA LIZETH\n",
        "* MENESES HERNÁNDEZ JOSE GABRIEL\n",
        "* PAREDES REYES CINDY ELIDEY\n",
        "* ROBLES SÁNCHEZ TAHIRI"
      ],
      "metadata": {
        "id": "iPRPH1EH4uR0"
      },
      "id": "iPRPH1EH4uR0"
    },
    {
      "cell_type": "markdown",
      "id": "2dc434cf-3a3d-466e-8e6c-3d31d7658f26",
      "metadata": {
        "id": "2dc434cf-3a3d-466e-8e6c-3d31d7658f26"
      },
      "source": [
        "Existen distintos métodos para estimar parámetros desconocidos a partir de un conjunto de datos. El Estimador Máximo Verosímil (MLE) responde a la siguiente pregunta:\n",
        "\n",
        "¿Para qué valor del parámetro, los datos observados tienen la probabilidad más alta?\n",
        "\n",
        "**Ejemplo 1** Una moneda se lanza 100 veces. Dado que se obtienen 55 soles, econtrar el MLE para la probabilidad $p$ de obtener sol en un sólo lanzamiento,\n",
        "\n",
        "Podemos pensar en contar el número de soles en los 100 lanzamientos, entonces la probabilidad de obtener 55 soles en este experimento, es la siguiente:\n",
        "\n",
        "Si $X:$ el numero de soles que se obtienen al lanzar una moneda, se tiene que $X\\sim Bin(100,p)$, es decir,\n",
        "\n",
        "$$ P(55 soles; p) = \\binom{100}{55}p^{55}(1-p)^{100-55} $$\n"
      ]
    },
    {
      "cell_type": "markdown",
      "id": "8664de36-8352-4ee0-a37f-1b7e20e89c76",
      "metadata": {
        "id": "8664de36-8352-4ee0-a37f-1b7e20e89c76"
      },
      "source": [
        "**Función de verosímilitud.** Sea $X_1,X_2,\\dots,X_n$ una muestra aleatoria con $f(x;\\theta)$. La función de verosimilitud (likelihood) es:\n",
        "$$ f(x_1,\\dots,x_n;\\theta) = f(x_1;\\theta)\\cdots f(x_n;\\theta) $$\n",
        "Entpnces,\n",
        "$$ L(x_1,\\dots,x_n;\\theta) = \\prod_{i=1}^n f(x_i,\\theta) $$\n",
        "\n",
        "Ejemplo. Si $X_1,\\dots,X_n$ es una m.a. Poisson($\\lambda$), entonces\n",
        "$$ L(x_1,\\dots,x_n;\\lambda) = \\frac{e^{-n\\lambda} \\lambda^{\\sum x_i }}{\\prod x_i !}$$"
      ]
    },
    {
      "cell_type": "markdown",
      "id": "c34f54d4-dffb-4601-b864-c287c874783e",
      "metadata": {
        "id": "c34f54d4-dffb-4601-b864-c287c874783e"
      },
      "source": [
        "**Estimador Máximo Verosímil** es el valor de $\\theta$, donde $L(x_1,\\dots,x_n;\\theta)$ alcanza el máximo.\n",
        "\n",
        "Pasos:\n",
        "\n",
        "- $$ L(x_1,\\dots,x_n;\\theta) = \\prod_{i=1}^n f(x_i,\\theta) $$\n",
        "- $$\\ln L(x_1,\\dots,x_n;\\theta) $$\n",
        "- $$ \\frac{d\\ln L(x_1,\\dots,x_n;\\theta)}{d\\theta} $$\n",
        "- $$ \\frac{d\\ln L(x_1,\\dots,x_n;\\theta)}{d\\theta} = 0 $$\n",
        "  y despejar $\\theta$ para encontrar el máximo."
      ]
    },
    {
      "cell_type": "markdown",
      "id": "01bac067-f664-40b2-8203-1c7aec67e672",
      "metadata": {
        "id": "01bac067-f664-40b2-8203-1c7aec67e672"
      },
      "source": [
        "Para nuestro caso, tenemos\n",
        "$$ \\frac{P(55 soles ;p)}{dp}=\\binom{100}{55}p^{55}(1-p)^{45} - 45p^{55}(1-p)^44=0$$\n",
        "entonces, resolviendo para $p$, se tiene\n",
        "$$ \\binom{100}{55}p^{55}(1-p)^{45}=45^{55}(1-p)^44 $$\n",
        "entonces,\n",
        "$$ 55(1-p) = 45p $$\n",
        "entonces,\n",
        "$$p = \\frac{55}{100}$$\n",
        "\n",
        "Por lo tanto, el MLE para $p$, es $\\hat{p}=0.55$"
      ]
    },
    {
      "cell_type": "code",
      "execution_count": null,
      "id": "aed685e0-520d-4036-9ef7-062b983269e7",
      "metadata": {
        "id": "aed685e0-520d-4036-9ef7-062b983269e7",
        "outputId": "3c11f0f7-edf7-41a5-90f3-1c9d47d90bdd",
        "colab": {
          "base_uri": "https://localhost:8080/"
        }
      },
      "outputs": [
        {
          "output_type": "stream",
          "name": "stdout",
          "text": [
            "Es estimador de máxima verosimilitud es 11/20\n"
          ]
        }
      ],
      "source": [
        "from scipy.stats import bernoulli, binom\n",
        "import numpy as np\n",
        "import sympy # para calculo simbolico y algebraico -> encontra el estimador de maneta analítica\n",
        "from sympy.abc import x\n",
        "\n",
        "# Definir a p como una variable simbolica positiva\n",
        "\n",
        "p = sympy.symbols('p', positive = True )\n",
        "f = p**55 * (1-p)**(100-55)\n",
        "phat = sympy.solve(sympy.diff(f,p),p)[0]\n",
        "\n",
        "print(\"Es estimador de máxima verosimilitud es\", phat)"
      ]
    },
    {
      "cell_type": "markdown",
      "id": "cb70c305-3e2d-49e8-8e1e-3127a5264a68",
      "metadata": {
        "id": "cb70c305-3e2d-49e8-8e1e-3127a5264a68"
      },
      "source": [
        "Veamos otro ejemplo:"
      ]
    },
    {
      "cell_type": "code",
      "execution_count": null,
      "id": "c986bdbb-177a-466c-a805-9dd7acc28ca3",
      "metadata": {
        "id": "c986bdbb-177a-466c-a805-9dd7acc28ca3",
        "outputId": "b3e3c9fa-3665-4e6c-d610-17946b22cba7",
        "colab": {
          "base_uri": "https://localhost:8080/"
        }
      },
      "outputs": [
        {
          "output_type": "execute_result",
          "data": {
            "text/plain": [
              "array([1, 0, 1, 1, 1, 1, 1, 0, 0, 1, 1, 1, 1, 1, 1, 1, 1, 1, 0, 0, 1, 1,\n",
              "       1, 1, 1, 1, 1, 0, 0, 1, 0, 0, 1, 1, 1, 1, 0, 0, 0, 1, 0, 1, 0, 0,\n",
              "       1, 1, 1, 1, 0, 1, 1, 1, 1, 0, 1, 1, 1, 1, 1, 0, 1, 1, 0, 1, 1, 1,\n",
              "       0, 1, 1, 1, 1, 0, 0, 0, 1, 0, 1, 1, 1, 0, 1, 0, 1, 1, 0, 0, 1, 0,\n",
              "       0, 1, 1, 1, 1, 1, 1, 1, 0, 1, 1, 0])"
            ]
          },
          "metadata": {},
          "execution_count": 2
        }
      ],
      "source": [
        "r = binom.rvs(1,0.7, size=100)\n",
        "r"
      ]
    },
    {
      "cell_type": "code",
      "execution_count": null,
      "id": "34f99224-25d8-47e4-955a-1b7107c7a8d1",
      "metadata": {
        "id": "34f99224-25d8-47e4-955a-1b7107c7a8d1",
        "outputId": "81011e93-d672-401f-9073-6c216c205ccb",
        "colab": {
          "base_uri": "https://localhost:8080/"
        }
      },
      "outputs": [
        {
          "output_type": "stream",
          "name": "stdout",
          "text": [
            "Es estimador de máxima verosimilitud es 17/25\n"
          ]
        }
      ],
      "source": [
        "f = p**x*(1-p)**(1-x)\n",
        "J = np.prod([f.subs(x,i) for i in r])\n",
        "logJ = sympy.expand_log(sympy.log(J)) #logaritmo\n",
        "phat = sympy.solve(sympy.diff(logJ,p),p)[0]\n",
        "print(\"Es estimador de máxima verosimilitud es\", phat)"
      ]
    },
    {
      "cell_type": "markdown",
      "id": "f63cfc07-4ec9-40d4-91b6-1f93b42fb7d7",
      "metadata": {
        "id": "f63cfc07-4ec9-40d4-91b6-1f93b42fb7d7"
      },
      "source": [
        "Ejercicio: El tiempo de retardo para pacientes con enfermedad coronaria potencial se define como la duración entre el comienzo de un síntoma agudo cardiovascular y la llegada a la unidad de emergencia.\n",
        "\n",
        "Se supone que el tiempo de retardo sigue una distribución exponencial con parámetro $\\theta $.\n",
        "\n",
        "Se registraron los tiempos de retardo (en minutos) en la clínica para los primeros 20 pacientes:\n",
        "\n",
        "$$ 525, \\ 719, \\ 2880, \\ 150, \\ 30, \\ 251, \\ 45, \\ 858, \\ 15, \\ 47, \\ 90, \\ 56, \\ 68, \\ 6, \\ 189, \\ 180, \\ 60, \\ 60, \\ 294, \\ 747 $$\n",
        "\n",
        "- Encuentra un estimador por el método de momentos para la media de la distribución.\n",
        "- Encuentra el valor del estimador con los datos dados."
      ]
    },
    {
      "cell_type": "markdown",
      "source": [
        "El método de momentos iguala la media teórica con la media muestral:\n",
        "\n",
        "$$\\mathbb{E}(X) = \\frac{1}{\\theta} = \\bar{x}$$\n",
        "\n",
        "Entonces\n",
        "$$\\theta = \\frac{1}{\\bar{x}}$$\n",
        "\n",
        "Y como queremos estimar la media, que es $ \\mu = \\frac{1}{\\theta}$, el estimador de la media es la media muestral $\\mu = \\bar{x}$"
      ],
      "metadata": {
        "id": "YdbiyhL3P5P7"
      },
      "id": "YdbiyhL3P5P7"
    },
    {
      "cell_type": "code",
      "source": [
        "# Lista de tiempos de retardo (en minutos)\n",
        "tiempos = [525, 719, 2880, 150, 30, 251, 45, 858, 15, 47,\n",
        "    90, 56, 68, 6, 189, 180, 60, 60, 294, 747]\n",
        "\n",
        "# Número de observaciones\n",
        "n = len(tiempos)\n",
        "\n",
        "# Cálculo de la media muestral (estimador de la media)\n",
        "media_muestral = sum(tiempos) /n\n",
        "\n",
        "# Mostrar el resultado\n",
        "\n",
        "print(f\"Estimador de la media (método de momentos): {media_muestral:.2f} minutos\")\n",
        "\n",
        "media = sum(tiempos) / len(tiempos)\n",
        "\n",
        "# Calcular el estimador de theta\n",
        "theta_estimado = 1 / media\n",
        "\n",
        "# Mostrar resultado\n",
        "print(f\"Estimador de θ (theta): {theta_estimado:.6f}\")\n"
      ],
      "metadata": {
        "id": "B9wRLkYaNsp9",
        "outputId": "a03cd116-aef1-4e01-d4e4-e1bb428fcfe6",
        "colab": {
          "base_uri": "https://localhost:8080/"
        }
      },
      "id": "B9wRLkYaNsp9",
      "execution_count": null,
      "outputs": [
        {
          "output_type": "stream",
          "name": "stdout",
          "text": [
            "Estimador de la media (método de momentos): 363.50 minutos\n",
            "Estimador de θ (theta): 0.002751\n"
          ]
        }
      ]
    },
    {
      "cell_type": "markdown",
      "id": "81b2cc33-73c5-4e8d-b100-76bd737196f2",
      "metadata": {
        "id": "81b2cc33-73c5-4e8d-b100-76bd737196f2"
      },
      "source": [
        "Ejercicio. Sea una muestra aleatoria $X_1, \\ldots, X_n \\overset{iid}{\\sim} \\mathcal{N}(\\mu, \\sigma^2) $.\n",
        "Queremos encontrar el estimador de máxima verosimilitud para $\\mu$ y $\\sigma^2$.\n",
        "\n",
        "La función de densidad es:\n",
        "$$ f(x; \\mu, \\sigma^2) = \\frac{1}{\\sqrt{2\\pi \\sigma^2}} \\exp\\left(-\\frac{(x - \\mu)^2}{2\\sigma^2}\\right) \\cdot \\mathbf{1}_{(-\\infty, \\infty)}(x)$$"
      ]
    },
    {
      "cell_type": "markdown",
      "source": [
        "La verosimilitud conjunta para $n$ observaciones es:\n",
        "\n",
        "$$ L(\\mu,\\sigma^{2}) = \\prod_{i=1}^n f(x_i;\\mu,\\sigma^{2}) = \\left(\\frac{1}{\\sqrt 2\\pi\\sigma^{2}} \\right)^{n} exp \\left( - \\frac{1}{2\\sigma^{2}} \\sum_{i=1}^{n} (x_{i} - \\mu)^{2} \\right)$$\n",
        "\n",
        "Tomamos logaritmo para facilitar la derivación:\n",
        "\n",
        "$$\\ell(\\mu,\\sigma^{2})= Log\\: L(\\mu,\\sigma^{2}) = - \\frac{n}{2} log\\:(2\\pi) - \\frac{n}{2}log\\:(\\sigma^{2})  - \\frac{1}{2\\sigma^{2}}\\sum_{i=1}^{n} (x_{i} - \\mu)^{2}$$\n",
        "\n",
        "Derivamos e igualamos a cero:\n",
        "\n",
        "Derivada con respecto a $\\mu$\n",
        "\n",
        "$$\\frac{\\partial \\ell}{\\partial \\mu} = \\frac{1}{\\sigma^{2}} \\sum_{i=1}^{n} (x_{i} - \\mu) = 0 \\Rightarrow \\hat{\\mu} = \\frac{1}{n} \\sum_{i=1}^{n} x_{i}$$\n",
        "\n",
        "Derivada con respecto a $\\sigma^{2}$\n",
        "\n",
        "$$\\frac{\\partial \\ell}{\\partial \\sigma^{2}} = - \\frac{n}{2\\sigma^{2}} + \\frac{1}{2\\sigma^{4}} \\sum_{i=1}^{n} (x_{i} - \\mu)^{2} = 0 \\Rightarrow \\hat{\\sigma}^{2} = \\frac{1}{n} \\sum_{i=1}^{n} (x_{i} - \\hat{\\mu})^{2}$$\n"
      ],
      "metadata": {
        "id": "sGuruXdMVTiv"
      },
      "id": "sGuruXdMVTiv"
    },
    {
      "cell_type": "code",
      "source": [
        "import numpy as np\n",
        "\n",
        "# Datos de la muestra (ejemplo de datos aleatorios)\n",
        "muestra = np.array([2.3, 4.1, 5.2, 3.8, 6.1, 7.3, 8.0, 5.5, 4.2, 3.7])\n",
        "\n",
        "# Estimador de la media (MLE)\n",
        "mu_mle = np.mean(muestra)\n",
        "\n",
        "# Estimador de la varianza (MLE)\n",
        "sigma2_mle = np.mean((muestra - mu_mle) ** 2)\n",
        "\n",
        "# Mostrar los resultados\n",
        "print(f\"Estimador de la media (MLE): {mu_mle:.4f}\")\n",
        "print(f\"Estimador de la varianza (MLE): {sigma2_mle:.4f}\")"
      ],
      "metadata": {
        "id": "5K_27AqWVCAM",
        "outputId": "6c1d9bd1-54d9-46e9-c5b6-3ca4329b9e0a",
        "colab": {
          "base_uri": "https://localhost:8080/"
        }
      },
      "id": "5K_27AqWVCAM",
      "execution_count": null,
      "outputs": [
        {
          "output_type": "stream",
          "name": "stdout",
          "text": [
            "Estimador de la media (MLE): 5.0200\n",
            "Estimador de la varianza (MLE): 2.7656\n"
          ]
        }
      ]
    },
    {
      "cell_type": "markdown",
      "id": "0a99fcb3-17fa-4306-9d33-92b9d3087347",
      "metadata": {
        "id": "0a99fcb3-17fa-4306-9d33-92b9d3087347"
      },
      "source": [
        "Ejercicio (Python). Suponga que la vida util de los focos de cierta marca, se modela mediante una distribución expoencial de parametro $\\theta$ (desconocido). Probamos 5 focos y encontramos que tienen una vida útil de $2,3,1,3$ y $5$ años, respectivamente. ¿Cuál es el MLE para $\\theta$?"
      ]
    },
    {
      "cell_type": "markdown",
      "source": [
        "La función de densidad es:\n",
        "\n",
        "$$f(x;\\theta) = \\theta e ^{-\\theta x}, x \\ge 0, \\theta >0$$\n",
        "\n",
        "Para una muestra $x_{1}, ..., x_{n} \\sim Exp(\\theta)$, la función de log-verosimilitud es:\n",
        "\n",
        "$$ \\ell (\\theta) = n \\: log \\:\\theta - \\theta \\sum_{i=1}^{n} x_{i}$$\n",
        "\n",
        "Derivamos con respecto a $\\theta$ e igualamos a cero:\n",
        "\n",
        "$$\\frac{\\mathscr{d}\\ell}{\\mathscr{d}\\theta} = \\frac{n}{\\theta} - \\sum x_{i} = 0 \\Rightarrow \\hat{\\theta}_{MLE} = \\frac{n}{\\sum x_{i}}$$\n",
        "\n",
        "Lo aplicamos a los datos (2, 3, 1, 3, 5):\n",
        "\n",
        "Entonces n = 15, $\\sum x_{i} = 14$\n",
        "\n",
        "$$\\hat{\\theta}_{MLE} = \\frac{5}{14} \\approx 0.3571$$\n"
      ],
      "metadata": {
        "id": "-WMaw3ZxluOa"
      },
      "id": "-WMaw3ZxluOa"
    },
    {
      "cell_type": "code",
      "source": [
        "# Datos de la vida útil de los focos (en años)\n",
        "datos = [2, 3, 1, 3, 5]\n",
        "\n",
        "# Número de observaciones\n",
        "n = len(datos)\n",
        "\n",
        "# Suma de las observaciones\n",
        "suma_datos = sum(datos)\n",
        "\n",
        "# Estimador MLE de theta\n",
        "theta_mle = n / suma_datos\n",
        "\n",
        "# Mostrar resultado\n",
        "print(f\"Estimador MLE de θ: {theta_mle:.4f}\")"
      ],
      "metadata": {
        "id": "WAsaZqUBlpTz",
        "outputId": "7268a145-375c-4de0-f492-fa17dea46195",
        "colab": {
          "base_uri": "https://localhost:8080/"
        }
      },
      "id": "WAsaZqUBlpTz",
      "execution_count": null,
      "outputs": [
        {
          "output_type": "stream",
          "name": "stdout",
          "text": [
            "Estimador MLE de θ: 0.3571\n"
          ]
        }
      ]
    },
    {
      "cell_type": "markdown",
      "id": "48b6aa56-e012-4227-8aaf-0ed8387704fb",
      "metadata": {
        "id": "48b6aa56-e012-4227-8aaf-0ed8387704fb"
      },
      "source": [
        "Ejercicio. Sea $(x_{1}, ..., x_{n})$ una m.a.\n",
        "\n",
        "$$f(x;\\theta) = \\theta(1+x)^{-(1+\\theta)} \\upharpoonleft\\mid _{\\{0,\\infty\\}}^{(x)}, \\theta > 0$$\n",
        "\n",
        "Estimar $\\theta$ por momentos asumiendo que $\\theta$ > 1"
      ]
    },
    {
      "cell_type": "markdown",
      "source": [
        "**Solución:**\n",
        "\n",
        "**Paso 1:** Calcular $\\mathbb{E}[X]$\n",
        "\n",
        "Calculamos la esperanza teórica:\n",
        "\n",
        "$$\n",
        "\\mathbb{E}[X] = \\int_0^\\infty x \\cdot \\theta(1 + x)^{-(1 + \\theta)} \\, dx = \\frac{1}{\\theta - 1}, \\quad \\text{para } \\theta > 1\n",
        "$$\n",
        "\n",
        "**Paso 2:** Igualar con la media muestral\n",
        "\n",
        "Usamos el método de los momentos, igualando la esperanza con la media muestral $\\bar{x}$:\n",
        "\n",
        "$$\n",
        "\\bar{x} = \\frac{1}{\\theta - 1}\n",
        "$$\n",
        "\n",
        "Despejando $\\theta$:\n",
        "\n",
        "$$\n",
        "\\hat{\\theta} = 1 + \\frac{1}{\\bar{x}}\n",
        "$$\n",
        "\n",
        "**Por lo tanto, la estimación por momentos de $\\theta$ es:**\n",
        "\n",
        "$$\n",
        "\\boxed{\\hat{\\theta} = 1 + \\frac{1}{\\bar{x}}}\n",
        "$$"
      ],
      "metadata": {
        "id": "e5tmTnhc3kTg"
      },
      "id": "e5tmTnhc3kTg"
    },
    {
      "cell_type": "code",
      "source": [
        "import numpy as np\n",
        "\n",
        "# Datos de ejemplo (puedes reemplazarlos por tu muestra real)\n",
        "x = np.array([1.2, 0.7, 2.1, 3.4, 0.9])  # Ejemplo\n",
        "\n",
        "# Media muestral\n",
        "x_bar = np.mean(x)\n",
        "\n",
        "# Estimación por momentos de theta\n",
        "theta_hat = 1 + 1 / x_bar\n",
        "\n",
        "print(f\"Media muestral: {x_bar:.4f}\")\n",
        "print(f\"Estimación por momentos de θ: {theta_hat:.4f}\")"
      ],
      "metadata": {
        "id": "dxGGKgvx406Z"
      },
      "id": "dxGGKgvx406Z",
      "execution_count": null,
      "outputs": []
    }
  ],
  "metadata": {
    "kernelspec": {
      "display_name": "Python [conda env:base] *",
      "language": "python",
      "name": "conda-base-py"
    },
    "language_info": {
      "codemirror_mode": {
        "name": "ipython",
        "version": 3
      },
      "file_extension": ".py",
      "mimetype": "text/x-python",
      "name": "python",
      "nbconvert_exporter": "python",
      "pygments_lexer": "ipython3",
      "version": "3.12.7"
    },
    "colab": {
      "provenance": [],
      "include_colab_link": true
    }
  },
  "nbformat": 4,
  "nbformat_minor": 5
}