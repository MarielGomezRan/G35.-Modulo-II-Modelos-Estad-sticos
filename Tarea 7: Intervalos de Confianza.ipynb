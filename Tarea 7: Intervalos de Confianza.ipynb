{
  "nbformat": 4,
  "nbformat_minor": 0,
  "metadata": {
    "colab": {
      "provenance": [],
      "include_colab_link": true
    },
    "kernelspec": {
      "name": "python3",
      "display_name": "Python 3"
    },
    "language_info": {
      "name": "python"
    }
  },
  "cells": [
    {
      "cell_type": "markdown",
      "metadata": {
        "id": "view-in-github",
        "colab_type": "text"
      },
      "source": [
        "<a href=\"https://colab.research.google.com/github/MarielGomezRan/G35.-Modulo-II-Modelos-Estad-sticos/blob/main/Tarea%207%3A%20Intervalos%20de%20Confianza.ipynb\" target=\"_parent\"><img src=\"https://colab.research.google.com/assets/colab-badge.svg\" alt=\"Open In Colab\"/></a>"
      ]
    },
    {
      "cell_type": "markdown",
      "metadata": {
        "id": "lU2x5qpOHS_Y"
      },
      "source": [
        "# Tarea. Intervalos de confianza"
      ]
    },
    {
      "cell_type": "markdown",
      "source": [
        "### **EQUIPO 4: Ejercicio**\n",
        "###INTEGRANTES:\n",
        "* GÓMEZ RANGEL MARIEL\n",
        "* JIMENEZ GARCIA FABIOLA LIZETH\n",
        "* MENESES HERNÁNDEZ JOSE GABRIEL\n",
        "* PAREDES REYES CINDY ELIDEY\n",
        "* ROBLES SÁNCHEZ TAHIRI"
      ],
      "metadata": {
        "id": "iPRPH1EH4uR0"
      }
    },
    {
      "cell_type": "code",
      "execution_count": null,
      "metadata": {
        "id": "02db30e8-0f1b-4960-bb22-d24bc200e8e8"
      },
      "outputs": [],
      "source": [
        "import numpy as np\n",
        "import matplotlib.pyplot as plt\n",
        "import scipy.stats as st"
      ]
    },
    {
      "cell_type": "markdown",
      "source": [
        "**Ejercicio** En una encuesta de una Universidad, 225 estudiantes son seleccionados al azar de los que toman cálculo y se les pregunta si cálculo es su materia favorita. 100 estudiantes responden que el cálculo es su materia favorita. Proporcione un intervalo de confianza del 95 %  para la proporción de todos los estudiantes que toman cálculo y que la consideran su materia favorita.  "
      ],
      "metadata": {
        "id": "b_Jv18Om4-IC"
      }
    },
    {
      "cell_type": "code",
      "source": [
        "# Datos\n",
        "n = 225\n",
        "x = 100\n",
        "confianza = 0.95\n",
        "alpha = 1 - confianza\n",
        "\n",
        "# Calcular el intervalo de confianza\n",
        "p_hat = x / n\n",
        "error_estandar = np.sqrt((p_hat * (1 - p_hat)) / n)\n",
        "valor_critico = st.norm.ppf(1 - alpha / 2)\n",
        "margen_error = valor_critico * error_estandar\n",
        "limite_inferior = p_hat - margen_error\n",
        "limite_superior = p_hat + margen_error\n",
        "print(f\"Intervalo de confianza del {confianza*100}% para la proporción: ({limite_inferior:.4f}, {limite_superior:.4f})\")"
      ],
      "metadata": {
        "colab": {
          "base_uri": "https://localhost:8080/"
        },
        "id": "Jh2VN2oh97Qk",
        "outputId": "94d1ef73-b51f-4166-d1b6-b151693cf4d2"
      },
      "execution_count": null,
      "outputs": [
        {
          "output_type": "stream",
          "name": "stdout",
          "text": [
            "Intervalo de confianza del 95.0% para la proporción: (0.3795, 0.5094)\n"
          ]
        }
      ]
    },
    {
      "cell_type": "markdown",
      "source": [
        "**Ejercicio** Los datos $1.2,\\ 2.1,\\ 2.3,\\ 1.9,\\ 3.0,\\ 1.5,\\ 2.8,\\ 2.4,\\ 1.7,\\ 2.6,\\ 2.0,\\ 1.8,\\ 3.1,\\ 2.2,\\ 2.5$ se toman a partir de una distribución normal $N(\\mu,\\sigma^2)$ con $\\mu$ desconocida.\n",
        "\n",
        "**a)** Encuentra un intervalo de confianza al nivel de $90\\%$ para $\\mu$, dado que $\\sigma =2$.\n",
        "\n",
        "**b)** Encuentra un intervalo de confianza al nivel de $90\\%$ para $\\mu$.\n",
        "\n",
        "**c)** Encuentra un intervalo de confianza al nivel de $90\\%$ para $\\sigma^2$."
      ],
      "metadata": {
        "id": "lGl4bPW665jL"
      }
    },
    {
      "cell_type": "code",
      "source": [
        "# Datos\n",
        "data = np.array([1.2, 2.1, 2.3, 1.9, 3.0, 1.5, 2.8, 2.4, 1.7, 2.6, 2.0, 1.8, 3.1, 2.2, 2.5])\n",
        "n = len(data)\n",
        "confianza = 0.90\n",
        "alpha = 1 - confianza\n",
        "media_muestral = np.mean(data)\n",
        "grados_libertad = n - 1\n",
        "\n",
        "# a) Intervalo de confianza para μ con σ = 2 (conocida)\n",
        "sigma_conocida = 2\n",
        "valor_critico_z = st.norm.ppf(1 - alpha / 2)\n",
        "error_estandar_z = sigma_conocida / np.sqrt(n)\n",
        "margen_error_z = valor_critico_z * error_estandar_z\n",
        "limite_inferior_z = media_muestral - margen_error_z\n",
        "limite_superior_z = media_muestral + margen_error_z\n",
        "print(f\"a) Intervalo de confianza del {confianza*100}% para μ (σ conocida): ({limite_inferior_z:.2f}, {limite_superior_z:.2f})\")\n",
        "\n",
        "# b) Intervalo de confianza para μ con σ desconocida\n",
        "desviacion_estandar_muestral = np.std(data, ddof=1)\n",
        "valor_critico_t = st.t.ppf(1 - alpha / 2, grados_libertad)\n",
        "error_estandar_t = desviacion_estandar_muestral / np.sqrt(n)\n",
        "margen_error_t = valor_critico_t * error_estandar_t\n",
        "limite_inferior_t = media_muestral - margen_error_t\n",
        "limite_superior_t = media_muestral + margen_error_t\n",
        "print(f\"b) Intervalo de confianza del {confianza*100}% para μ (σ desconocida): ({limite_inferior_t:.2f}, {limite_superior_t:.2f})\")\n",
        "\n",
        "# c) Intervalo de confianza para σ²\n",
        "varianza_muestral = np.var(data, ddof=1)\n",
        "chi2_inferior = st.chi2.ppf(alpha / 2, grados_libertad)\n",
        "chi2_superior = st.chi2.ppf(1 - alpha / 2, grados_libertad)\n",
        "limite_inferior_varianza = (n - 1) * varianza_muestral / chi2_superior\n",
        "limite_superior_varianza = (n - 1) * varianza_muestral / chi2_inferior\n",
        "print(f\"c) Intervalo de confianza del {confianza*100}% para μ (σ conocida): ({limite_inferior_varianza:.2f}, {limite_superior_varianza:.2f})\")\n"
      ],
      "metadata": {
        "colab": {
          "base_uri": "https://localhost:8080/"
        },
        "id": "jgtswhBj8JA0",
        "outputId": "ce425650-a451-411e-bfb3-d58a746d49dd"
      },
      "execution_count": null,
      "outputs": [
        {
          "output_type": "stream",
          "name": "stdout",
          "text": [
            "a) Intervalo de confianza del 90.0% para μ (σ conocida): (1.36, 3.06)\n",
            "b) Intervalo de confianza del 90.0% para μ (σ desconocida): (1.96, 2.45)\n",
            "c) Intervalo de confianza del 90.0% para μ (σ conocida): (0.18, 0.63)\n"
          ]
        }
      ]
    },
    {
      "cell_type": "markdown",
      "source": [
        "**Ejercicio** Los ingresos semanales promedio de las personas que trabajan en varias industrias aparecieron en el *The New York Times 1988 Almanac*.  \n",
        "Esos ingresos para quienes trabajan en los servicios fueron de $\\$369$. Suponga que este resultado se basó en una muestra de 250 personas dedicadas a los servicios y que la desviación estándar de la muestra fue de $\\$50$. Calcula el intervalo de confianza del 95% para la media de la población de ingresos semanales de personas que trabajan en los servicios."
      ],
      "metadata": {
        "id": "CNKO3DmD85tb"
      }
    },
    {
      "cell_type": "code",
      "source": [
        "# Datos\n",
        "media_muestral = 369\n",
        "n = 250\n",
        "desviacion_estandar_muestral = 50\n",
        "confianza = 0.95\n",
        "alpha = 1 - confianza\n",
        "\n",
        "# Calcular el error estándar\n",
        "error_estandar = desviacion_estandar_muestral / np.sqrt(n)\n",
        "\n",
        "# Calcular el intervalo de confianza\n",
        "intervalo = st.norm.interval(confidence=confianza, loc=media_muestral, scale=error_estandar)\n",
        "\n",
        "print(f\"Intervalo de confianza del {confianza*100}% para la media de la población: ({limite_inferior:.2f}, {limite_superior:.2f})\")"
      ],
      "metadata": {
        "colab": {
          "base_uri": "https://localhost:8080/"
        },
        "id": "Q6DoDcn087GE",
        "outputId": "efabe92c-e80d-4ded-9b1d-dee196a6c5b8"
      },
      "execution_count": null,
      "outputs": [
        {
          "output_type": "stream",
          "name": "stdout",
          "text": [
            "Intervalo de confianza del 95.0% para la media de la población: (362.80, 375.20)\n"
          ]
        }
      ]
    },
    {
      "cell_type": "markdown",
      "source": [
        "**Ejercicio** En un estudio de préstamos a estudiantes, el Departamento de Educación informó que los beneficiarios del fondo Stafford Loan deberían un promedio de \\$12,658 al recibirse (*USA Today*, 5 de abril de 1995). Suponga que este promedio de deuda se basa en una muestra de 480 préstamos a estudiantes y que la desviación estándar de la población de las deudas al recibirse es \\$2,000.\n",
        "\n",
        "**a)** Determina un estimado de confianza del **90%** del promedio poblacional de la deuda.\n",
        "\n",
        "**b)** Determina un estimado de confianza del **95%** del promedio poblacional de la deuda.\n",
        "\n",
        "**c)** Determina un estimado de confianza del **99%** del promedio poblacional de la deuda.\n",
        "\n",
        "**d)** Describe lo que sucede con el **ancho del intervalo de confianza** a medida que se **aumenta el nivel de confianza**. ¿Parece razonable? Explica tu respuesta."
      ],
      "metadata": {
        "id": "BovK0JMl-vsd"
      }
    },
    {
      "cell_type": "code",
      "source": [
        "# a)\n",
        "# Datos\n",
        "media_muestral = 12658\n",
        "n = 480\n",
        "sigma = 2000\n",
        "confianza = 0.90\n",
        "alpha = 1 - confianza\n",
        "\n",
        "valor_critico = st.norm.ppf(1 - alpha / 2)\n",
        "error_estandar = sigma / np.sqrt(n)\n",
        "margen_error = valor_critico * error_estandar\n",
        "intervalo = (media_muestral - margen_error, media_muestral + margen_error)\n",
        "print(f\"a) Intervalo de confianza del 90%: ({intervalo[0]:.2f}, {intervalo[1]:.2f})\")\n",
        "\n",
        "# b)\n",
        "# Datos\n",
        "confianza = 0.95\n",
        "alpha = 1 - confianza\n",
        "valor_critico = st.norm.ppf(1 - alpha / 2)\n",
        "error_estandar = sigma / np.sqrt(n)\n",
        "margen_error = valor_critico * error_estandar\n",
        "intervalo = (media_muestral - margen_error, media_muestral + margen_error)\n",
        "print(f\"b) Intervalo de confianza del 95%: ({intervalo[0]:.2f}, {intervalo[1]:.2f})\")\n",
        "\n",
        "# c)\n",
        "# Datos\n",
        "confianza = 0.99\n",
        "alpha = 1 - confianza\n",
        "valor_critico = st.norm.ppf(1 - alpha / 2)\n",
        "error_estandar = sigma / np.sqrt(n)\n",
        "margen_error = valor_critico * error_estandar\n",
        "intervalo = (media_muestral - margen_error, media_muestral + margen_error)\n",
        "print(f\"c) Intervalo de confianza del 99%: ({intervalo[0]:.2f}, {intervalo[1]:.2f})\")\n",
        "\n",
        "# d)\n",
        "print(\"d) A medida que se aumenta el nivel de confianza, el ancho del intervalo de confianza aumenta.\\n Esto parece razonable porque un nivel de confianza más alto requiere un rango más amplio para tener una mayor probabilidad de contener la verdadera media poblacional.\")\n",
        "\n"
      ],
      "metadata": {
        "colab": {
          "base_uri": "https://localhost:8080/"
        },
        "id": "o6x1Uh2V-wp8",
        "outputId": "144d60eb-0cf5-48c6-e9b3-83271833c9d9"
      },
      "execution_count": null,
      "outputs": [
        {
          "output_type": "stream",
          "name": "stdout",
          "text": [
            "a) Intervalo de confianza del 90%: (12507.85, 12808.15)\n",
            "b) Intervalo de confianza del 95%: (12479.08, 12836.92)\n",
            "c) Intervalo de confianza del 99%: (12422.86, 12893.14)\n",
            "d) A medida que se aumenta el nivel de confianza, el ancho del intervalo de confianza aumenta.\n",
            " Esto parece razonable porque un nivel de confianza más alto requiere un rango más amplio para tener una mayor probabilidad de contener la verdadera media poblacional.\n"
          ]
        }
      ]
    },
    {
      "cell_type": "markdown",
      "source": [
        "**Ejercicio** La encuesta anual de calidad de automóviles, efectuada por *J. D. Power & Associates*, determinó que la cantidad promedio de defectos, en todas las marcas, por cada vehículo nuevo es **1.07**  (*The Wall Street Journal*, 27 de enero de 1994). Suponga que se toma una muestra de **30 automóviles nuevos** de determinada marca y se obtienen las siguientes cantidades de defectos por vehículo:\n",
        "$$ 0, 1, 1, 2, 1, 0, 2, 3, 2, 1, 0, 2, 0, 0, 2, 3, 0, 4, 3, 1, 1, 1, 0, 2, 0, 2, 0, 3, 1, 0 $$\n",
        "\n",
        "**a)** ¿Cuál es el promedio muestral de la cantidad de defectos por vehículo?\n",
        "\n",
        "**b)** ¿Cuál es la desviación estándar de la muestra?\n",
        "\n",
        "**c)** Determine un intervalo de confianza del 95% para la **media de defectos** por vehículo de esta marca.\n",
        "\n",
        "**d)** Un analista sugirió que se debería **revisar una muestra mayor** antes de comparar con el promedio general de J.D. Power (1.07). ¿Respalda usted esta idea? ¿Por qué?"
      ],
      "metadata": {
        "id": "BV-pLKnSBOfX"
      }
    },
    {
      "cell_type": "code",
      "source": [
        "# Datos\n",
        "defectos = np.array([0, 1, 1, 2, 1, 0, 2, 3, 2, 1, 0, 2, 0, 0, 2, 3, 0, 4, 3, 1, 1, 1, 0, 2, 0, 2, 0, 3, 1, 0])\n",
        "n = len(defectos)\n",
        "confianza = 0.95\n",
        "alpha = 1 - confianza\n",
        "grados_libertad = n - 1\n",
        "\n",
        "# a) Promedio muestral\n",
        "promedio_muestral = np.mean(defectos)\n",
        "print(f\"a) Promedio muestral: {promedio_muestral:.2f}\")\n",
        "\n",
        "# b) Desviación estándar muestral\n",
        "desviacion_estandar_muestral = np.std(defectos, ddof=1)\n",
        "print(f\"b) Desviación estándar de la muestra: {desviacion_estandar_muestral:.2f}\")\n",
        "\n",
        "# c) Intervalo de confianza del 95% para la media\n",
        "valor_critico_t = st.t.ppf(1 - alpha / 2, grados_libertad)\n",
        "error_estandar = desviacion_estandar_muestral / np.sqrt(n)\n",
        "margen_error = valor_critico_t * error_estandar\n",
        "intervalo_confianza = (promedio_muestral - margen_error, promedio_muestral + margen_error)\n",
        "print(f\"c) Intervalo de confianza del 95% para la media: ({intervalo_confianza[0]:.2f}, {intervalo_confianza[1]:.2f})\")\n",
        "\n",
        "print(\"d) Sí, respaldo la idea de revisar una muestra mayor. Una muestra más grande proporcionaría una estimación más precisa y confiable de la media poblacional,\\n lo que permitiría una comparación más significativa con el promedio general de J.D. Power.\")"
      ],
      "metadata": {
        "colab": {
          "base_uri": "https://localhost:8080/"
        },
        "id": "TzdSX84FBQ-8",
        "outputId": "f1d3e72e-2f94-4b50-8992-67b7ce3532a5"
      },
      "execution_count": null,
      "outputs": [
        {
          "output_type": "stream",
          "name": "stdout",
          "text": [
            "a) Promedio muestral: 1.27\n",
            "b) Desviación estándar de la muestra: 1.17\n",
            "c) Intervalo de confianza del 95% para la media: (0.83, 1.70)\n",
            "d) Sí, respaldo la idea de revisar una muestra mayor. Una muestra más grande proporcionaría una estimación más precisa y confiable de la media poblacional,\n",
            " lo que permitiría una comparación más significativa con el promedio general de J.D. Power.\n"
          ]
        }
      ]
    },
    {
      "cell_type": "markdown",
      "source": [
        "**Ejercicio** Un artículo que apareció en el ejemplar de noviembre de 1983 de *Consumer Reports* comparó varios tipos de baterías.  \n",
        "Se informó que los siguientes datos provienen de una muestra de 20 baterías (en horas de duración):\n",
        "$$ [2200, 2290, 2390, 2410, 2480, 2500, 2580, 2700, 2030, 2100, 2190, 1600, 1740, 1900, 1930, 2000, 1510, 1470, 1770, 1710] $$\n",
        "Determine la media muestral, la desviación estándar muestral, y el intervalo de confianza del **90%** para la media poblacional."
      ],
      "metadata": {
        "id": "CgJAbYhPCUhd"
      }
    },
    {
      "cell_type": "code",
      "source": [
        "# Datos\n",
        "duraciones = np.array([2200, 2290, 2390, 2410, 2480, 2500, 2580, 2700, 2030, 2100, 2190, 1600, 1740, 1900, 1930, 2000, 1510, 1470, 1770, 1710])\n",
        "n = len(duraciones)\n",
        "confianza = 0.90\n",
        "alpha = 1 - confianza\n",
        "grados_libertad = n - 1\n",
        "\n",
        "# Calcular la media muestral\n",
        "media_muestral = np.mean(duraciones)\n",
        "print(f\"Media muestral: {media_muestral:.2f}\")\n",
        "\n",
        "# Calcular la desviación estándar muestral\n",
        "desviacion_estandar_muestral = np.std(duraciones, ddof=1)\n",
        "print(f\"Desviación estándar muestral: {desviacion_estandar_muestral:.2f}\")\n",
        "\n",
        "# Calcular el intervalo de confianza del 90% para la media poblacional\n",
        "valor_critico_t = st.t.ppf(1 - alpha / 2, grados_libertad)\n",
        "error_estandar = desviacion_estandar_muestral / np.sqrt(n)\n",
        "margen_error = valor_critico_t * error_estandar\n",
        "intervalo_confianza = (media_muestral - margen_error, media_muestral + margen_error)\n",
        "print(f\"Intervalo de confianza del 90%: ({intervalo_confianza[0]:.2f}, {intervalo_confianza[1]:.2f})\")"
      ],
      "metadata": {
        "colab": {
          "base_uri": "https://localhost:8080/"
        },
        "id": "oWl8ThsaCVvc",
        "outputId": "a11339cc-f017-4e79-f15e-db0eaa5899c5"
      },
      "execution_count": null,
      "outputs": [
        {
          "output_type": "stream",
          "name": "stdout",
          "text": [
            "Media muestral: 2075.00\n",
            "Desviación estándar muestral: 368.93\n",
            "Intervalo de confianza del 90%: (1932.35, 2217.65)\n"
          ]
        }
      ]
    },
    {
      "cell_type": "markdown",
      "source": [
        "**Ejercicio** El toxafen es un insecticida que ha sido identificado como contaminante en el ecosistema de los Grandes Lagos.  \n",
        "Para investigar el efecto de la exposición al toxafen en animales, a grupos de ratas se les administró toxafen en su dieta.\n",
        "\n",
        "El artículo *\"Reproduction Study of Toxaphene in Rat\"* reporta **aumentos de peso (en gramos)** de ratas a las que se les administró una **dosis baja (4 ppm)** y de ratas de **control** cuya dieta no incluía el insecticida.\n",
        "\n",
        "- En el grupo **control**, una muestra de **23 ratas hembras** tuvo una media de **$\\bar{X_2} = 210$ g** y una desviación estándar de **32 g**.\n",
        "- En el grupo con **dosis baja**, una muestra de **20 ratas hembras** tuvo una media de **$\\bar{X_1} = 190$ g** y una desviación estándar de **54 g**.\n",
        "\n",
        "Encuentra un **intervalo de confianza del 90% para la diferencia de medias** poblacionales:  $\\mu_1 - \\mu_2$, donde:\n",
        "\n",
        "- $\\mu_1$ es la media poblacional de incremento de peso en el grupo con **dosis baja**.\n",
        "- $\\mu_2$ es la media poblacional de incremento de peso en el grupo **control**.\n",
        "\n",
        "¿Sugiere este intervalo que el toxafen **reduce** el incremento de peso en ratas?  \n",
        "¿Incluye el intervalo el valor 0? ¿Por qué es importante?"
      ],
      "metadata": {
        "id": "2trPUTJ8C70-"
      }
    },
    {
      "cell_type": "code",
      "source": [
        "# Datos 1\n",
        "n1 = 20\n",
        "media1 = 190\n",
        "std1 = 54\n",
        "\n",
        "# Datos 2\n",
        "n2 = 23\n",
        "media2 = 210\n",
        "std2 = 32\n",
        "\n",
        "# Calcular la diferencia de medias\n",
        "diff_mean = media1 - media2\n",
        "\n",
        "# Calcular el error estándar de la diferencia de medias (varianzas no asumidas iguales)\n",
        "std_err_diff = np.sqrt((std1**2 / n1) + (std2**2 / n2))\n",
        "\n",
        "# Calcular los grados de libertad (aproximación de Welch)\n",
        "numerator = (std1**2 / n1 + std2**2 / n2)**2\n",
        "denominator = (std1**2 / n1)**2 / (n1 - 1) + (std2**2 / n2)**2 / (n2 - 1)\n",
        "df = numerator / denominator\n",
        "\n",
        "# Nivel de confianza\n",
        "confidence_level = 0.90\n",
        "alpha = 1 - confidence_level\n",
        "\n",
        "# Encontrar el valor crítico de t\n",
        "critical_t = stats.t.ppf(1 - alpha / 2, df)\n",
        "\n",
        "# Calcular el margen de error\n",
        "margin_of_error = critical_t * std_err_diff\n",
        "\n",
        "# Calcular el intervalo de confianza\n",
        "confidence_interval = (diff_mean - margin_of_error, diff_mean + margin_of_error)\n",
        "\n",
        "print(f\"Intervalo de confianza del 90%: ({confidence_interval[0]:.2f}, {confidence_interval[1]:.2f}) \")\n",
        "print(\"\\nEl intervalo incluye el valor 0. \\n\\nEs importante porque sugiere que no hay una diferencia significativa en el incremento de \\npeso entre los grupos al nivel de confianza del 90%, por lo que no podemos concluir que el toxafen reduce o aumenta el peso.\")\n",
        "\n",
        "    #print(\"Esto es importante porque sugiere que no hay una diferencia significativa en el incremento de \\npeso entre los grupos al nivel de confianza del 90%, por lo que no podemos concluir que el toxafen reduce o aumenta el peso.\")\n",
        "\n"
      ],
      "metadata": {
        "colab": {
          "base_uri": "https://localhost:8080/"
        },
        "id": "PgY8jN9SG1Bf",
        "outputId": "1264116a-1b3a-437e-a601-c68e6659e499"
      },
      "execution_count": null,
      "outputs": [
        {
          "output_type": "stream",
          "name": "stdout",
          "text": [
            "Intervalo de confianza del 90%: (-43.42, 3.42) \n",
            "\n",
            "El intervalo incluye el valor 0. \n",
            "\n",
            "Es importante porque sugiere que no hay una diferencia significativa en el incremento de \n",
            "peso entre los grupos al nivel de confianza del 90%, por lo que no podemos concluir que el toxafen reduce o aumenta el peso.\n"
          ]
        }
      ]
    }
  ]
}