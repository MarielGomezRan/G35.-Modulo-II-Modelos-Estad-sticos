{
  "nbformat": 4,
  "nbformat_minor": 0,
  "metadata": {
    "colab": {
      "provenance": [],
      "include_colab_link": true
    },
    "kernelspec": {
      "name": "python3",
      "display_name": "Python 3"
    },
    "language_info": {
      "name": "python"
    }
  },
  "cells": [
    {
      "cell_type": "markdown",
      "metadata": {
        "id": "view-in-github",
        "colab_type": "text"
      },
      "source": [
        "<a href=\"https://colab.research.google.com/github/MarielGomezRan/G35.-Modulo-II-Modelos-Estad-sticos/blob/main/Tarea%203%3A%20Variables%20Aleatorias%20Discretas.ipynb\" target=\"_parent\"><img src=\"https://colab.research.google.com/assets/colab-badge.svg\" alt=\"Open In Colab\"/></a>"
      ]
    },
    {
      "cell_type": "markdown",
      "source": [
        "# **EQUIPO 4**\n",
        "##INTEGRANTES:\n",
        "* GÓMEZ RANGEL MARIEL\n",
        "* JIMENEZ GARCÍA FABIOLA LIZETH\n",
        "* MENESES HERNÁNDEZ JOSE GABRIEL\n",
        "* PAREDES REYES CINDY ELIDEY\n",
        "* ROBLES SÁNCHEZ TAHIRI"
      ],
      "metadata": {
        "id": "Ag5453V_D_j4"
      }
    },
    {
      "cell_type": "markdown",
      "source": [
        "$\\color{red}{\\text{Ejercicio 1.}}$ Verifica que, en efecto, la esperanza y varianza de una variable aleatoria uniforme."
      ],
      "metadata": {
        "id": "gHsysc5caCNJ"
      }
    },
    {
      "cell_type": "markdown",
      "source": [
        "## Variable aleatoria uniforme discreta\n",
        "\n",
        "Una variable aleatoria $X$ tiene distribución uniforme discreta en el conjunto $\\{x_{1},\\dots,x_{n}\\}$ si su función de masa de probabilidades está dada por\n",
        "$$f_{X}(k)=\\mathbb{P}(X=k)=\\begin{cases}\n",
        "\\frac{1}{n} &\\quad \\text{si } k\\in\\{x_{1},\\dots,x_{n}\\} \\\\\n",
        "0 &\\quad \\text{en otro caso}\n",
        "\\end{cases}$$\n",
        "\n",
        "**Notación:** $X\\sim Unif(x_{1},\\dots,x_{n}).$\n",
        "\n",
        "Se llama uniforme porque cada uno de los posibles valores de $X$ tienen la misma probabilidad.\n",
        "\n",
        "Si $X\\sim Unif(x_{1},\\dots,x_{n})$, en este caso, se tiene:\n",
        "\t$$\\mathbb{E}[X] = \\sum_{k}kf_{X}(k)=\\frac{x_n + x_1}{2}.$$\n",
        "\ty\n",
        "\t$$\\text{Var}(X) = \\mathbb{E}[(X-\\mathbb{E}[X])^{2}] =\\sum_{k}(k-\\mathbb{E}[X])^{2}f_{X}(k)=\\frac{(x_n - x_1+1)^2-1}{12}$$\n",
        "\n"
      ],
      "metadata": {
        "id": "5MGmvguzZZKM"
      }
    },
    {
      "cell_type": "markdown",
      "source": [
        "**1. Verificar la Esperanza**\n",
        "\n",
        "La esperanza se define como sigue:\n",
        "$$\\mathbb{E}[X] = \\sum_{k}kf_{X}(k)$$\n",
        "\n",
        "Dado que $X$ es una v.a. con distribución Uniforme discreta, cada valor tiene la misma probabilidad:\n",
        "$$f_X(k) = \\frac{1}{n}, \\quad \\text{para } k \\in \\{x_1, x_2, \\dots, x_n\\}.$$\n",
        "\n",
        "Entonces,\n",
        "$$\\mathbb{E}[X] = \\sum_{k=x_1}^{x_n}k̇ \\cdot \\frac{1}{n}$$ \\\n",
        "\n",
        "Factorizando $\\frac{1}{n}$:\n",
        "$$\\mathbb{E}[X] = \\frac{1}{n} \\sum_{k=x_1}^{x_n}k̇ $$ \\\n",
        "\n",
        "La suma de los primeros $m$ enteros es:\n",
        "$$\\sum_{k=1}^{m}k̇ = \\frac{m(m+1)}{2}  $$ \\\n",
        "\n",
        "Aplicamos la fórmula para la suma desde $x_1$ hasta $x_n$:\n",
        "$$\\sum_{k=x_1}^{x_n}k̇ = \\frac{x_n(x_n+1)}{2} - \\frac{(x_1-1)x_1}{2} $$ \\\n",
        "$$ = \\frac{x_n^2 + x_n - x_1^2 +x_1}{2} $$ \\\n",
        "\n",
        "Dividimos entre $n$:\n",
        "$$\\mathbb{E}[X] = \\frac{(x_n - x_1 +1) (x_n +x_1)}{2 (x_n - x_1 +1)}$$ \\\n",
        "$$\\mathbb{E}[X] = \\frac{x_n+x_1}{2}$$ \\\n",
        "\n",
        "$$\\therefore \\text{Se verifica el cálculo de la esperanza.} $$\n",
        "\n",
        "\n",
        "**2. Verificar la Varianza**\n",
        "\n",
        "La esperanza se define como sigue:\n",
        "$$\\mathbb{Var}[X] = \\mathbb{E}[X^2] - (\\mathbb{E}[X])^2 $$ \\\n",
        "\n",
        "\n",
        "Para calcular $\\mathbb{E}[X^2]$:\n",
        "$$\\mathbb{E}[X^2] = \\sum_{k=x_1}^{x_n}k̇^2 f_X(k) $$ \\\n",
        "\n",
        "Sustituyendo $f_X(k) = \\frac{1}{n}$:\n",
        "$$\\mathbb{E}[X^2] = \\frac{1}{n} \\sum_{k=x_1}^{x_n}k̇^2 $$ \\\n",
        "\n",
        "La suma de los cuadrados de los primeros $m$ enteros es:\n",
        "$$\\sum_{k=1}^{m}k̇^2 = \\frac{m(m+1)(2m+1)}{6}$$ \\\n",
        "\n",
        "Aplicamos la fórmula desde $x_1$ hasta $x_n$:\n",
        "$$\\sum_{k=x_1}^{x_n}k̇^2 = \\frac{x_n(x_n+1)(2x_n+1)}{6}-\\frac{(x_1-1)x_1(2x_1-1)}{6}$$ \\\n",
        "\n",
        "Dividiendo por $n$:\n",
        "$$\\mathbb{E}[X^2] = \\frac{1}{n} \\times \\frac{x_n(x_n+1)(2x_n+1)-(x_1-1)x_1(2x_1-1)}{6} $$ \\\n",
        "\n",
        "Calculamos $\\mathbb{Var}(X)$:\n",
        "$$\\mathbb{Var}(X) = \\mathbb{E}[X^2] - (\\frac{x_n+x_1}{2})^2$$ \\\n",
        "\n",
        "Se puede demostrar que:\n",
        "$$\\mathbb{Var}(X) = \\frac{(x_n-x_1+1)^2-1}{12}$$ \\\n",
        "\n",
        "$$\\therefore \\text{Se verifica el cálculo de la varianza.} $$\n"
      ],
      "metadata": {
        "id": "tE7SXTjcZYx5"
      }
    },
    {
      "cell_type": "code",
      "source": [
        "import numpy as np # Importamos Numpy\n",
        "import numpy.random as npr # para generar numeros aleatorios\n",
        "\n",
        "import scipy.stats as sps # Importamos el modulo SciPy\n",
        "from scipy.stats import randint # para trabajar una uniforme discreta en un rango de enteros\n",
        "\n",
        "import matplotlib.pyplot as plt #Visualizar datos\n",
        "\n",
        "import random # para generar numeros aleatorios"
      ],
      "metadata": {
        "id": "XkmHvEc2Jw1z"
      },
      "execution_count": null,
      "outputs": []
    },
    {
      "cell_type": "markdown",
      "source": [
        "$\\color{red}{\\text{Ejercicio 2.}}$ Calcular la esperanza y varianza.    \n",
        "Supongamos que nos interesa calcular la probabilidad de que el premio sea mayor a $\\$80$, entonces\n",
        "$$ \\mathbb{P}(X>80) = \\sum_{k=81}^{100} \\frac{1}{100} = \\frac{20}{100} = 0.2 $$"
      ],
      "metadata": {
        "id": "HS4tjxzbIDd7"
      }
    },
    {
      "cell_type": "code",
      "source": [
        "import numpy as np\n",
        "import matplotlib.pyplot as plt\n",
        "\n",
        "# Definir el rango de la distribución uniforme discreta [low, high)\n",
        "low = 1  # Límite inferior\n",
        "high = 11  # Límite superior (se usa 11 para incluir 10)\n",
        "\n",
        "# Crear los valores posibles dentro del rango\n",
        "x = np.arange(low, high)\n",
        "\n",
        "# Calcular la función de masa de probabilidad\n",
        "pmf = np.full_like(x, 1 / (high - low), dtype=float)\n",
        "\n",
        "# Para crear una figura más grande\n",
        "plt.figure(figsize=(10, 5))\n",
        "\n",
        "# Graficar pmf\n",
        "plt.bar(x, pmf, width=0.2, color='b', edgecolor='black')\n",
        "\n",
        "plt.xlabel('Valores')\n",
        "plt.ylabel('Probabilidad')\n",
        "plt.title('Función de densidad de una uniforme discreta')\n",
        "plt.grid(True)\n",
        "\n",
        "plt.show()  # Mostrar la gráfica\n",
        "\n",
        "# Calcular y mostrar la esperanza y la varianza\n",
        "esperanza = np.mean(x)\n",
        "varianza = np.var(x)\n",
        "\n",
        "print(f\"Esperanza: {esperanza}\")\n",
        "print(f\"Varianza: {varianza}\")\n",
        "\n",
        "# Calcular y mostrar P(X > 80)\n",
        "probabilidad_mayor_80 = np.mean(x > 80)\n",
        "print(f\"P(X > 80): {probabilidad_mayor_80}\")"
      ],
      "metadata": {
        "colab": {
          "base_uri": "https://localhost:8080/",
          "height": 539
        },
        "id": "44TR1aXDJS1d",
        "outputId": "1989a97d-3c0f-4ed8-b9e5-41d837b888d9"
      },
      "execution_count": null,
      "outputs": [
        {
          "output_type": "display_data",
          "data": {
            "text/plain": [
              "<Figure size 1000x500 with 1 Axes>"
            ],
            "image/png": "[encoded data removed]"
          },
          "metadata": {}
        },
        {
          "output_type": "stream",
          "name": "stdout",
          "text": [
            "Esperanza: 5.5\n",
            "Varianza: 8.25\n",
            "P(X > 80): 0.0\n"
          ]
        }
      ]
    },
    {
      "cell_type": "markdown",
      "source": [
        "$\\color{red}{\\text{Ejercicio 3.}}$ Usando el atributo `.cdf` [Poisson](https://docs.scipy.org/doc/scipy/reference/generated/scipy.stats.poisson.html) calcula las probabilidades anteriores.\n",
        "\n",
        "**Ejemplo** Supongamos que el número de accidentes que ocurre en un punto en un día tiene distribución Poisson con parámetro $\\lambda=2$,\n",
        "\n",
        "- ¿cuál es la probabilidad de que en un día ocurran más de dos accidentes?\n",
        "  $$ \\begin{align*} \\mathbb{P}(X>2) &= 1- \\mathbb{P}(X\\le 2) \\\\\n",
        "    &= 1- [\\mathbb{P}(X=0) + \\mathbb{P}(X=1) + \\mathbb{P}(X=2)] \\\\\n",
        "    &= 1- \\left[ e^{-2}\\frac{2^0}{0!} + e^{-2}\\frac{2^1}{1!} + e^{-2}\\frac{2^2}{2!} \\right] \\\\\n",
        "    &= 1 - e^{-2}[1+2+2] = 1-5e^{-2} = 0.3233\n",
        "    \\end{align*} $$\n",
        "- ¿cuál es la probabilidad de que ocurran más de dos accidentes sabiendo que por lo menos ocurre uno?\n",
        "  $$ \\begin{align*} \\mathbb{P}(X>2 \\mid X \\ge 1) &= \\frac{\\mathbb{P}(\\{X>2\\} \\cap \\{X \\ge 1\\} )}{\\mathbb{P}\\{X \\ge 1)\\}} \\\\\n",
        "       &= \\frac{\\mathbb{P}(\\{X>2\\})}{\\mathbb{P}\\{X \\ge 1)\\}} \\\\\n",
        "       & = \\frac{.3233}{1-\\mathbb{P}(X<1)} = \\frac{0.3233}{1-e^{-2}} \\frac{0.3233}{.8646} = 0.3739\n",
        "       \\end{align*} $$\n"
      ],
      "metadata": {
        "id": "-dqXsNEoKeJN"
      }
    },
    {
      "cell_type": "code",
      "source": [
        "from scipy.stats import poisson\n",
        "\n",
        "lambda_poisson = 2\n",
        "distribucion_poisson = poisson(lambda_poisson)\n",
        "\n",
        "# Cálculo de P(X > 2)\n",
        "probabilidad_mayor_2 = 1 - distribucion_poisson.cdf(2)\n",
        "print(f\"P(X > 2): {probabilidad_mayor_2}\")\n",
        "\n",
        "# Cálculo de P(X > 2 | X >= 1)\n",
        "probabilidad_mayor_igual_1 = 1 - distribucion_poisson.cdf(0)\n",
        "probabilidad_condicional = probabilidad_mayor_2 / probabilidad_mayor_igual_1\n",
        "print(f\"P(X > 2 | X >= 1): {probabilidad_condicional}\")"
      ],
      "metadata": {
        "colab": {
          "base_uri": "https://localhost:8080/"
        },
        "id": "XWyxEixgLxm7",
        "outputId": "3b8e6641-a889-48c5-8639-a51f40d095ac"
      },
      "execution_count": null,
      "outputs": [
        {
          "output_type": "stream",
          "name": "stdout",
          "text": [
            "P(X > 2): 0.3233235838169366\n",
            "P(X > 2 | X >= 1): 0.37392942900133747\n"
          ]
        }
      ]
    },
    {
      "cell_type": "markdown",
      "source": [
        "$\\color{red}{\\text{Ejercicio 4.}}$ Un examen de Estadística consta de 20 preguntas tipo test y se conoce de experiencias\n",
        "anteriores que un alumno tiene probabilidad 0.7 de contestar bien cada pregunta. Obtener:\n",
        "\n",
        "a) La probabilidad de que la primera pregunta que contesta bien sea la cuarta.\n",
        "\n",
        "b) Sabiendo que para aprobar el examen es necesario contestar bien a 10 preguntas, ¿cuál es la probabilidad de que apruebe al contestar la pregunta duodécima?"
      ],
      "metadata": {
        "id": "JXrFEuDWNWBQ"
      }
    },
    {
      "cell_type": "code",
      "source": [
        "from scipy.stats import geom, binom\n",
        "\n",
        "# Datos del problema\n",
        "prob_correcta = 0.7  # Probabilidad de contestar bien cada pregunta\n",
        "preguntas_totales = 20  # Número total de preguntas\n",
        "\n",
        "# a) Probabilidad de que la primera pregunta correcta sea la cuarta\n",
        "pregunta_objetivo_a = 4  # La cuarta pregunta\n",
        "prob_a = geom.pmf(pregunta_objetivo_a, prob_correcta)\n",
        "print(f\"a) Probabilidad de que la primera pregunta correcta sea la cuarta: {prob_a}\")\n",
        "\n",
        "# b) Probabilidad de aprobar en la pregunta duodécima\n",
        "preguntas_necesarias_aprobar = 10  # Necesita 10 correctas para aprobar\n",
        "preguntas_b = 12  # Pregunta duodécima\n",
        "\n",
        "# Calcular la probabilidad de 9 correctas en las primeras 11 preguntas\n",
        "prob_b = binom.pmf(preguntas_necesarias_aprobar - 1, preguntas_b - 1, prob_correcta)\n",
        "\n",
        "# Multiplicar por la probabilidad de que la pregunta 12 sea correcta\n",
        "prob_c = prob_b * prob_correcta\n",
        "print(f\"b) Probabilidad de aprobar en la pregunta duodécima: {prob_c}\")"
      ],
      "metadata": {
        "colab": {
          "base_uri": "https://localhost:8080/"
        },
        "id": "GZUc4ZTnPD-s",
        "outputId": "d0868e89-1aed-443e-a000-b1cc9e67b7d7"
      },
      "execution_count": null,
      "outputs": [
        {
          "output_type": "stream",
          "name": "stdout",
          "text": [
            "a) Probabilidad de que la primera pregunta correcta sea la cuarta: 0.018900000000000007\n",
            "b) Probabilidad de aprobar en la pregunta duodécima: 0.13982524825499987\n"
          ]
        }
      ]
    },
    {
      "cell_type": "markdown",
      "source": [
        "$\\color{red}{\\text{Ejercicio 5.}}$ Investigue sobre el problema de la caja de cerillos de Banach y explique su solución.\n"
      ],
      "metadata": {
        "id": "zmxIhLfjP-xt"
      }
    },
    {
      "cell_type": "markdown",
      "source": [
        "## **Problema de la caja de cerillos de Banach**\n",
        "Un matemático lleva siempre consigo dos cajas de cerillos, una en el bolsillo derecho y otra en el izquierdo. Cada vez que necesita un cerillo, elige al azar uno de los dos bolsillos. Supongamos que inicialmente cada caja contiene N cerillos. ¿Cuál es la probabilidad de que, cuando el matemático descubre que una de las cajas está vacía, la otra caja contenga exactamente k cerillos?\n"
      ],
      "metadata": {
        "id": "OPfkQIUOSenZ"
      }
    },
    {
      "cell_type": "markdown",
      "source": [
        "Este problema se resuelve con la distribución binomial negativa porque esta distribución nos dice el número de intentos antes de obtener exito lo que aqui podríamos traducir como exito es que una de las cajas de cerillos quede vacía , y el número de intentos podríamos traducirla como el numero de cerillos que sacó"
      ],
      "metadata": {
        "id": "D5Go_pvBSsF0"
      }
    },
    {
      "cell_type": "markdown",
      "source": [
        "## Problema de la caja de cerillos de Banach\n",
        "El problema de la caja de cerillos de Banach es un clásico en la teoría de probabilidad y procesos estocásticos. Se plantea así:\n",
        "\n",
        "Imaginemos que una persona tiene dos bolsillos, cada uno con \\( N \\) cerillos. En cada turno, selecciona al azar uno de los bolsillos y extrae un cerillo. El problema pregunta cuántos cerillos quedarán en un bolsillo cuando el otro se vacíe.\n",
        "\n",
        "### Análisis del problema\n",
        "La clave del problema está en modelar el proceso como una caminata aleatoria simétrica, donde cada paso corresponde a extraer un cerillo de alguno de los bolsillos con probabilidad \\( p = 0.5 \\). Cuando uno de los bolsillos se vacía, el proceso termina.\n",
        "\n",
        "Para simplificar el análisis, consideramos uno de los bolsillos con una cantidad ilimitada de cerillos. Sea \\( M \\) el número de cerillos extraídos de este bolsillo antes de vaciar el otro. Este número sigue una **distribución binomial negativa**, donde:\n",
        "\n",
        "- \\( p = 0.5 \\) es la probabilidad de elegir cada bolsillo.\n",
        "- Se requieren \\( N + 1 \\) fallos (vaciar un bolsillo) para terminar.\n",
        "\n",
        "La probabilidad de que queden exactamente \\( k \\) cerillos en el bolsillo ilimitado cuando el otro se vacía es:\n",
        "\n",
        "$$ P[K = k] = {\\binom{2N - k}{N - k}} \\left(\\frac{1}{2}\\right)^{2N - k} $$\n",
        "\n",
        "Este resultado se interpreta como la probabilidad de alcanzar un estado límite donde uno de los bolsillos queda vacío y el otro tiene \\( k \\) cerillos restantes.\n",
        "\n",
        "### Esperanza matemática\n",
        "Usando aproximaciones avanzadas, como la **aproximación de Stirling**, se demuestra que el valor esperado del número de cerillos restantes es:\n",
        "\n",
        "$$ E(K) \\approx 2\\sqrt{\\frac{N}{\\pi}} - 1 $$\n",
        "\n",
        "Este resultado refleja la relación entre la magnitud inicial \\( N \\) y la variabilidad inherente del proceso estocástico.\n",
        "\n",
        "El problema de la caja de cerillos de Banach es relevante en teoría de colas, procesos de Poisson y análisis de cadenas de Markov, mostrando cómo se distribuyen los recursos finitos bajo selección aleatoria.\n"
      ],
      "metadata": {
        "id": "3zGat5kRaBc4"
      }
    },
    {
      "cell_type": "markdown",
      "source": [
        "$\\color{red}{\\text{Ejercicio 6.}}$ Replicar la grafica de la función de densidad\n",
        "\n",
        "Supongamos que se elige, sin reemplazo, una muestra de tamaño $n$ de una urna que contiene $N$ bolas, de las cuales $m$ son rojas y $N-m$ son verdes. Sea $X$ el número de bolas rojas seleccionadas, entonces su función de masa de probabilidades está dada por:\n",
        "$$ f_{X}(x)=\n",
        "\t\\frac{\\binom{m}{x}\\binom{N-m}{n-x}}{\\binom{N}{n}} \\quad \\text{si } x=0,1,\\dots, n $$\n",
        "\n",
        "**Notación.** $X\\sim \\text{Hiper}(n,N,m)$.\n",
        "\n",
        "Se tiene que\n",
        "$$ \\mathbb{E}[X]=\\frac{nm}{N}$$\n",
        "y\n",
        "$$ \\text{Var}[X]=\\frac{nm}{N}\\left[\\frac{(n-1)(m-1)}{N-1}+1-\\frac{nm}{N} \\right].$$\n",
        "\n",
        "**Nota.** Si $x\\leq n$ y $X\\sim \\text{Hiper}(n,N,m)$, cuando $p=\\frac{m}{N}$ y $m,N$ son muy grandes con respecto a $n$ y $x$:\n",
        "$$\\mathbb{P}(X=x)\\approx \\binom{n}{x}p^{x}(1-p)^{n-x}.$$"
      ],
      "metadata": {
        "id": "Y2RMopD9WPb5"
      }
    },
    {
      "cell_type": "code",
      "source": [
        "import numpy as np\n",
        "import matplotlib.pyplot as plt\n",
        "from scipy.special import comb\n",
        "\n",
        "def hipergeometrica_pmf(x, n, N, m):\n",
        "    \"\"\"Calcula la PMF de la distribución hipergeométrica.\"\"\"\n",
        "    numerador = comb(m, x, exact=True) * comb(N - m, n - x, exact=True)\n",
        "    denominador = comb(N, n, exact=True)\n",
        "    return numerador / denominador\n",
        "\n",
        "def graficar_hipergeometrica(n, N, m):\n",
        "    \"\"\"Grafica la PMF de la distribución hipergeométrica.\"\"\"\n",
        "    x_values = np.arange(0, min(n, m) + 1)\n",
        "    pmf_values = [hipergeometrica_pmf(x, n, N, m) for x in x_values]\n",
        "\n",
        "    plt.figure(figsize=(10, 6))\n",
        "    plt.bar(x_values, pmf_values, color='skyblue')\n",
        "    plt.xlabel('Número de éxitos en la muestra (x)')\n",
        "    plt.ylabel('Probabilidad')\n",
        "    plt.title(f'Distribución Hipergeométrica (n={n}, N={N}, m={m})')\n",
        "    plt.xticks(x_values)\n",
        "    plt.grid(axis='y')\n",
        "    plt.show()\n",
        "\n",
        "# Ejemplo de uso\n",
        "n = 10  # Tamaño de la muestra\n",
        "N = 50  # Tamaño de la población\n",
        "m = 20  # Número de éxitos en la población\n",
        "\n",
        "graficar_hipergeometrica(n, N, m)"
      ],
      "metadata": {
        "colab": {
          "base_uri": "https://localhost:8080/",
          "height": 565
        },
        "id": "VmZjp3uqXPTl",
        "outputId": "2b2e06fb-83dc-488c-cb36-0b734a10698a"
      },
      "execution_count": null,
      "outputs": [
        {
          "output_type": "display_data",
          "data": {
            "text/plain": [
              "<Figure size 1000x600 with 1 Axes>"
            ],
            "image/png": "[encoded data removed]"
          },
          "metadata": {}
        }
      ]
    },
    {
      "cell_type": "markdown",
      "source": [
        "$\\color{red}{\\text{Ejercicio 7.}}$ Una compañía petrolera realiza un estudio geológico que indica que un pozo petrolero exploratorio debería tener un 20% de posibilidades de encontrar petróleo.\n",
        "\n",
        "- ¿Cuál es la probabilidad de que el primer pozo se produzca en el tercer pozo perforado?\n",
        "\n",
        "- ¿Cuál es la probabilidad de que el tercer pozo se produzca en el séptimo pozo perforado?\n",
        "\n",
        "- ¿Cuál es la media y la varianza del número de pozos que se deben perforar si la compañía petrolera quiere establecer tres pozos productores?"
      ],
      "metadata": {
        "id": "lrtRCPI7XwdQ"
      }
    },
    {
      "cell_type": "code",
      "source": [
        "from scipy.stats import geom, nbinom\n",
        "\n",
        "# Datos del problema\n",
        "prob_exito = 0.2  # Probabilidad de encontrar petróleo\n",
        "\n",
        "# a) Probabilidad de que el primer pozo se produzca en el tercer pozo\n",
        "prob_a = geom.pmf(3, prob_exito)\n",
        "print(f\"a) Probabilidad: {prob_a}\")\n",
        "\n",
        "# b) Probabilidad de que el tercer pozo se produzca en el séptimo pozo\n",
        "prob_b = nbinom.pmf(4, 3, prob_exito)  # nbinom.pmf(k-r, r, p)\n",
        "print(f\"b) Probabilidad: {prob_b}\")\n",
        "\n",
        "# c) Media y varianza del número de pozos para 3 éxitos\n",
        "media = 3 / prob_exito\n",
        "varianza = (3 * (1 - prob_exito)) / (prob_exito ** 2)\n",
        "print(f\"c) Media: {media}, Varianza: {varianza}\")"
      ],
      "metadata": {
        "id": "4pA4JyIqX012",
        "colab": {
          "base_uri": "https://localhost:8080/"
        },
        "outputId": "bdf253a2-fb10-4af1-aa8d-cd4ce246613b"
      },
      "execution_count": null,
      "outputs": [
        {
          "output_type": "stream",
          "name": "stdout",
          "text": [
            "a) Probabilidad: 0.12800000000000003\n",
            "b) Probabilidad: 0.04915200000000004\n",
            "c) Media: 15.0, Varianza: 60.0\n"
          ]
        }
      ]
    }
  ]
}