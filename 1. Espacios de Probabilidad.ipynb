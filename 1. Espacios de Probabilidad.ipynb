{
  "nbformat": 4,
  "nbformat_minor": 0,
  "metadata": {
    "colab": {
      "provenance": [],
      "authorship_tag": "ABX9TyM281RzA7hB4RdMm4Xofbq7",
      "include_colab_link": true
    },
    "kernelspec": {
      "name": "python3",
      "display_name": "Python 3"
    },
    "language_info": {
      "name": "python"
    }
  },
  "cells": [
    {
      "cell_type": "markdown",
      "metadata": {
        "id": "view-in-github",
        "colab_type": "text"
      },
      "source": [
        "<a href=\"https://colab.research.google.com/github/MarielGomezRan/G35.-Modulo-II-Modelos-Estad-sticos/blob/main/1.%20Espacios%20de%20Probabilidad.ipynb\" target=\"_parent\"><img src=\"https://colab.research.google.com/assets/colab-badge.svg\" alt=\"Open In Colab\"/></a>"
      ]
    },
    {
      "cell_type": "markdown",
      "source": [
        "# Proyecto Módulo II: Técnicas Estadísticas\n",
        "# 1. Espacios de Probabilidad\n",
        "### **Alumna: Mariel Gómez Rangel**\n",
        "\n",
        "\n"
      ],
      "metadata": {
        "id": "GMuFSHs_oxqK"
      }
    },
    {
      "cell_type": "markdown",
      "source": [
        "**Introducción**\n",
        "\n",
        "En este cuaderno se abordarán los conceptos fundamentales sobre los espacios de probabilidad, partiendo de la definición de sus elementos y analizando cada uno de sus enfoques. Se pondrá especial énfasis en tres enfoques principales: **Enfoque Clásico, Enfoque Geométrico y Enfoque Frecuentista.**\n",
        "\n",
        "Para cada uno de ellos se presentarán sus definiciones, características y ejemplos prácticos, con el objetivo de comprender sus diferencias, aplicaciones y aportaciones al estudio de la probabilidad."
      ],
      "metadata": {
        "id": "rlL2QrmdC8s4"
      }
    },
    {
      "cell_type": "markdown",
      "source": [
        "**Recordatorio:**\n",
        "\n",
        "Un *Espacio de Probabilidad* es un modelo matemático que describe un experimento aleatorio.\n",
        "\n",
        "Está compuesto por:\n",
        "\n",
        "*   **Espacio muestral:** Conjunto de todos los posibles resultados.\n",
        "*   **Eventos:** Subconjuntos del espacio muestral.\n",
        "*   **Regla de asignación de probabilidad:** Que asigna a cada evento un valor numérico entre 0 y 1."
      ],
      "metadata": {
        "id": "egMBVSyBEAJg"
      }
    },
    {
      "cell_type": "markdown",
      "source": [
        "## 1. Enfoque Clásico"
      ],
      "metadata": {
        "id": "9A_kgxamDOy_"
      }
    },
    {
      "cell_type": "markdown",
      "source": [
        "### 1.1 Espacio muestral y eventos"
      ],
      "metadata": {
        "id": "wf0NvYUy5LF8"
      }
    },
    {
      "cell_type": "markdown",
      "source": [
        "La probabilidad clásica (Probabilidad Laplaciana) es una de las formas más antiguas y conocidad de calcular alguna probabilidad. Se utiliza cuando todos los resultados posibles de un experimentos son igualmente probables, es decir, cuando se tiene equiprobabilidad.\n",
        "$$Ω = {w_1,\\dots,w_n}$$\n",
        "$$P({w_i})\\frac{1}{n}$$\n",
        "\n",
        "Vamos a definir los siguientes conjuntos:\n",
        "\n",
        "*   A = Casos Favorables\n",
        "*   $Ω$ = Casos Totales\n",
        "\n",
        "De manera que, si A$\\subset Ω$\n",
        "$$P(A)=\\frac{\\#A}{\\#Ω}$$\n",
        "\n"
      ],
      "metadata": {
        "id": "HRLPbv0WEIwb"
      }
    },
    {
      "cell_type": "markdown",
      "source": [
        "**Características:**\n",
        "\n",
        "*   Se aplica solo cuando todos los resultados tienen la misma probabilidad de ocurrir\n",
        "*   Es ideal para situaciones como lanzar una moneda, un dado, o sacar una carta de una bareja completa.\n",
        "\n"
      ],
      "metadata": {
        "id": "S5YvKGv5In3H"
      }
    },
    {
      "cell_type": "markdown",
      "source": [
        "**Propiedades:**\n",
        "\n",
        "1.   ***La probabilidad está entre 0 y 1:*** Para cualquier evento $A$\n",
        "$$0 \\leq P(A) \\leq 1 $$\n",
        "2.   ***La probabilidad del espacio muestral es 1:*** El espacio muestral $S$ es el conjunto de todos los posibles resultados de un experimento, siempre cumple que:\n",
        "$$P(S)=1$$\n",
        "3. ***Probabilidad Complementaria:*** Si $A$ es un evento, su complemento $A^c$ son los casos en que no ocurre $A$\n",
        "$$P(A^c)=1-P(A)$$\n",
        "4. ***Unión de Probabilidades:*** Si dos eventos $A$ y $B$ son mutuamente excluyentes, entonces\n",
        "$$P(A\\cup B)=P(A)+P(B)$$\n",
        "5. ***Unión de Probabilidades no excluyentes***: Si dos eventos pueden ocurrir juntos, entonces\n",
        "$$P(A\\cup B)=P(A)+P(B)-P(A\\cap B)$$\n",
        "\n"
      ],
      "metadata": {
        "id": "Por9goHRJFBQ"
      }
    },
    {
      "cell_type": "markdown",
      "source": [
        "**Ejemplo:**\n",
        "\n",
        "Sea el experimento de lanzar una moneda 3 veces, de manera independiente (es decir, el $i$-ésimo lanzamiento no me afecta al $i+1$ lanzamiento).\n",
        "\n",
        "El espacio muestral de este experimento es:\n",
        "\n",
        "$$ \\Omega = \\{A,S\\} \\times \\{A,S\\} \\times \\{A,S\\} = \\{A,S\\}^3 $$\n",
        "y tenemos que $\\#\\Omega = 2^3$.\n",
        "\n",
        "Sean los eventos:\n",
        "* $A$: todos los resultados son águila\n",
        "* $S$: todos los resultados son soles\n",
        "* $E$: Por lo menos un resultado es sol\n",
        "  \n",
        "Calcular las probabilidades de estos eventos:\n",
        "\n",
        "**Solución** Vamos a descomponer mi conjunto $A$ de la siguiente manera:\n",
        "$$A = A_1 \\cap A_2 \\cap A_3 $$\n",
        "donde $A_i$: caé águila en el $i$-ésimo resultado."
      ],
      "metadata": {
        "id": "OjWIWjoOGFsQ"
      }
    },
    {
      "cell_type": "code",
      "source": [
        "# Vamos a crear el espacio muestral\n",
        "import itertools #importamos el modulo\n",
        "from itertools import product\n",
        "\n",
        "Omega = set( product({\"A\",\"S\"},repeat=3 ))\n",
        "Omega"
      ],
      "metadata": {
        "colab": {
          "base_uri": "https://localhost:8080/"
        },
        "id": "ff2kWrZVGMcR",
        "outputId": "4747551e-4eab-4bd9-dbfa-41f2dcb64155"
      },
      "execution_count": 2,
      "outputs": [
        {
          "output_type": "execute_result",
          "data": {
            "text/plain": [
              "{('A', 'A', 'A'),\n",
              " ('A', 'A', 'S'),\n",
              " ('A', 'S', 'A'),\n",
              " ('A', 'S', 'S'),\n",
              " ('S', 'A', 'A'),\n",
              " ('S', 'A', 'S'),\n",
              " ('S', 'S', 'A'),\n",
              " ('S', 'S', 'S')}"
            ]
          },
          "metadata": {},
          "execution_count": 2
        }
      ]
    },
    {
      "cell_type": "code",
      "source": [
        "len(Omega) # cardinalidad de Omega"
      ],
      "metadata": {
        "colab": {
          "base_uri": "https://localhost:8080/"
        },
        "id": "WKQwE2dEGPi4",
        "outputId": "b400593b-82ce-46fd-ee06-eb83e0fb3ed0"
      },
      "execution_count": 2,
      "outputs": [
        {
          "output_type": "execute_result",
          "data": {
            "text/plain": [
              "8"
            ]
          },
          "metadata": {},
          "execution_count": 2
        }
      ]
    },
    {
      "cell_type": "markdown",
      "source": [
        "***Evento A***"
      ],
      "metadata": {
        "id": "zj8X3f0UH90J"
      }
    },
    {
      "cell_type": "code",
      "source": [
        "# Vamos a crear el evento A_1\n",
        "A_1 = { om for om in Omega if om[0]==\"A\"} # la primera coordenada es águila\n",
        "A_1"
      ],
      "metadata": {
        "colab": {
          "base_uri": "https://localhost:8080/"
        },
        "id": "owraTQZLGRcI",
        "outputId": "471cb3fa-fc25-461d-cfd3-1a8c16e5be33"
      },
      "execution_count": 3,
      "outputs": [
        {
          "output_type": "execute_result",
          "data": {
            "text/plain": [
              "{('A', 'A', 'A'), ('A', 'A', 'S'), ('A', 'S', 'A'), ('A', 'S', 'S')}"
            ]
          },
          "metadata": {},
          "execution_count": 3
        }
      ]
    },
    {
      "cell_type": "code",
      "source": [
        "# Vamos a crear el evento A_2\n",
        "A_2 = { om for om in Omega if om[1]==\"A\"} # la segunda coordenada es águila\n",
        "A_2"
      ],
      "metadata": {
        "colab": {
          "base_uri": "https://localhost:8080/"
        },
        "id": "brf5OdiJGTK4",
        "outputId": "db675e8d-1bef-4309-f1e3-955bd9abec4f"
      },
      "execution_count": 4,
      "outputs": [
        {
          "output_type": "execute_result",
          "data": {
            "text/plain": [
              "{('A', 'A', 'A'), ('A', 'A', 'S'), ('S', 'A', 'A'), ('S', 'A', 'S')}"
            ]
          },
          "metadata": {},
          "execution_count": 4
        }
      ]
    },
    {
      "cell_type": "code",
      "source": [
        "# Vamos a crear el evento A_3\n",
        "A_3 = { om for om in Omega if om[2]==\"A\"} # la tercera coordenada es águila\n",
        "A_3"
      ],
      "metadata": {
        "colab": {
          "base_uri": "https://localhost:8080/"
        },
        "id": "4vG4QmHlGVX5",
        "outputId": "c4287315-4345-45f9-f442-d9cb3b0c6abb"
      },
      "execution_count": 5,
      "outputs": [
        {
          "output_type": "execute_result",
          "data": {
            "text/plain": [
              "{('A', 'A', 'A'), ('A', 'S', 'A'), ('S', 'A', 'A'), ('S', 'S', 'A')}"
            ]
          },
          "metadata": {},
          "execution_count": 5
        }
      ]
    },
    {
      "cell_type": "code",
      "source": [
        "# Vamos a crear el evento A\n",
        "A = A_1.intersection(A_2.intersection(A_3))\n",
        "A"
      ],
      "metadata": {
        "colab": {
          "base_uri": "https://localhost:8080/"
        },
        "id": "Kqqg-AywGXHA",
        "outputId": "952934ea-00a7-406f-d434-ab4792811d5a"
      },
      "execution_count": 6,
      "outputs": [
        {
          "output_type": "execute_result",
          "data": {
            "text/plain": [
              "{('A', 'A', 'A')}"
            ]
          },
          "metadata": {},
          "execution_count": 6
        }
      ]
    },
    {
      "cell_type": "code",
      "source": [
        "len(A)"
      ],
      "metadata": {
        "colab": {
          "base_uri": "https://localhost:8080/"
        },
        "id": "5-DXuzV-GY-x",
        "outputId": "e8955c7f-3647-4d98-cd8f-8f9f56ea61d0"
      },
      "execution_count": 7,
      "outputs": [
        {
          "output_type": "execute_result",
          "data": {
            "text/plain": [
              "1"
            ]
          },
          "metadata": {},
          "execution_count": 7
        }
      ]
    },
    {
      "cell_type": "code",
      "source": [
        "# Vamos a calcular la probabilidad de A\n",
        "P_A = len(A) / len(Omega)\n",
        "P_A"
      ],
      "metadata": {
        "colab": {
          "base_uri": "https://localhost:8080/"
        },
        "id": "YhQPmFqxGaoY",
        "outputId": "b93b86ce-7a08-463b-fc58-d8744786c70b"
      },
      "execution_count": 8,
      "outputs": [
        {
          "output_type": "execute_result",
          "data": {
            "text/plain": [
              "0.125"
            ]
          },
          "metadata": {},
          "execution_count": 8
        }
      ]
    },
    {
      "cell_type": "code",
      "source": [
        "from fractions import Fraction\n",
        "\n",
        "def p(E,Omega):\n",
        "    p = Fraction(len(E),len(Omega))\n",
        "    return p\n"
      ],
      "metadata": {
        "id": "yxzAQX-QGdEQ"
      },
      "execution_count": 10,
      "outputs": []
    },
    {
      "cell_type": "code",
      "source": [
        "    prob = p(A,Omega)\n",
        "prob"
      ],
      "metadata": {
        "colab": {
          "base_uri": "https://localhost:8080/"
        },
        "id": "n3BAKuFsGkIg",
        "outputId": "b6e00724-4820-4576-cebe-bb1aaa4e8ef1"
      },
      "execution_count": 11,
      "outputs": [
        {
          "output_type": "execute_result",
          "data": {
            "text/plain": [
              "Fraction(1, 8)"
            ]
          },
          "metadata": {},
          "execution_count": 11
        }
      ]
    },
    {
      "cell_type": "markdown",
      "source": [
        "***Evento S***"
      ],
      "metadata": {
        "id": "w7_gI4QuHnio"
      }
    },
    {
      "cell_type": "code",
      "source": [
        "# Vamos a crear el evento S_1\n",
        "S_1 = { om for om in Omega if om[0]==\"S\"} # la primera coordenada es SOL\n",
        "S_1"
      ],
      "metadata": {
        "colab": {
          "base_uri": "https://localhost:8080/"
        },
        "id": "vEUeTeLmHp35",
        "outputId": "31782572-ce35-4415-9f48-899f448e496b"
      },
      "execution_count": 17,
      "outputs": [
        {
          "output_type": "execute_result",
          "data": {
            "text/plain": [
              "{('S', 'A', 'A'), ('S', 'A', 'S'), ('S', 'S', 'A'), ('S', 'S', 'S')}"
            ]
          },
          "metadata": {},
          "execution_count": 17
        }
      ]
    },
    {
      "cell_type": "code",
      "source": [
        "# Vamos a crear el evento S_2\n",
        "S_2 = { om for om in Omega if om[1]==\"S\"} # la segunda coordenada es SOL\n",
        "S_2"
      ],
      "metadata": {
        "colab": {
          "base_uri": "https://localhost:8080/"
        },
        "id": "r-8UjlwSHs2h",
        "outputId": "f5b67bbe-3a94-406d-e153-6dbfc1eed4a8"
      },
      "execution_count": 18,
      "outputs": [
        {
          "output_type": "execute_result",
          "data": {
            "text/plain": [
              "{('A', 'S', 'A'), ('A', 'S', 'S'), ('S', 'S', 'A'), ('S', 'S', 'S')}"
            ]
          },
          "metadata": {},
          "execution_count": 18
        }
      ]
    },
    {
      "cell_type": "code",
      "source": [
        "# Vamos a crear el evento S_3\n",
        "S_3 = { om for om in Omega if om[2]==\"S\"} # la tercera coordenada es SOL\n",
        "S_3"
      ],
      "metadata": {
        "colab": {
          "base_uri": "https://localhost:8080/"
        },
        "id": "dcQk9U7_HuyI",
        "outputId": "a0c22da8-f4c9-4c0f-ead5-b0e5044e4d45"
      },
      "execution_count": 19,
      "outputs": [
        {
          "output_type": "execute_result",
          "data": {
            "text/plain": [
              "{('A', 'A', 'S'), ('A', 'S', 'S'), ('S', 'A', 'S'), ('S', 'S', 'S')}"
            ]
          },
          "metadata": {},
          "execution_count": 19
        }
      ]
    },
    {
      "cell_type": "code",
      "source": [
        "# Vamos a crear el evento S\n",
        "S = S_1.intersection(S_2.intersection(S_3))\n",
        "S"
      ],
      "metadata": {
        "colab": {
          "base_uri": "https://localhost:8080/"
        },
        "id": "GxzSMZfSHwyA",
        "outputId": "3d7a2bff-58cc-42a5-8bb6-797d8aae16ca"
      },
      "execution_count": 20,
      "outputs": [
        {
          "output_type": "execute_result",
          "data": {
            "text/plain": [
              "{('S', 'S', 'S')}"
            ]
          },
          "metadata": {},
          "execution_count": 20
        }
      ]
    },
    {
      "cell_type": "code",
      "source": [
        "len(S)"
      ],
      "metadata": {
        "colab": {
          "base_uri": "https://localhost:8080/"
        },
        "id": "6O43at2bHzRB",
        "outputId": "4e77398f-251c-48ff-da3f-5ffed5d04953"
      },
      "execution_count": 21,
      "outputs": [
        {
          "output_type": "execute_result",
          "data": {
            "text/plain": [
              "1"
            ]
          },
          "metadata": {},
          "execution_count": 21
        }
      ]
    },
    {
      "cell_type": "code",
      "source": [
        "# Vamos a calcular la probabilidad de S\n",
        "P_S = len(S) / len(Omega)\n",
        "P_S"
      ],
      "metadata": {
        "colab": {
          "base_uri": "https://localhost:8080/"
        },
        "id": "vWDSQf2kH085",
        "outputId": "66ee4cee-34e1-4fa8-815a-e95677f04ff1"
      },
      "execution_count": 22,
      "outputs": [
        {
          "output_type": "execute_result",
          "data": {
            "text/plain": [
              "0.125"
            ]
          },
          "metadata": {},
          "execution_count": 22
        }
      ]
    },
    {
      "cell_type": "code",
      "source": [
        "prob = p(S,Omega)\n",
        "prob"
      ],
      "metadata": {
        "colab": {
          "base_uri": "https://localhost:8080/"
        },
        "id": "AzxlBzCJH4YR",
        "outputId": "6f8db63b-d17b-4639-c37c-dfc9f8201013"
      },
      "execution_count": 23,
      "outputs": [
        {
          "output_type": "execute_result",
          "data": {
            "text/plain": [
              "Fraction(1, 8)"
            ]
          },
          "metadata": {},
          "execution_count": 23
        }
      ]
    },
    {
      "cell_type": "markdown",
      "source": [
        "***Evento E***"
      ],
      "metadata": {
        "id": "3kDgh8PWHKLp"
      }
    },
    {
      "cell_type": "code",
      "source": [
        "# Vamos a crear el evento E\n",
        "E = { om for om in Omega if \"S\" in om} #\n",
        "E"
      ],
      "metadata": {
        "colab": {
          "base_uri": "https://localhost:8080/"
        },
        "id": "CfVfJsnOHPZR",
        "outputId": "933f82f3-6b04-41e3-e491-9cb36a77c57c"
      },
      "execution_count": 12,
      "outputs": [
        {
          "output_type": "execute_result",
          "data": {
            "text/plain": [
              "{('A', 'A', 'S'),\n",
              " ('A', 'S', 'A'),\n",
              " ('A', 'S', 'S'),\n",
              " ('S', 'A', 'A'),\n",
              " ('S', 'A', 'S'),\n",
              " ('S', 'S', 'A'),\n",
              " ('S', 'S', 'S')}"
            ]
          },
          "metadata": {},
          "execution_count": 12
        }
      ]
    },
    {
      "cell_type": "code",
      "source": [
        "len(E)"
      ],
      "metadata": {
        "colab": {
          "base_uri": "https://localhost:8080/"
        },
        "id": "vrE1f1jSHSCQ",
        "outputId": "e4964b6f-8150-4f51-f22b-9d13e318ea12"
      },
      "execution_count": 13,
      "outputs": [
        {
          "output_type": "execute_result",
          "data": {
            "text/plain": [
              "7"
            ]
          },
          "metadata": {},
          "execution_count": 13
        }
      ]
    },
    {
      "cell_type": "code",
      "source": [
        "# Vamos a calcular la probabilidad de E\n",
        "P_E = len(E) / len(Omega)\n",
        "P_E"
      ],
      "metadata": {
        "colab": {
          "base_uri": "https://localhost:8080/"
        },
        "id": "yUAnfuO6HU6R",
        "outputId": "02533b69-3605-4b36-b533-a1cc92627483"
      },
      "execution_count": 15,
      "outputs": [
        {
          "output_type": "execute_result",
          "data": {
            "text/plain": [
              "0.875"
            ]
          },
          "metadata": {},
          "execution_count": 15
        }
      ]
    },
    {
      "cell_type": "code",
      "source": [
        "prob = p(E,Omega)\n",
        "prob"
      ],
      "metadata": {
        "colab": {
          "base_uri": "https://localhost:8080/"
        },
        "id": "rq0MSffmHXI4",
        "outputId": "2dd50263-4826-4a2d-f53e-e858ed488784"
      },
      "execution_count": 16,
      "outputs": [
        {
          "output_type": "execute_result",
          "data": {
            "text/plain": [
              "Fraction(7, 8)"
            ]
          },
          "metadata": {},
          "execution_count": 16
        }
      ]
    },
    {
      "cell_type": "markdown",
      "source": [
        "### 1.2 Axioma de Kolmogórov"
      ],
      "metadata": {
        "id": "6h_IiCTt5Sn2"
      }
    },
    {
      "cell_type": "markdown",
      "source": [
        "\n",
        "\n",
        "En 1933, el matemático Andrey Kolmogórov formalizó las bases matemáticas de la probabilidad con 3 axiomas (reglas fundamentales) que toda probabilidad debe cumplir, sin importar si es clásica, frecuentista o bayesiana.\n",
        "\n",
        "Estos axiomas definen cómo deben comportarse las probabilidades dentro de un espacio muestral."
      ],
      "metadata": {
        "id": "Z0lMPLR3L_KJ"
      }
    },
    {
      "cell_type": "markdown",
      "source": [
        "**Axiomas de Kolmogórov**\n",
        "\n",
        "\n",
        "1.   **Axioma de No Negatividad:** Para cualquier evento $A$ en el espacio muestral:\n",
        "$$P(A)\\geq 0$$\n",
        "Es decir, ninguna probabilidad puede ser negativa.\n",
        "2.   **Axioma de Normalización:** La probabilidad de todo el espacio muestral es 1:\n",
        "$$P(S)=1$$\n",
        "Esto significa que, de todos los posibles resultados, algo debe ocurrir, y la suma de todas las probabilidades posibles es 1.\n",
        "3. **Aditividad paraa eventos mutuamente excluyentes:** Si $A_1,A_2,A_3,…$ son eventos mutuamente excluyentes, es decir, que no pueden ocurrir al mismo tiempo\n",
        "$$P(A_1\\cup A_2 ∪ A_3 \\cup …)=P(A_1)+P(A_2)+P(A_3)+…$$\n",
        "Esto permite sumar las probabilidades de eventos que no se pueden dar juntos."
      ],
      "metadata": {
        "id": "lhIyMV5c3es9"
      }
    },
    {
      "cell_type": "markdown",
      "source": [
        "**Ejemplo: Lanzar un dado**"
      ],
      "metadata": {
        "id": "9HR1l6xc5tok"
      }
    },
    {
      "cell_type": "code",
      "source": [
        "# Definimos espacio muestral y probabilidades de cada evento\n",
        "espacio_muestral = [1, 2, 3, 4, 5, 6]\n",
        "probabilidades = {1: 1/6, 2: 1/6, 3: 1/6, 4: 1/6, 5: 1/6, 6: 1/6}\n",
        "\n",
        "# Axioma 1: No negatividad\n",
        "no_negatividad = all(p >= 0 for p in probabilidades.values())\n",
        "print(\"Axioma 1 (No negatividad) se cumple:\", no_negatividad)\n",
        "\n",
        "# Axioma 2: Normalización\n",
        "suma_total_probabilidades = sum(probabilidades.values())\n",
        "print(\"Axioma 2 (Normalización) se cumple:\", suma_total_probabilidades == 1)\n",
        "\n",
        "# Axioma 3: Aditividad para eventos mutuamente excluyentes\n",
        "# Por ejemplo: P(1 o 2) = P(1) + P(2)\n",
        "p_1 = probabilidades[1]\n",
        "p_2 = probabilidades[2]\n",
        "p_union_1_2 = p_1 + p_2\n",
        "\n",
        "print(\"Axioma 3 (Aditividad) se cumple para P(1 ∪ 2):\", p_union_1_2 == (1/6 + 1/6))"
      ],
      "metadata": {
        "colab": {
          "base_uri": "https://localhost:8080/"
        },
        "id": "aZiNCewp5u7v",
        "outputId": "67eb87d1-a84a-4428-bcd8-1825f10f87ec"
      },
      "execution_count": 1,
      "outputs": [
        {
          "output_type": "stream",
          "name": "stdout",
          "text": [
            "Axioma 1 (No negatividad) se cumple: True\n",
            "Axioma 2 (Normalización) se cumple: False\n",
            "Axioma 3 (Aditividad) se cumple para P(1 ∪ 2): True\n"
          ]
        }
      ]
    },
    {
      "cell_type": "markdown",
      "source": [
        "### 1.3 Probabilidad Condicional"
      ],
      "metadata": {
        "id": "8p6q_d3B6JeM"
      }
    },
    {
      "cell_type": "markdown",
      "source": [
        "Definimos la probabilidad de que ocurra un evento $A$ sabiendo que ocurre el evento $B$,\n",
        "$$ \\mathbb{P}(A \\mid B) = \\frac{\\mathbb{P}(A \\cap B)}{\\mathbb{P}(B)} = \\frac{\\# A\\cap B}{\\#B} $$\n",
        "donde $\\mathbb{P}(B)>0$."
      ],
      "metadata": {
        "id": "IFYCDVfh6OgV"
      }
    },
    {
      "cell_type": "markdown",
      "source": [
        "**Ejemplo:**\n",
        "\n",
        "Queremos calcular la probabilidad condicional de los siguientes eventos:\n",
        "*   El primer lanzamiento es águila\n",
        "*   Dos de los resultados son águila"
      ],
      "metadata": {
        "id": "La8VBRuc6UR9"
      }
    },
    {
      "cell_type": "code",
      "source": [
        "def prob_cond(E,F):\n",
        "    return len(E & F) / len(F)"
      ],
      "metadata": {
        "id": "S0fvU89f6jXm"
      },
      "execution_count": 3,
      "outputs": []
    },
    {
      "cell_type": "code",
      "source": [
        "# El primer lanzamiento es águila\n",
        "B = { om for om in Omega if om[0]==\"A\"} # el primer lanzamiento es águila\n",
        "B"
      ],
      "metadata": {
        "colab": {
          "base_uri": "https://localhost:8080/"
        },
        "id": "5T3Trsjs6lC8",
        "outputId": "931d5da5-0b25-4303-b841-902226a3709e"
      },
      "execution_count": 4,
      "outputs": [
        {
          "output_type": "execute_result",
          "data": {
            "text/plain": [
              "{('A', 'A', 'A'), ('A', 'A', 'S'), ('A', 'S', 'A'), ('A', 'S', 'S')}"
            ]
          },
          "metadata": {},
          "execution_count": 4
        }
      ]
    },
    {
      "cell_type": "code",
      "source": [
        "C = { om for om in Omega if om.count(\"A\")==2}\n",
        "C"
      ],
      "metadata": {
        "colab": {
          "base_uri": "https://localhost:8080/"
        },
        "id": "_X_qY-gh6nC-",
        "outputId": "bb5e58bc-bdf2-47a3-9371-3cf517a478e1"
      },
      "execution_count": 5,
      "outputs": [
        {
          "output_type": "execute_result",
          "data": {
            "text/plain": [
              "{('A', 'A', 'S'), ('A', 'S', 'A'), ('S', 'A', 'A')}"
            ]
          },
          "metadata": {},
          "execution_count": 5
        }
      ]
    },
    {
      "cell_type": "code",
      "source": [
        "def prob(E):\n",
        "    return len(E) / len(Omega)"
      ],
      "metadata": {
        "id": "jFmJzdx86pVN"
      },
      "execution_count": 6,
      "outputs": []
    },
    {
      "cell_type": "code",
      "source": [
        "prob(B)"
      ],
      "metadata": {
        "colab": {
          "base_uri": "https://localhost:8080/"
        },
        "id": "dveMXP_Y6rWs",
        "outputId": "f6133c38-aaea-4eb7-adf9-70b259a2158e"
      },
      "execution_count": 7,
      "outputs": [
        {
          "output_type": "execute_result",
          "data": {
            "text/plain": [
              "0.5"
            ]
          },
          "metadata": {},
          "execution_count": 7
        }
      ]
    },
    {
      "cell_type": "code",
      "source": [
        "prob(C)"
      ],
      "metadata": {
        "colab": {
          "base_uri": "https://localhost:8080/"
        },
        "id": "8pn0srbJ6s2W",
        "outputId": "54a0f279-f840-4b31-9ccc-8cad0b4b29a0"
      },
      "execution_count": 8,
      "outputs": [
        {
          "output_type": "execute_result",
          "data": {
            "text/plain": [
              "0.375"
            ]
          },
          "metadata": {},
          "execution_count": 8
        }
      ]
    },
    {
      "cell_type": "code",
      "source": [
        "prob_cond(B,C)"
      ],
      "metadata": {
        "colab": {
          "base_uri": "https://localhost:8080/"
        },
        "id": "HJd-b_XC6uyu",
        "outputId": "c2fd0628-b4bd-4d11-af63-003c6f837ebe"
      },
      "execution_count": 9,
      "outputs": [
        {
          "output_type": "execute_result",
          "data": {
            "text/plain": [
              "0.6666666666666666"
            ]
          },
          "metadata": {},
          "execution_count": 9
        }
      ]
    },
    {
      "cell_type": "markdown",
      "source": [
        "### 1.4 Independencia"
      ],
      "metadata": {
        "id": "39dqkIdv63kV"
      }
    },
    {
      "cell_type": "markdown",
      "source": [
        "Decimos que dos eventos $A$ y $B$ son independientes si\n",
        "$$ \\mathbb{P}(A\\cap B) = \\mathbb{P}(A)\\mathbb{P}(B)$$\n",
        "o de manera equivalente\n",
        "$$ \\mathbb{P}(A | B ) = \\mathbb{P}(A) $$"
      ],
      "metadata": {
        "id": "rtGM3w3I68p1"
      }
    },
    {
      "cell_type": "markdown",
      "source": [
        "**Ejemplo:**\n",
        "\n",
        "Vamos a considerar el evento:\n",
        "$D$: en el segundo lanzamiento es sol"
      ],
      "metadata": {
        "id": "CThNd_3Y7BKt"
      }
    },
    {
      "cell_type": "code",
      "source": [
        "def indep(E,F):\n",
        "    return prob(E & F) == prob(E)*prob(F)"
      ],
      "metadata": {
        "id": "6MrYLRbu7K3t"
      },
      "execution_count": 10,
      "outputs": []
    },
    {
      "cell_type": "code",
      "source": [
        "indep(B,C)"
      ],
      "metadata": {
        "colab": {
          "base_uri": "https://localhost:8080/"
        },
        "id": "BjZeOHTL7Mbm",
        "outputId": "643e9510-63e6-4c5b-f251-7007e0e4a38c"
      },
      "execution_count": 11,
      "outputs": [
        {
          "output_type": "execute_result",
          "data": {
            "text/plain": [
              "False"
            ]
          },
          "metadata": {},
          "execution_count": 11
        }
      ]
    },
    {
      "cell_type": "code",
      "source": [
        "D = { om for om in Omega if om[1]==\"S\"}\n",
        "D"
      ],
      "metadata": {
        "colab": {
          "base_uri": "https://localhost:8080/"
        },
        "id": "0nNr7Ptp7N5n",
        "outputId": "1c30205e-c65a-4a7b-fcb1-ef3268acbcd5"
      },
      "execution_count": 12,
      "outputs": [
        {
          "output_type": "execute_result",
          "data": {
            "text/plain": [
              "{('A', 'S', 'A'), ('A', 'S', 'S'), ('S', 'S', 'A'), ('S', 'S', 'S')}"
            ]
          },
          "metadata": {},
          "execution_count": 12
        }
      ]
    },
    {
      "cell_type": "code",
      "source": [
        "prob(D)"
      ],
      "metadata": {
        "colab": {
          "base_uri": "https://localhost:8080/"
        },
        "id": "CuVZXmdg7PZ2",
        "outputId": "b1f50e0d-2f31-4bc9-d9bd-c8dacdf44ccc"
      },
      "execution_count": 13,
      "outputs": [
        {
          "output_type": "execute_result",
          "data": {
            "text/plain": [
              "0.5"
            ]
          },
          "metadata": {},
          "execution_count": 13
        }
      ]
    },
    {
      "cell_type": "code",
      "source": [
        "prob_cond(B,D)"
      ],
      "metadata": {
        "colab": {
          "base_uri": "https://localhost:8080/"
        },
        "id": "pPFiM0jl7Q5V",
        "outputId": "f4bfb5e5-957f-4d90-8de0-2d15b99c5f60"
      },
      "execution_count": 14,
      "outputs": [
        {
          "output_type": "execute_result",
          "data": {
            "text/plain": [
              "0.5"
            ]
          },
          "metadata": {},
          "execution_count": 14
        }
      ]
    },
    {
      "cell_type": "code",
      "source": [
        "indep(B,D)"
      ],
      "metadata": {
        "colab": {
          "base_uri": "https://localhost:8080/"
        },
        "id": "3KsQ9lth7Sm9",
        "outputId": "f96dccc2-e917-4fb0-cb03-b5a08f81300d"
      },
      "execution_count": 15,
      "outputs": [
        {
          "output_type": "execute_result",
          "data": {
            "text/plain": [
              "True"
            ]
          },
          "metadata": {},
          "execution_count": 15
        }
      ]
    },
    {
      "cell_type": "code",
      "source": [
        "indep(C,D)"
      ],
      "metadata": {
        "colab": {
          "base_uri": "https://localhost:8080/"
        },
        "id": "rEO8ITBb7WGN",
        "outputId": "e06a1e87-cdbb-41e7-e15e-642cc0b75f3f"
      },
      "execution_count": 16,
      "outputs": [
        {
          "output_type": "execute_result",
          "data": {
            "text/plain": [
              "False"
            ]
          },
          "metadata": {},
          "execution_count": 16
        }
      ]
    },
    {
      "cell_type": "code",
      "source": [
        "indep(B,C)"
      ],
      "metadata": {
        "colab": {
          "base_uri": "https://localhost:8080/"
        },
        "id": "PjUaSTkD7Xhf",
        "outputId": "b20b9da9-0bb0-41e2-a0b6-bb28c26858f0"
      },
      "execution_count": 17,
      "outputs": [
        {
          "output_type": "execute_result",
          "data": {
            "text/plain": [
              "False"
            ]
          },
          "metadata": {},
          "execution_count": 17
        }
      ]
    },
    {
      "cell_type": "markdown",
      "source": [
        "Por lo tanto, los eventos no son independientes."
      ],
      "metadata": {
        "id": "2zDp7NEG7ZjN"
      }
    },
    {
      "cell_type": "markdown",
      "source": [
        "**Ejemplo:**\n",
        "\n",
        " Sea el experimento aleatorio de lanzar un dado dos veces. Sabemos que el espacio muestral es el siguiente:\n",
        "$$ \\Omega = \\{ (i,j) | i,j \\in \\{1,2,3,4,5,6 \\} \\} = \\{1,2,3,4,5,6 \\} \\times \\{1,2,3,4,5,6 \\} = \\{1,2,3,4,5,6 \\}^2$$\n",
        "y además\n",
        "$$\\#\\Omega = 6^2 = 36$$"
      ],
      "metadata": {
        "id": "T-hE5TEb7aId"
      }
    },
    {
      "cell_type": "code",
      "source": [
        "Omega_dado =  set( product([1,2,3,4,5,6],repeat=2 ))\n",
        "Omega_dado"
      ],
      "metadata": {
        "colab": {
          "base_uri": "https://localhost:8080/"
        },
        "id": "Ay3wfAow7kwG",
        "outputId": "ca283913-7a1c-431f-ff71-04cdcc0ed0b1"
      },
      "execution_count": 18,
      "outputs": [
        {
          "output_type": "execute_result",
          "data": {
            "text/plain": [
              "{(1, 1),\n",
              " (1, 2),\n",
              " (1, 3),\n",
              " (1, 4),\n",
              " (1, 5),\n",
              " (1, 6),\n",
              " (2, 1),\n",
              " (2, 2),\n",
              " (2, 3),\n",
              " (2, 4),\n",
              " (2, 5),\n",
              " (2, 6),\n",
              " (3, 1),\n",
              " (3, 2),\n",
              " (3, 3),\n",
              " (3, 4),\n",
              " (3, 5),\n",
              " (3, 6),\n",
              " (4, 1),\n",
              " (4, 2),\n",
              " (4, 3),\n",
              " (4, 4),\n",
              " (4, 5),\n",
              " (4, 6),\n",
              " (5, 1),\n",
              " (5, 2),\n",
              " (5, 3),\n",
              " (5, 4),\n",
              " (5, 5),\n",
              " (5, 6),\n",
              " (6, 1),\n",
              " (6, 2),\n",
              " (6, 3),\n",
              " (6, 4),\n",
              " (6, 5),\n",
              " (6, 6)}"
            ]
          },
          "metadata": {},
          "execution_count": 18
        }
      ]
    },
    {
      "cell_type": "code",
      "source": [
        "cardOm = len(Omega_dado)\n",
        "cardOm"
      ],
      "metadata": {
        "colab": {
          "base_uri": "https://localhost:8080/"
        },
        "id": "RbRBQdBw7meF",
        "outputId": "307a6675-5a6f-4ca5-d7fa-7d9034dd445f"
      },
      "execution_count": 19,
      "outputs": [
        {
          "output_type": "execute_result",
          "data": {
            "text/plain": [
              "36"
            ]
          },
          "metadata": {},
          "execution_count": 19
        }
      ]
    },
    {
      "cell_type": "markdown",
      "source": [
        "Definimos el evento:\n",
        "\n",
        "$S_n$: la suma de los dados en $n$\n",
        "y escrito como conjunto es\n",
        "$$ S_n = \\{ (i,j)\\in\\Omega \\mid i+j = n \\}$$"
      ],
      "metadata": {
        "id": "p5xwF2Rv7pWt"
      }
    },
    {
      "cell_type": "code",
      "source": [
        "def S(n):\n",
        "    Sn = { (i,j) for i in range(1,7) for j in range(1,7) if i+j == n }\n",
        "    return Sn"
      ],
      "metadata": {
        "id": "PROrOzzW7tHf"
      },
      "execution_count": 20,
      "outputs": []
    },
    {
      "cell_type": "code",
      "source": [
        "S_nueve = S(9)\n",
        "S_nueve"
      ],
      "metadata": {
        "colab": {
          "base_uri": "https://localhost:8080/"
        },
        "id": "AhM7vSAz7udd",
        "outputId": "17ac8b2e-cba5-43d7-c845-f1966992424a"
      },
      "execution_count": 21,
      "outputs": [
        {
          "output_type": "execute_result",
          "data": {
            "text/plain": [
              "{(3, 6), (4, 5), (5, 4), (6, 3)}"
            ]
          },
          "metadata": {},
          "execution_count": 21
        }
      ]
    },
    {
      "cell_type": "code",
      "source": [
        "len(S_nueve) / cardOm"
      ],
      "metadata": {
        "colab": {
          "base_uri": "https://localhost:8080/"
        },
        "id": "Yyb_t94Z7wnd",
        "outputId": "69949f9d-8b0d-4d4f-e333-e564ee3053ba"
      },
      "execution_count": 22,
      "outputs": [
        {
          "output_type": "execute_result",
          "data": {
            "text/plain": [
              "0.1111111111111111"
            ]
          },
          "metadata": {},
          "execution_count": 22
        }
      ]
    },
    {
      "cell_type": "markdown",
      "source": [
        "$ \\mathbb{P}(S(9)) = 4/36 $"
      ],
      "metadata": {
        "id": "FaxnbuDI7zY2"
      }
    },
    {
      "cell_type": "markdown",
      "source": [
        "## 2. Enfoque Geométrico"
      ],
      "metadata": {
        "id": "RUwh4sfC7_4e"
      }
    },
    {
      "cell_type": "markdown",
      "source": [
        "Se usa cuando los resultados posibles corresponden a una medida continua y todos los puntos tienen la misma probabilidad de ocurrir.\n",
        "\n",
        "Sea $\\Omega$ una región geométrica (el espacio muestral) y sea $A$ una subregión dentro de $\\Omega$ (un evento). Entonces, la probabilidad geométrica del evento $A$ se define como:\n",
        "\n",
        "$$P(A) = \\frac{\\text{Medida de } A}{\\text{Medida de } \\Omega}$$"
      ],
      "metadata": {
        "id": "uuzVFyVm8QXl"
      }
    },
    {
      "cell_type": "markdown",
      "source": [
        "**Ejemplo:**\n",
        "\n",
        "Se lanza una flecha a una diana circular de radio 2. ¿Cuál es la probabilidad de que caiga en una zona circular interna de radio 1?"
      ],
      "metadata": {
        "id": "CSpcUdye9yJ9"
      }
    },
    {
      "cell_type": "markdown",
      "source": [
        "Área:\n",
        "$$A_S=π * 2^2=4\\pi$$\n",
        "Área del objeto:\n",
        "$$A_A=\\pi * 1^2=\\pi$$\n",
        "Probabilidad:\n",
        "$$P(A)=\\frac{\\pi}{4\\pi}=\\frac{1}{4}=0.25$$"
      ],
      "metadata": {
        "id": "ibGMErj794Be"
      }
    },
    {
      "cell_type": "code",
      "source": [
        "import numpy as np\n",
        "\n",
        "radio_total = 2\n",
        "radio_objetivo = 1\n",
        "\n",
        "area_total = np.pi * radio_total**2\n",
        "area_objetivo = np.pi * radio_objetivo**2\n",
        "\n",
        "# Probabilidad geométrica\n",
        "prob_geom = area_objetivo / area_total\n",
        "prob_geom\n"
      ],
      "metadata": {
        "colab": {
          "base_uri": "https://localhost:8080/"
        },
        "id": "jm0lz9Ur92EP",
        "outputId": "f51889c4-048b-47b1-99f9-fc40b7fc520a"
      },
      "execution_count": 23,
      "outputs": [
        {
          "output_type": "execute_result",
          "data": {
            "text/plain": [
              "0.25"
            ]
          },
          "metadata": {},
          "execution_count": 23
        }
      ]
    },
    {
      "cell_type": "markdown",
      "source": [
        "### 2.1 Problema del Encuentro"
      ],
      "metadata": {
        "id": "8dqd7yu2-17G"
      }
    },
    {
      "cell_type": "markdown",
      "source": [
        "Romeo y Julieta pretenden encontrarse en un lugar específico entree $[0,60]$.\n",
        "\n",
        "- Si Romeo llega primero, entonces piensa esperar 10 minutos\n",
        "- Si Julieta llega primero, entonces piensa esperar 10 minutos\n",
        "\n",
        "Se elige un número al azar entre $0$ y $60$, y supongamos que el par de números se eñige sobre el cuadrado $60^2$, de modo que la probabilidad de un evento, sea el área favorable entre el área total.\n",
        "\n",
        "Sea el evento\n",
        "- $A$: Romeo y Julieta se encuentran a una distancia de $10$ minutos."
      ],
      "metadata": {
        "id": "Mzz40mUv--Xu"
      }
    },
    {
      "cell_type": "code",
      "source": [
        "import matplotlib.pyplot as plt\n",
        "import numpy as np\n",
        "\n",
        "# Vamos a generar 100,000 simulaciones\n",
        "muestra = 1000000\n",
        "\n",
        "# Generamos los tiempos aleatorios entre [0,60]\n",
        "# x : tiempo de llegada de Romero [0,60]\n",
        "# y : tiempo de llegada de Romero [0,60]\n",
        "\n",
        "x,y = np.random.uniform(0,60,muestra), np.random.uniform(0,60,muestra)\n",
        "\n",
        "# Vamos a añadir nuestra condición de encuentro\n",
        "encuentro = np.where(abs(x-y)<=10, 'r', 'b') # r si se encuentran y b si no se encuentran\n",
        "\n",
        "# Calculo de la probabilidad del encuentro\n",
        "k=0\n",
        "for elemento in encuentro:\n",
        "    if elemento == 'r':\n",
        "        k += 1\n",
        "\n",
        "print(\"La probabilidad del evento A es: {}.\".format(k/muestra))\n",
        "\n",
        "plt.scatter(x,y,c=encuentro,s=1)\n",
        "plt.show()"
      ],
      "metadata": {
        "colab": {
          "base_uri": "https://localhost:8080/",
          "height": 447
        },
        "id": "7KfHsdsR_Acm",
        "outputId": "416947e6-55ba-4ff8-b6c6-667d09a8b735"
      },
      "execution_count": 24,
      "outputs": [
        {
          "output_type": "stream",
          "name": "stdout",
          "text": [
            "La probabilidad del evento A es: 0.305723.\n"
          ]
        },
        {
          "output_type": "display_data",
          "data": {
            "text/plain": [
              "<Figure size 640x480 with 1 Axes>"
            ],
            "image/png": "[encoded data removed]"
          },
          "metadata": {}
        }
      ]
    },
    {
      "cell_type": "markdown",
      "source": [
        "## 3. Enfoque Frecuentista"
      ],
      "metadata": {
        "id": "cqWrYdjf_a9f"
      }
    },
    {
      "cell_type": "markdown",
      "source": [
        "La probabilidad frecuentista es una forma de interpretar la probabilidad como la frecuencia relativa de ocurrencia de un evento cuando un experimento se repite muchas veces, bajo las mismas condiciones.\n",
        "\n",
        "Es decir, se basa en la experiencia o en los datos obtenidos al repetir un experimento.\n",
        "\n",
        "Cuantas más veces repitas el experimento, más se aproxima esa frecuencia relativa al valor real de la probabilidad.\n",
        "\n",
        "Tenemos la hipótesis de que el espacio muestral es un conjunto finito, y podemos definir la probabilidad asociada a un evento $A$:\n",
        "\n",
        "$$ f_n(A) = \\frac{n(A)}{n}, $$\n",
        "donde $n(A)$ denota al número de veces que ocurre $A$, y $n$ es el número de veces en que se realiza el experimento."
      ],
      "metadata": {
        "id": "h_4TtoNg_iE3"
      }
    },
    {
      "cell_type": "markdown",
      "source": [
        "**Características:**\n",
        "\n",
        "\n",
        "*   No asume que todos los resultados son igualmente probables.\n",
        "*   Depende de los datos observados.\n",
        "*   Se utiliza en situaciones donde se pueden hacer ensayos repetidos.\n"
      ],
      "metadata": {
        "id": "kGAq_wNW_6j_"
      }
    },
    {
      "cell_type": "markdown",
      "source": [
        "**Ejemplo: Volado**"
      ],
      "metadata": {
        "id": "aZTfqlV9ARz_"
      }
    },
    {
      "cell_type": "code",
      "source": [
        "import random"
      ],
      "metadata": {
        "id": "kB1e294qANo-"
      },
      "execution_count": 25,
      "outputs": []
    },
    {
      "cell_type": "markdown",
      "source": [
        "Se tiene el lanzamiento de monedas injustas (volados)"
      ],
      "metadata": {
        "id": "G4rPwoygAPqG"
      }
    },
    {
      "cell_type": "code",
      "source": [
        "def volado(p):\n",
        "    return 'sol' if random.random() < p else 'aguila'"
      ],
      "metadata": {
        "id": "u7-tYq6sAQ6m"
      },
      "execution_count": 26,
      "outputs": []
    },
    {
      "cell_type": "code",
      "source": [
        "volado(0.4)"
      ],
      "metadata": {
        "colab": {
          "base_uri": "https://localhost:8080/",
          "height": 36
        },
        "id": "OwGlScwkAUyO",
        "outputId": "51875a98-f2f0-40ff-db00-4607779be3fc"
      },
      "execution_count": 27,
      "outputs": [
        {
          "output_type": "execute_result",
          "data": {
            "text/plain": [
              "'aguila'"
            ],
            "application/vnd.google.colaboratory.intrinsic+json": {
              "type": "string"
            }
          },
          "metadata": {},
          "execution_count": 27
        }
      ]
    },
    {
      "cell_type": "code",
      "source": [
        "a = [volado(0.4) for i in range(10)]\n",
        "a"
      ],
      "metadata": {
        "colab": {
          "base_uri": "https://localhost:8080/"
        },
        "id": "hDUcr01qAWRH",
        "outputId": "1d8ecf46-5084-4366-8e3a-2ee4d07ce090"
      },
      "execution_count": 28,
      "outputs": [
        {
          "output_type": "execute_result",
          "data": {
            "text/plain": [
              "['aguila',\n",
              " 'sol',\n",
              " 'aguila',\n",
              " 'aguila',\n",
              " 'sol',\n",
              " 'aguila',\n",
              " 'aguila',\n",
              " 'sol',\n",
              " 'sol',\n",
              " 'aguila']"
            ]
          },
          "metadata": {},
          "execution_count": 28
        }
      ]
    },
    {
      "cell_type": "code",
      "source": [
        "a.count(\"sol\")"
      ],
      "metadata": {
        "colab": {
          "base_uri": "https://localhost:8080/"
        },
        "id": "9FzxkeihAXoN",
        "outputId": "f3839c7e-c812-485f-ef6d-d1da415b2551"
      },
      "execution_count": 29,
      "outputs": [
        {
          "output_type": "execute_result",
          "data": {
            "text/plain": [
              "4"
            ]
          },
          "metadata": {},
          "execution_count": 29
        }
      ]
    },
    {
      "cell_type": "code",
      "source": [
        "resultados = [] # lista vacia"
      ],
      "metadata": {
        "id": "597ln613AbG2"
      },
      "execution_count": 30,
      "outputs": []
    },
    {
      "cell_type": "code",
      "source": [
        "for i in range(10):\n",
        "    resultado = volado(0.4)\n",
        "    resultados.append(resultado)\n",
        "resultados"
      ],
      "metadata": {
        "colab": {
          "base_uri": "https://localhost:8080/"
        },
        "id": "m6onvPKBAck_",
        "outputId": "ed8c0216-1b55-4722-9cf1-1f5885bad08f"
      },
      "execution_count": 31,
      "outputs": [
        {
          "output_type": "execute_result",
          "data": {
            "text/plain": [
              "['sol',\n",
              " 'aguila',\n",
              " 'aguila',\n",
              " 'aguila',\n",
              " 'sol',\n",
              " 'sol',\n",
              " 'aguila',\n",
              " 'sol',\n",
              " 'sol',\n",
              " 'aguila']"
            ]
          },
          "metadata": {},
          "execution_count": 31
        }
      ]
    },
    {
      "cell_type": "code",
      "source": [
        "# Vamos a simular nuestra probabilidad frecuentista\n",
        "p = [] #Lista para almacernar las probabilidades\n",
        "\n",
        "for i in range(1000): #Simula 1000 experimentos\n",
        "    N = 1000 # numero de lanzamientos\n",
        "    resultados = []\n",
        "\n",
        "    for i in range(N):\n",
        "        resultado = volado(0.63)\n",
        "        resultados.append(resultado)\n",
        "\n",
        "    n_soles = resultados.count(\"sol\") # cuenta en número de soles\n",
        "    p_soles = n_soles / N #calcula la proporción\n",
        "\n",
        "    p.append(p_soles)\n",
        "\n",
        "# Probabilidad promedio\n",
        "p_soles_prom = sum(p) / 1000\n",
        "\n",
        "print(\"Probabiliad {:.3f}\".format(p_soles_prom))"
      ],
      "metadata": {
        "colab": {
          "base_uri": "https://localhost:8080/"
        },
        "id": "-FFEW1wzAg7f",
        "outputId": "4d110c24-4436-482e-bd82-3323cc095364"
      },
      "execution_count": 32,
      "outputs": [
        {
          "output_type": "stream",
          "name": "stdout",
          "text": [
            "Probabiliad 0.630\n"
          ]
        }
      ]
    }
  ]
}