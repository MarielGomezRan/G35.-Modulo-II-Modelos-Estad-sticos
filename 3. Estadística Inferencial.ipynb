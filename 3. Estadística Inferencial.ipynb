{
  "nbformat": 4,
  "nbformat_minor": 0,
  "metadata": {
    "colab": {
      "provenance": [],
      "authorship_tag": "ABX9TyMCfb9tbDIlZTH1o+nFUrE0",
      "include_colab_link": true
    },
    "kernelspec": {
      "name": "python3",
      "display_name": "Python 3"
    },
    "language_info": {
      "name": "python"
    }
  },
  "cells": [
    {
      "cell_type": "markdown",
      "metadata": {
        "id": "view-in-github",
        "colab_type": "text"
      },
      "source": [
        "<a href=\"https://colab.research.google.com/github/MarielGomezRan/G35.-Modulo-II-Modelos-Estad-sticos/blob/main/3.%20Estad%C3%ADstica%20Inferencial.ipynb\" target=\"_parent\"><img src=\"https://colab.research.google.com/assets/colab-badge.svg\" alt=\"Open In Colab\"/></a>"
      ]
    },
    {
      "cell_type": "markdown",
      "source": [
        "# Proyecto Módulo II: Técnicas Estadísticas\n",
        "# 3. Estadística Inferencial\n",
        "### **Alumna: Mariel Gómez Rangel**\n",
        "\n",
        "\n"
      ],
      "metadata": {
        "id": "GMuFSHs_oxqK"
      }
    },
    {
      "cell_type": "markdown",
      "source": [
        "**Introducción**\n",
        "\n",
        "En este cuaderno se abordarán los conceptos fundamentales de la estadística inferencial, partiendo de la definición de estimadores y el análisis de sus principales propiedades. Posteriormente, se desarrollará la construcción e interpretación de intervalos de confianza, así como la formulación y aplicación de pruebas de hipótesis."
      ],
      "metadata": {
        "id": "XTdxT7poqOr5"
      }
    },
    {
      "cell_type": "markdown",
      "source": [
        "## 1. Estimadores y sus Propiedades\n"
      ],
      "metadata": {
        "id": "LNsVpfs36eO8"
      }
    },
    {
      "cell_type": "markdown",
      "source": [
        "### 1.1 Estimadores\n",
        "\n",
        "\n",
        "Un estimador es una regla o fórmula que se utiliza para calcular un valor aproximado de un parámetro poblacional a partir de una muestra.\n",
        "\n",
        "Sean $Y_1,…,Y_n$ variables aleatorias independientes $\\sim$ $\\mathcal{N}$($μ,θ$)\n",
        "$$\n",
        "\\Rightarrow \\overline{Y} = \\frac{1}{n} \\sum_{i=1}^{n} Y_i \\sim \\mathcal{N}\\left( \\mu, \\frac{\\sigma^2}{n} \\right)\n",
        "$$\n",
        "\n",
        "Estandarizamos y entonces:\n",
        "\n",
        "$$\n",
        "Z_i = \\frac{Y_i - \\mu}{\\sqrt{\\sigma^2}} = \\frac{Y_i - \\mu}{\\sigma} \\sim \\mathcal{N}(0, 1)\n",
        "$$\n",
        "\n",
        "Ahora, si tomamos\n",
        "\n",
        "$$\n",
        "\\sum_{i=1}^{n} Z_i^2 = \\sum_{i=1}^{n} \\left( \\frac{Y_i - \\mu}{\\sigma} \\right)^2 \\sim x^2_n\n",
        "\\quad \\text{(n = grados de libertad)}\n",
        "$$\n",
        "\n",
        "Entonces\n",
        "\n",
        "$$\n",
        "Z_i^2 \\sim x^2_1\n",
        "$$\n",
        "\n",
        "Si queremos hacer inferencias acerca de la media de una población normal $μ$ con $σ^2$ desconocida, se puede estimar, es decir, queremos conocer el **\"mejor parámetro\"**, entonces:\n",
        "\n",
        "**Estimadores**:  $T(X_1, \\ldots, X_n)$\n",
        "\n",
        "$$\n",
        "T(X_1, X_2) = \\frac{X_1 + X_2}{n}\n",
        "$$\n",
        "\n",
        "$$\n",
        "T(X_1, \\ldots, X_n) = \\frac{X_1 + \\cdots + X_n}{n}\n",
        "$$\n",
        "\n",
        "$$\n",
        "(X_1, \\ldots, X_n) \\text{ m.a.} \\xrightarrow{\\text{ajuste}} \\text{Distribución}\n",
        "$$\n",
        "\n",
        "$$\n",
        "\\Theta = \\left\\{ \\theta \\mid \\theta \\text{ es parámetro de la distribución} \\right\\} \\subseteq \\mathbb{R}\n",
        "$$\n",
        "\n",
        "$$\n",
        "\\mathbb{E}[X_i] < \\infty, \\quad \\mathrm{Var}(X) < \\infty\n",
        "$$\n"
      ],
      "metadata": {
        "id": "6zXnSQYksZx4"
      }
    },
    {
      "cell_type": "markdown",
      "source": [
        "Sea $(X_1, \\ldots, X_n)$ v.a.i. cada una con $f_{X_i}(x_i)$, entonces el conjunto de v.a. $ X_1, \\ldots, X_n$ se denomina una **muestra aleatoria** de tamaño n.\n",
        "\n",
        "Cualquier función real de una muestra aleatoria $T(X_1, \\ldots, X_n)$ se llama **estadístico**.\n",
        "\n",
        "Sea $X$ una v.a. con función de densidad $f(x; \\theta)$, que depende de los parámetros desconocidos $\\theta$. Sea $(X_1, \\ldots, X_n)$ una m.a. de $X$, se tiene:\n",
        "\n",
        "$$\n",
        "f({x;θ})=f(x_1, \\ldots, x_n ; \\theta) = \\prod_{i=1}^{n} f(x_i \\mid \\theta)\n",
        "$$\n",
        "\n",
        "donde \\( x_i \\) son los valores de los datos.\n",
        "\n",
        "Un **estimador** de $\\theta$ es cualquier estadístico $T(X_1, \\ldots, X_n)$  y se denota por:\n",
        "\n",
        "$$\n",
        "\\hat{\\theta} = T(X_1, \\ldots, X_n)\n",
        "$$\n",
        "\n",
        "**Nota**: Recordemos que un estimador es una variable aleatoria."
      ],
      "metadata": {
        "id": "49vgTq4JCJGF"
      }
    },
    {
      "cell_type": "markdown",
      "source": [
        "Los estimadores pueden ser:\n",
        "- **Puntuales:** en función de un solo valor  \n",
        "- **Intervalo:** en función de un rango de valores"
      ],
      "metadata": {
        "id": "EBBoeyv3DKj9"
      }
    },
    {
      "cell_type": "markdown",
      "source": [
        "### 1.2 Propiedades:\n",
        "- **Insesgadez**: Un estimador es insesgado si su valor esperado es igual al parámetro que está estimando. En otras palabras, no tiene sesgo sistemático.\n",
        "- **Consistencia**: Un estimador es consistente si, a medida que aumenta el tamaño de la muestra, el valor estimado se acerca al valor verdadero del parámetro.\n",
        "- **Eficiencia**: Un estimador es eficiente si tiene la menor varianza entre los estimadores insesgados.\n",
        "\n"
      ],
      "metadata": {
        "id": "oLWXgLvGEACW"
      }
    },
    {
      "cell_type": "markdown",
      "source": [
        "**Ejemplo:** Estimador insesgado"
      ],
      "metadata": {
        "id": "WU9qSQ2VFy2G"
      }
    },
    {
      "cell_type": "code",
      "source": [
        "# Importamos las librerías necesarias\n",
        "import numpy as np\n",
        "import scipy.stats as stats\n",
        "import matplotlib.pyplot as plt\n",
        "import seaborn as sns\n",
        "import scipy.stats as st\n",
        "\n",
        "# Establecemos el estilo de los gráficos\n",
        "sns.set(style=\"whitegrid\")\n"
      ],
      "metadata": {
        "id": "46e3XJfSEQCl"
      },
      "execution_count": null,
      "outputs": []
    },
    {
      "cell_type": "code",
      "source": [
        "# Generamos una muestra aleatoria\n",
        "np.random.seed(42)\n",
        "muestra = np.random.normal(loc=50, scale=10, size=100)\n",
        "\n",
        "# Calculamos el estimador de la media\n",
        "estimador_media = np.mean(muestra)\n",
        "estimador_media\n",
        "\n",
        "# Gráfico de la muestra\n",
        "plt.figure(figsize=(8,6))\n",
        "sns.histplot(muestra, kde=True)\n",
        "plt.title(\"Distribución de la Muestra\")\n",
        "plt.xlabel(\"Valor\")\n",
        "plt.ylabel(\"Frecuencia\")\n",
        "plt.show()"
      ],
      "metadata": {
        "colab": {
          "base_uri": "https://localhost:8080/",
          "height": 573
        },
        "id": "c_PoTMkYEYkt",
        "outputId": "e4814ba3-ace3-41f1-9408-866259dbd6a6"
      },
      "execution_count": null,
      "outputs": [
        {
          "output_type": "display_data",
          "data": {
            "text/plain": [
              "<Figure size 800x600 with 1 Axes>"
            ],
            "image/png": "[encoded data removed]"
          },
          "metadata": {}
        }
      ]
    },
    {
      "cell_type": "markdown",
      "source": [
        "### 1.3 Notas:\n",
        "**Propiedades de la invarianza:**\n",
        "\n",
        "Si $\\hat{\\theta}$ es **EMV** de $\\theta$ pero nos interesa estimar a una función de $\\theta$, digamos $\\tau(\\theta)$, entonces\n",
        "$$\\hat{\\tau(\\theta)}=\\tau(\\hat{\\theta})$$\n",
        "De forma que:\n",
        "$$\\hat{\\theta}=\\bar{X}$$ es **EMV** de $\\theta$\n",
        "$$\\Rightarrow τ(\\theta)=\\theta^2$$\n",
        "$$\\Rightarrow \\hat{\\tau(\\theta)}=(\\bar{X})^2$$"
      ],
      "metadata": {
        "id": "AHzRRZaGF4_e"
      }
    },
    {
      "cell_type": "markdown",
      "source": [
        "***Ejemplo:***\n",
        "\n",
        "Si\n",
        "$$X_1,…,X_n \\sim \\mathcal{exp}(\\lambda)$$\n",
        "Entonces:\n",
        "$$\\hat{\\theta}_1=X_1$$\n",
        "$$\\hat{\\theta}_2=\\frac{X_1+X_2}{2}$$\n",
        "$$\\hat{\\theta}_3=\\frac{X_1+2X_2}{3}$$\n",
        "Los cuales son estimadores de mínima varinza"
      ],
      "metadata": {
        "id": "0SW_UvcjI1HA"
      }
    },
    {
      "cell_type": "markdown",
      "source": [
        "**Error Cuadrático Medio:**\n",
        "\n",
        "El ECM mide el promedio de los cuadros de los errores, es decir, la diferencia cuadrática promedio entre los valores estimados y el valor verdadero.\n",
        "\n",
        "$$ECM(\\theta)^2=E[(\\hat{\\theta}-θ)^2]$$\n",
        "$$ECM(\\theta)^2=Var(\\hat{\\theta})+(E[\\hat{\\theta}]-θ)^2$$\n",
        "En donde $(E[\\hat{\\theta}]-θ)^2$ respresenta el sesgo."
      ],
      "metadata": {
        "id": "YsFX0c0IKDQP"
      }
    },
    {
      "cell_type": "markdown",
      "source": [
        "**Teorema de Fisher - Neymar:**\n",
        "\n",
        "Si $X_1,…,X_n$ es una variable aleatoria con m.a con función de distribución $f(x,θ)$\n",
        "\n",
        "Sea $T=t(x_1,…,x_n)$ es una estadística cuya f.d.p es $g(t,θ)$.\n",
        "\n",
        "Entonces T es suficiente para $θ$ si y sólo si:\n",
        "$$L(x_1,…,x_n;θ)=H(x_1,…,x_n)g(l(x_1,…,x_n);θ)$$"
      ],
      "metadata": {
        "id": "xLaH1EzuLoYC"
      }
    },
    {
      "cell_type": "markdown",
      "source": [
        "**Estimadores UMVUE:**\n",
        "\n",
        "Los estimadores UMVUE, son los estimadores insesgados de varianza uniforme mínima.\n",
        "\n",
        "Sea $X_1,…,X_n$ una m.a de $f(x,θ)$, un estimador  $$T^*=t(x_1,…,x_n)$$ de $τ(θ)$ se define como UMVUE de $τ(θ)$ si y sólo si cumple:\n",
        "\n",
        "\n",
        "1.   $E[T^*]=\\tau(θ)$ $…$  (insesgado)\n",
        "2.   $Var (T^*) \\leq Var (T)$ $…$ para cualquier otro estimador insesgado $T=t(x_1,…,x_n)$ de $τ(θ)$\n",
        "\n"
      ],
      "metadata": {
        "id": "37byQ7A2NcBy"
      }
    },
    {
      "cell_type": "markdown",
      "source": [
        "**Desigualdad de Crámer-Rao**\n",
        "\n",
        "La desigualdad establece un límite inferior para la varianza de cualquier estimador\n",
        "\n",
        "$$Var(T)\\geq \\frac{[\\tau'(\\theta)]^2}{nE[(\\frac{\\sigma ln f(x;\\theta))}{\\sigma \\theta})^2]}$$\n",
        "\n",
        "Si $Var(T)$ alcanza el límite inferior ⇒ **el estimador es insesgado óptimo**"
      ],
      "metadata": {
        "id": "1N9B6U00PY1g"
      }
    },
    {
      "cell_type": "markdown",
      "source": [
        "## 2. Intervalos de Confianza\n",
        "\n"
      ],
      "metadata": {
        "id": "vH1MLcPppJ-6"
      }
    },
    {
      "cell_type": "markdown",
      "source": [
        "Un intervalo de confianza es un rango de valores que, con una cierta probabilidad, contiene el valor del parámetro poblacional.\n",
        "\n",
        "**Definición:**\n",
        "\n",
        "Sea $X_1,…,X_n$ una m.a con $f(x;θ)$.\n",
        "\n",
        "Sean $T_1=t_1(X_1,…,X_n)$ y $T_2=t_2(X_1,…,X_n)$ dos estadísticos, tal que $T_1 \\leq T_2$\n",
        "\n",
        "$$P(T_1 \\leq \\tau(\\theta) \\leq T_2) = \\alpha$$\n",
        "\n",
        "Al intervalo aleatorio $(T_1,T_2)$ se le llama intervalo del $\\alpha$ x 100$\\%$ de confianza."
      ],
      "metadata": {
        "id": "vWnYieGrsdvZ"
      }
    },
    {
      "cell_type": "markdown",
      "source": [
        "Sea $X_1,\\dots,X_n$ una m.a con  $X_i \\sim \\mathcal{N}(\\mu, \\sigma^2)$. El error estándar (SE) medirá cuanto varía una estadística:\n",
        "\n",
        "1.   Si la SE $\\tau$ y en tamaño de la muestra es n:\n",
        "$$SE=\\frac{\\tau}{\\sqrt{n}}$$\n",
        "2.   Si no conozco $\\tau$, entonces usamos la desviación estándar muestral s:\n",
        "$$SE=\\frac{s}{\\sqrt{n}}$$\n",
        "3. Mientras mayor sea N $⇒$ menor será SE\n",
        "\n"
      ],
      "metadata": {
        "id": "pvhNLnPzpU6R"
      }
    },
    {
      "cell_type": "markdown",
      "source": [
        "### 2.1 Intervalo de Confianza para la media de una distribución normal (σ conocida)\n",
        "\n"
      ],
      "metadata": {
        "id": "EcSKn5IprMyq"
      }
    },
    {
      "cell_type": "markdown",
      "source": [
        "Sea $X_1, \\dots, X_n$ una m.a. $X_i \\sim \\mathcal{N}(\\mu, \\sigma^2)$. Entonces:\n",
        "\n",
        "- $\\bar{X} \\sim \\mathcal{N}(\\mu, \\frac{\\sigma^2}{n})$\n",
        "- $Z = \\frac{\\bar{X} - \\mu}{\\sigma / \\sqrt{n}} \\sim \\mathcal{N}(0,1)$\n",
        "\n",
        "**Nivel de significancia (error): $\\alpha$**\n",
        "\n",
        "El intervalo de confianza se basa en que:\n",
        "$$\n",
        "\\mathbb{P}\\left( -z_{\\alpha/2} < \\frac{\\bar{X} - \\mu}{\\sigma / \\sqrt{n}} < z_{\\alpha/2} \\right)\n",
        "= \\mathbb{P}\\left( \\bar{X} - z_{\\alpha/2} \\frac{\\sigma}{\\sqrt{n}} < \\mu < \\bar{X} + z_{\\alpha/2} \\frac{\\sigma}{\\sqrt{n}} \\right)\n",
        "= 1 - \\alpha\n",
        "$$\n",
        "\n",
        "**El intervalo del $(1 - \\alpha) \\cdot 100\\%$ de confianza para $\\mu$ (con $\\sigma$ conocida) es:**\n",
        "\n",
        "$$\n",
        "\\left( \\bar{X} - z_{\\alpha/2} \\frac{\\sigma}{\\sqrt{n}}, \\quad \\bar{X} + z_{\\alpha/2} \\frac{\\sigma}{\\sqrt{n}} \\right)\n",
        "$$\n",
        "donde\n",
        "\n",
        "- $\\sigma$ = desviación estándar  \n",
        "- $\\frac{\\sigma}{\\sqrt{n}}$ = error estándar de la media  \n",
        "- $z_{\\alpha/2}$ determina el nivel de confianza  \n",
        "- El intervalo está centrado en $\\bar{X}$\n",
        "\n",
        "**Observación**\n",
        "\n",
        "- A mayor $n$, menor es el error estándar, y el intervalo de confianza es más pequeño.\n",
        "- Esto hace que se acerque más a la media $\\mu$, es decir, que haya menor variación."
      ],
      "metadata": {
        "id": "-8tnvBbxtena"
      }
    },
    {
      "cell_type": "markdown",
      "source": [
        "**Ejemplo 1** Para tratar de estimar la media de consumo por cliente en un gran restaurante, se reunieron datos de una muestra de 49 clientes durante 3 semanas.\n",
        "\n",
        "**a)** Supongamos que la **desviación estándar de la población** es de $\\$2.50$. ¿Cuál es el error estándar de la media?\n",
        "\n",
        "**b)** Con un nivel de confianza del $95\\%$, ¿cuál es el margen de error?\n",
        "\n",
        "**c)** Si la **media de la muestra** es de $\\$22.60$, cuál es el intervalo de confianza del $95\\%$ para la media de la población?"
      ],
      "metadata": {
        "id": "BjE70bsGrheh"
      }
    },
    {
      "cell_type": "code",
      "source": [
        "# Datos\n",
        "n=49\n",
        "sigma = 2.50\n",
        "media_muestral = 22.60\n",
        "confianza = 0.95\n",
        "\n",
        "# a) Error estándar de la media\n",
        "error_estandar = sigma / np.sqrt(n)\n",
        "#error_estandar\n",
        "print(f\" a) Error estándar de la media: {error_estandar:.2f}\")\n",
        "\n",
        "# b) Margen de error\n",
        "z = st.norm.ppf(1-(1-confianza) / 2)\n",
        "margen_error = z * error_estandar\n",
        "#margen_error\n",
        "print(f\" b) Margen de error con 95% de confianza: {margen_error:.2f}\")\n",
        "\n",
        "# c)\n",
        "limite_inferior = media_muestral - margen_error\n",
        "limite_superior = media_muestral + margen_error\n",
        "print(f\" c) Intervalo de confianza del 95%: ({limite_inferior:.2f},{limite_superior:.2f})\")"
      ],
      "metadata": {
        "id": "1wXfK8Q1sTYK",
        "colab": {
          "base_uri": "https://localhost:8080/"
        },
        "outputId": "7254e614-9ad3-478f-e1ad-65ab24f68b56"
      },
      "execution_count": null,
      "outputs": [
        {
          "output_type": "stream",
          "name": "stdout",
          "text": [
            " a) Error estándar de la media: 0.36\n",
            " b) Margen de error con 95% de confianza: 0.70\n",
            " c) Intervalo de confianza del 95%: (21.90,23.30)\n"
          ]
        }
      ]
    },
    {
      "cell_type": "markdown",
      "source": [
        "$1-\\alpha=.95$, implica que $z_{\\alpha/2} = z_{0.025} = 1.96$"
      ],
      "metadata": {
        "id": "h4Jz73hYr30a"
      }
    },
    {
      "cell_type": "markdown",
      "source": [
        "**Ejemplo 2** Supongamos que se toma una muestra aleatoria de 100 personas para estimar la media del peso de una población, y se obtiene que la media muestral es de $70$ kg con una desviación estándar que es conocida de $10$ kg. Para un nivel de confianza del $95\\%$, calcular el intervalo de confianza"
      ],
      "metadata": {
        "id": "rKHaPkkIr5uR"
      }
    },
    {
      "cell_type": "code",
      "source": [
        "# Datos\n",
        "n = 100\n",
        "media_muestral = 70\n",
        "sigma = 10\n",
        "nivel_confianza = 0.95\n",
        "error_estandar = sigma / np.sqrt(n)\n",
        "\n",
        "#Utilizaremos la función scipy.stats.norm.interval\n",
        "# Sintaxis\n",
        "# scipy.stats.norm.interval(confidence, loc = media, scale = error_estandar )\n",
        "\n",
        "intervalo = st.norm.interval(confidence = nivel_confianza, loc = media_muestral, scale = error_estandar)\n",
        "print(f\"Intervalo de confianza del 95% es: {intervalo}\")\n"
      ],
      "metadata": {
        "colab": {
          "base_uri": "https://localhost:8080/"
        },
        "id": "utHsBRVnr7zj",
        "outputId": "13a6084b-606f-44af-c2ff-9b94c1a09bf9"
      },
      "execution_count": null,
      "outputs": [
        {
          "output_type": "stream",
          "name": "stdout",
          "text": [
            "Intervalo de confianza del 95% es: (np.float64(68.04003601545995), np.float64(71.95996398454005))\n"
          ]
        }
      ]
    },
    {
      "cell_type": "code",
      "source": [
        "# Puntos para graficar la curva normal\n",
        "x = np.linspace(media_muestral - 4*error_estandar, media_muestral + 4*error_estandar, 500)\n",
        "y = st.norm.pdf(x, loc=media_muestral, scale=error_estandar)\n",
        "\n",
        "# Gráfica\n",
        "plt.figure(figsize=(10, 5))\n",
        "plt.plot(x, y, label='Distribución normal', color='black')\n",
        "\n",
        "# Sombrear el intervalo de confianza\n",
        "plt.fill_between(x, y, where=(x >= intervalo[0]) & (x <= intervalo[1]), color='skyblue', alpha=0.6, label='IC 95%')\n",
        "\n",
        "# Líneas verticales\n",
        "plt.axvline(intervalo[0], color='blue', linestyle='--', label=f'IC inferior = {intervalo[0]:.2f}')\n",
        "plt.axvline(intervalo[1], color='blue', linestyle='--', label=f'IC superior = {intervalo[1]:.2f}')\n",
        "plt.axvline(media_muestral, color='red', linestyle='-', label=f'Media muestral = {media_muestral}')\n",
        "\n",
        "plt.title('Intervalo de confianza del 95% para la media ($\\\\sigma$ conocida)', fontsize=14)\n",
        "plt.xlabel('Valor de la variable')\n",
        "plt.ylabel('Densidad')\n",
        "plt.legend()\n",
        "plt.grid(True)\n",
        "plt.show()"
      ],
      "metadata": {
        "colab": {
          "base_uri": "https://localhost:8080/",
          "height": 499
        },
        "id": "UKkASlZXr-jS",
        "outputId": "b776abe3-6a16-4f3b-f3e0-34899151edb9"
      },
      "execution_count": null,
      "outputs": [
        {
          "output_type": "display_data",
          "data": {
            "text/plain": [
              "<Figure size 1000x500 with 1 Axes>"
            ],
            "image/png": "[encoded data removed]"
          },
          "metadata": {}
        }
      ]
    },
    {
      "cell_type": "markdown",
      "source": [
        "### 2.2 Intervalo de Confianza para la media $\\mu$ de una distribución normal ($\\sigma$ deconocida)\n",
        "\n"
      ],
      "metadata": {
        "id": "Yj3gCVsqsIEa"
      }
    },
    {
      "cell_type": "markdown",
      "source": [
        "Sea $X_1, \\dots, X_n$ una m.a. $X_i \\sim \\mathcal{N}(\\mu, \\sigma^2)$. Entonces:\n",
        "\n",
        "- $\\bar{X} \\sim \\mathcal{N}(\\mu, \\frac{\\sigma^2}{n})$\n",
        "- $Z = \\frac{\\bar{X} - \\mu}{\\sigma / \\sqrt{n}} \\sim \\mathcal{N}(0,1)$\n",
        "\n",
        "Si el tamaño de la muestra es menor a 30, se utiliza la $t$:\n",
        "\n",
        "**Estadístico t**\n",
        "\n",
        "Definimos el estadístico $t$ de la siguiente manera:\n",
        "$$T = \\frac{\\bar{X}-\\mu}{s/\\sqrt{n}} \\sim t_{(n-1)} $$\n",
        "\n",
        "**El intervalo del $(1 - \\alpha) \\cdot 100\\%$ de confianza para $\\mu$ (con $\\sigma$ desconocida) es:**\n",
        "\n",
        "$$\n",
        "\\left( \\bar{X} - t_{\\alpha/2} \\frac{s}{\\sqrt{n}}, \\quad \\bar{X} + t_{\\alpha/2} \\frac{s}{\\sqrt{n}} \\right)\n",
        "$$\n",
        "donde\n",
        "\n",
        "- $s$ = desviación estándar muestral\n",
        "- $\\frac{s}{\\sqrt{n}}$ = error estándar de la media  \n",
        "- $t_{\\alpha/2}$ determina el nivel de confianza  \n",
        "- El intervalo está centrado en $\\bar{X}$"
      ],
      "metadata": {
        "id": "7SrcUfKTta3y"
      }
    },
    {
      "cell_type": "markdown",
      "source": [
        "**Ejemplo 3** Supongamos que tenemos los siguientes datos\n",
        "$$ datos = [45, 55, 67, 45, 68, 79, 98, 87, 84, 82] $$\n",
        "Calcular un intervalo de confianza para la media."
      ],
      "metadata": {
        "id": "VIDwBjTlsOpE"
      }
    },
    {
      "cell_type": "code",
      "source": [
        "# Datos del ejemplo\n",
        "data = [45, 55, 67, 45, 68, 79, 98, 87, 84, 82]\n",
        "confidence = 0.95\n",
        "gl = len(data) - 1 # grados de liber\n",
        "\n",
        "# Media y error estandar\n",
        "mean = np.mean(data)\n",
        "error_est = st.sem(data)\n",
        "\n",
        "# Intervalo de confianza usando t de Student\n",
        "intervalo = st.t.interval(confidence, gl, loc = mean, scale = error_est)\n",
        "\n",
        "print(f\"Media muestral: {mean:.2f}\")\n",
        "print(f\"Error estandar: {error_est:.2f}\")\n",
        "print(f\"El intervalo de confianza del 95% es: {intervalo}\")"
      ],
      "metadata": {
        "colab": {
          "base_uri": "https://localhost:8080/"
        },
        "id": "evViozHLsQeC",
        "outputId": "67475ab3-5811-4727-ff73-3823db5ba9ff"
      },
      "execution_count": null,
      "outputs": [
        {
          "output_type": "stream",
          "name": "stdout",
          "text": [
            "Media muestral: 71.00\n",
            "Error estandar: 5.75\n",
            "El intervalo de confianza del 95% es: (np.float64(58.000521742293884), np.float64(83.99947825770612))\n"
          ]
        }
      ]
    },
    {
      "cell_type": "markdown",
      "source": [
        "**Ejemplo 4** Los artículos de cerámica utilizados sobre velas electricas sobrecargadas se rompen con diferentes presiones. Supongamos que los datos provienen de una distribución normal.\n",
        "\n",
        "La resistencia a la ruptura fue medida en una muestra de 100 artículos, y el promedio fue de $1750$ con un desviación estándar de 315.8\n",
        "\n",
        "**a)** Estimar con un nivel del confianza del $90\\%$ a la media poblacional de la presión de la ruptura.\n",
        "\n",
        "**b)** Estimar con un nivel del confianza del $90\\%$ a la varianza poblacional."
      ],
      "metadata": {
        "id": "85pfoGx4sTPh"
      }
    },
    {
      "cell_type": "code",
      "source": [
        "from scipy.stats import chi2\n",
        "# datos\n",
        "n = 100\n",
        "media_muestral = 1750\n",
        "desv_estandar_muestral = 315.8\n",
        "confianza = 0.90\n",
        "\n",
        "# a) Usar la normal ya que el tamaño de la muestra es grande\n",
        "error_est = desv_estandar_muestral / np.sqrt(n)\n",
        "error_est\n",
        "intervalo_media = st.norm.interval(confidence=confianza, loc = media_muestral, scale = error_est)\n",
        "print(f\"El intervalo de confianza del 90% es: {intervalo_media}\")\n",
        "\n",
        "# b) Intervalo de confianza para la varianza (usar chi-cuadrada)\n",
        "alpha = 1-confianza\n",
        "gl = n-1\n",
        "s2 = desv_estandar_muestral**2\n",
        "\n",
        "#Cuantiles de la chi-cuadrada\n",
        "chi2_inf = st.chi2.ppf(alpha / 2,df=gl)\n",
        "chi2_sup = st.chi2.ppf(1- alpha / 2,df=gl)\n",
        "\n",
        "# Intervalo de confianza\n",
        "intervalo_varianza = ((gl * s2) / chi2_sup, (gl * s2) / chi2_inf )\n",
        "print(f\"El intervalo de confianza del 90% es: {intervalo_varianza}\")\n",
        "\n",
        "#Otra forma\n",
        "chi2_low, chi2_high = chi2.interval(confianza,df=gl)\n",
        "intervalo_varianza1 = ((gl * s2) / chi2_high, (gl * s2) / chi2_low )\n",
        "print(f\"El intervalo de confianza del 90% es: {intervalo_varianza1}\")"
      ],
      "metadata": {
        "colab": {
          "base_uri": "https://localhost:8080/"
        },
        "id": "V4rEAnNxsVNy",
        "outputId": "a3235972-8417-4d08-c2e8-9b4fa507edf6"
      },
      "execution_count": null,
      "outputs": [
        {
          "output_type": "stream",
          "name": "stdout",
          "text": [
            "El intervalo de confianza del 90% es: (np.float64(1698.0555224608725), np.float64(1801.9444775391275))\n",
            "El intervalo de confianza del 90% es: (np.float64(80123.48643850331), np.float64(128146.71537457063))\n",
            "El intervalo de confianza del 90% es: (np.float64(80123.48643850331), np.float64(128146.71537457063))\n"
          ]
        }
      ]
    },
    {
      "cell_type": "markdown",
      "source": [
        "**Ejemplo 5**  El artículo *\"Evaluation of a Ventilation Strategy to Prevent Barotrauma in Patients at High Risk for Acute Respiratory Distress Syndrome\"* reportó sobre un experimento con 120 pacientes con anestesistas en cuidados intensivos (UCI), los cuales fueron divididos al azar en dos grupos, donde cada uno esta compuesto por 60 pacientes.\n",
        "\n",
        "- Grupo A: promedio de permanencia = 14.1 horas\n",
        "- Grupo B: promedio de permanencia = 17.5 horas\n",
        "- Desviación estándar en ambos = 5.1 hrs\n",
        "\n",
        "Encontrar un intervalo del $95\\%$ de confianza para la diferecia de medias poblacionales: $(\\mu_A - \\mu_B)$  "
      ],
      "metadata": {
        "id": "E0c_E-2LsaTp"
      }
    },
    {
      "cell_type": "code",
      "source": [
        "#Datos\n",
        "n1 = 60\n",
        "n2 = 60\n",
        "media1 = 14.1\n",
        "media2 = 17.5\n",
        "sigma = 5.1\n",
        "confianza = 0.95\n",
        "alpha = 1-confianza\n",
        "#gl = n1 + n2 -2\n",
        "\n",
        "#valor critico\n",
        "z = st.norm.ppf(1 - alpha / 2)\n",
        "\n",
        "#Error estandar\n",
        "error_est = sigma * np.sqrt(1/n1 + 1/n2)\n",
        "dif_medias = media1 - media2\n",
        "margen_error = z *error_est\n",
        "\n",
        "lim_inf = dif_medias - margen_error\n",
        "lim_sup = dif_medias + margen_error\n",
        "print(f\"Diferencia de las medias: {dif_medias:.2f}\")\n",
        "print(f\"Intervalo de confianza del 95%: ({lim_inf:.2f},{lim_sup:.2f})\")"
      ],
      "metadata": {
        "colab": {
          "base_uri": "https://localhost:8080/"
        },
        "id": "ED5_yHx0sdof",
        "outputId": "9974ce7a-515c-4c34-b079-9d5188db3a20"
      },
      "execution_count": null,
      "outputs": [
        {
          "output_type": "stream",
          "name": "stdout",
          "text": [
            "Diferencia de las medias: -3.40\n",
            "Intervalo de confianza del 95%: (-5.22,-1.58)\n"
          ]
        }
      ]
    },
    {
      "cell_type": "markdown",
      "source": [
        "### 2.3 Tarea Intervalos de Confianza"
      ],
      "metadata": {
        "id": "nEXLImIGtASh"
      }
    },
    {
      "cell_type": "markdown",
      "source": [
        "**Ejercicio 1:** En una encuesta de una Universidad, 225 estudiantes son seleccionados al azar de los que toman cálculo y se les pregunta si cálculo es su materia favorita. 100 estudiantes responden que el cálculo es su materia favorita. Proporcione un intervalo de confianza del 95 %  para la proporción de todos los estudiantes que toman cálculo y que la consideran su materia favorita.  "
      ],
      "metadata": {
        "id": "5XBi3qIWuG9x"
      }
    },
    {
      "cell_type": "code",
      "source": [
        "# Datos\n",
        "n = 225\n",
        "x = 100\n",
        "confianza = 0.95\n",
        "alpha = 1 - confianza\n",
        "\n",
        "# Calcular el intervalo de confianza\n",
        "p_hat = x / n\n",
        "error_estandar = np.sqrt((p_hat * (1 - p_hat)) / n)\n",
        "valor_critico = st.norm.ppf(1 - alpha / 2)\n",
        "margen_error = valor_critico * error_estandar\n",
        "limite_inferior = p_hat - margen_error\n",
        "limite_superior = p_hat + margen_error\n",
        "print(f\"Intervalo de confianza del {confianza*100}% para la proporción: ({limite_inferior:.4f}, {limite_superior:.4f})\")"
      ],
      "metadata": {
        "colab": {
          "base_uri": "https://localhost:8080/"
        },
        "id": "uicPeAAvuLSB",
        "outputId": "1f0b0e90-afa3-42e9-ff64-ee19dd2f786e"
      },
      "execution_count": null,
      "outputs": [
        {
          "output_type": "stream",
          "name": "stdout",
          "text": [
            "Intervalo de confianza del 95.0% para la proporción: (0.3795, 0.5094)\n"
          ]
        }
      ]
    },
    {
      "cell_type": "markdown",
      "source": [
        "**Ejercicio 2:** Los datos $1.2,\\ 2.1,\\ 2.3,\\ 1.9,\\ 3.0,\\ 1.5,\\ 2.8,\\ 2.4,\\ 1.7,\\ 2.6,\\ 2.0,\\ 1.8,\\ 3.1,\\ 2.2,\\ 2.5$ se toman a partir de una distribución normal $N(\\mu,\\sigma^2)$ con $\\mu$ desconocida.\n",
        "\n",
        "**a)** Encuentra un intervalo de confianza al nivel de $90\\%$ para $\\mu$, dado que $\\sigma =2$.\n",
        "\n",
        "**b)** Encuentra un intervalo de confianza al nivel de $90\\%$ para $\\mu$.\n",
        "\n",
        "**c)** Encuentra un intervalo de confianza al nivel de $90\\%$ para $\\sigma^2$."
      ],
      "metadata": {
        "id": "DTPoVToTuPbD"
      }
    },
    {
      "cell_type": "code",
      "source": [
        "# Datos\n",
        "data = np.array([1.2, 2.1, 2.3, 1.9, 3.0, 1.5, 2.8, 2.4, 1.7, 2.6, 2.0, 1.8, 3.1, 2.2, 2.5])\n",
        "n = len(data)\n",
        "confianza = 0.90\n",
        "alpha = 1 - confianza\n",
        "media_muestral = np.mean(data)\n",
        "grados_libertad = n - 1\n",
        "\n",
        "# a) Intervalo de confianza para μ con σ = 2 (conocida)\n",
        "sigma_conocida = 2\n",
        "valor_critico_z = st.norm.ppf(1 - alpha / 2)\n",
        "error_estandar_z = sigma_conocida / np.sqrt(n)\n",
        "margen_error_z = valor_critico_z * error_estandar_z\n",
        "limite_inferior_z = media_muestral - margen_error_z\n",
        "limite_superior_z = media_muestral + margen_error_z\n",
        "print(f\"a) Intervalo de confianza del {confianza*100}% para μ (σ conocida): ({limite_inferior_z:.2f}, {limite_superior_z:.2f})\")\n",
        "\n",
        "# b) Intervalo de confianza para μ con σ desconocida\n",
        "desviacion_estandar_muestral = np.std(data, ddof=1)\n",
        "valor_critico_t = st.t.ppf(1 - alpha / 2, grados_libertad)\n",
        "error_estandar_t = desviacion_estandar_muestral / np.sqrt(n)\n",
        "margen_error_t = valor_critico_t * error_estandar_t\n",
        "limite_inferior_t = media_muestral - margen_error_t\n",
        "limite_superior_t = media_muestral + margen_error_t\n",
        "print(f\"b) Intervalo de confianza del {confianza*100}% para μ (σ desconocida): ({limite_inferior_t:.2f}, {limite_superior_t:.2f})\")\n",
        "\n",
        "# c) Intervalo de confianza para σ²\n",
        "varianza_muestral = np.var(data, ddof=1)\n",
        "chi2_inferior = st.chi2.ppf(alpha / 2, grados_libertad)\n",
        "chi2_superior = st.chi2.ppf(1 - alpha / 2, grados_libertad)\n",
        "limite_inferior_varianza = (n - 1) * varianza_muestral / chi2_superior\n",
        "limite_superior_varianza = (n - 1) * varianza_muestral / chi2_inferior\n",
        "print(f\"c) Intervalo de confianza del {confianza*100}% para μ (σ conocida): ({limite_inferior_varianza:.2f}, {limite_superior_varianza:.2f})\")"
      ],
      "metadata": {
        "colab": {
          "base_uri": "https://localhost:8080/"
        },
        "id": "k2il96PKuVnr",
        "outputId": "1c60872e-6836-4858-a630-c05bb5f27958"
      },
      "execution_count": null,
      "outputs": [
        {
          "output_type": "stream",
          "name": "stdout",
          "text": [
            "a) Intervalo de confianza del 90.0% para μ (σ conocida): (1.36, 3.06)\n",
            "b) Intervalo de confianza del 90.0% para μ (σ desconocida): (1.96, 2.45)\n",
            "c) Intervalo de confianza del 90.0% para μ (σ conocida): (0.18, 0.63)\n"
          ]
        }
      ]
    },
    {
      "cell_type": "markdown",
      "source": [
        "**Ejercicio 3:** Los ingresos semanales promedio de las personas que trabajan en varias industrias aparecieron en el *The New York Times 1988 Almanac*.  \n",
        "Esos ingresos para quienes trabajan en los servicios fueron de $\\$369$. Suponga que este resultado se basó en una muestra de 250 personas dedicadas a los servicios y que la desviación estándar de la muestra fue de $\\$50$. Calcula el intervalo de confianza del 95% para la media de la población de ingresos semanales de personas que trabajan en los servicios."
      ],
      "metadata": {
        "id": "-o68F0L1uX-a"
      }
    },
    {
      "cell_type": "code",
      "source": [
        "# Datos\n",
        "media_muestral = 369\n",
        "n = 250\n",
        "desviacion_estandar_muestral = 50\n",
        "confianza = 0.95\n",
        "alpha = 1 - confianza\n",
        "\n",
        "# Calcular el error estándar\n",
        "error_estandar = desviacion_estandar_muestral / np.sqrt(n)\n",
        "\n",
        "# Calcular el intervalo de confianza\n",
        "intervalo = st.norm.interval(confidence=confianza, loc=media_muestral, scale=error_estandar)\n",
        "\n",
        "print(f\"Intervalo de confianza del {confianza*100}% para la media de la población: ({limite_inferior:.2f}, {limite_superior:.2f})\")"
      ],
      "metadata": {
        "colab": {
          "base_uri": "https://localhost:8080/"
        },
        "id": "c7XdaB_zubIy",
        "outputId": "c5be2f7c-7223-4369-8b67-1c349fe158c3"
      },
      "execution_count": null,
      "outputs": [
        {
          "output_type": "stream",
          "name": "stdout",
          "text": [
            "Intervalo de confianza del 95.0% para la media de la población: (0.38, 0.51)\n"
          ]
        }
      ]
    },
    {
      "cell_type": "markdown",
      "source": [
        "**Ejercicio 4:** En un estudio de préstamos a estudiantes, el Departamento de Educación informó que los beneficiarios del fondo Stafford Loan deberían un promedio de \\$12,658 al recibirse (*USA Today*, 5 de abril de 1995). Suponga que este promedio de deuda se basa en una muestra de 480 préstamos a estudiantes y que la desviación estándar de la población de las deudas al recibirse es \\$2,000.\n",
        "\n",
        "**a)** Determina un estimado de confianza del **90%** del promedio poblacional de la deuda.\n",
        "\n",
        "**b)** Determina un estimado de confianza del **95%** del promedio poblacional de la deuda.\n",
        "\n",
        "**c)** Determina un estimado de confianza del **99%** del promedio poblacional de la deuda.\n",
        "\n",
        "**d)** Describe lo que sucede con el **ancho del intervalo de confianza** a medida que se **aumenta el nivel de confianza**. ¿Parece razonable? Explica tu respuesta."
      ],
      "metadata": {
        "id": "fSkR_G7dukIC"
      }
    },
    {
      "cell_type": "code",
      "source": [
        "# a)\n",
        "# Datos\n",
        "media_muestral = 12658\n",
        "n = 480\n",
        "sigma = 2000\n",
        "confianza = 0.90\n",
        "alpha = 1 - confianza\n",
        "\n",
        "valor_critico = st.norm.ppf(1 - alpha / 2)\n",
        "error_estandar = sigma / np.sqrt(n)\n",
        "margen_error = valor_critico * error_estandar\n",
        "intervalo = (media_muestral - margen_error, media_muestral + margen_error)\n",
        "print(f\"a) Intervalo de confianza del 90%: ({intervalo[0]:.2f}, {intervalo[1]:.2f})\")\n",
        "\n",
        "# b)\n",
        "# Datos\n",
        "confianza = 0.95\n",
        "alpha = 1 - confianza\n",
        "valor_critico = st.norm.ppf(1 - alpha / 2)\n",
        "error_estandar = sigma / np.sqrt(n)\n",
        "margen_error = valor_critico * error_estandar\n",
        "intervalo = (media_muestral - margen_error, media_muestral + margen_error)\n",
        "print(f\"b) Intervalo de confianza del 95%: ({intervalo[0]:.2f}, {intervalo[1]:.2f})\")\n",
        "\n",
        "# c)\n",
        "# Datos\n",
        "confianza = 0.99\n",
        "alpha = 1 - confianza\n",
        "valor_critico = st.norm.ppf(1 - alpha / 2)\n",
        "error_estandar = sigma / np.sqrt(n)\n",
        "margen_error = valor_critico * error_estandar\n",
        "intervalo = (media_muestral - margen_error, media_muestral + margen_error)\n",
        "print(f\"c) Intervalo de confianza del 99%: ({intervalo[0]:.2f}, {intervalo[1]:.2f})\")\n",
        "\n",
        "# d)\n",
        "print(\"d) A medida que se aumenta el nivel de confianza, el ancho del intervalo de confianza aumenta.\\n Esto parece razonable porque un nivel de confianza más alto requiere un rango más amplio para tener una mayor probabilidad de contener la verdadera media poblacional.\")\n"
      ],
      "metadata": {
        "colab": {
          "base_uri": "https://localhost:8080/"
        },
        "id": "6iYqTxlUunTR",
        "outputId": "82fb3189-0e57-48db-f027-6ad2bcf304c2"
      },
      "execution_count": null,
      "outputs": [
        {
          "output_type": "stream",
          "name": "stdout",
          "text": [
            "a) Intervalo de confianza del 90%: (12507.85, 12808.15)\n",
            "b) Intervalo de confianza del 95%: (12479.08, 12836.92)\n",
            "c) Intervalo de confianza del 99%: (12422.86, 12893.14)\n",
            "d) A medida que se aumenta el nivel de confianza, el ancho del intervalo de confianza aumenta.\n",
            " Esto parece razonable porque un nivel de confianza más alto requiere un rango más amplio para tener una mayor probabilidad de contener la verdadera media poblacional.\n"
          ]
        }
      ]
    },
    {
      "cell_type": "markdown",
      "source": [
        "**Ejercicio 5:** La encuesta anual de calidad de automóviles, efectuada por *J. D. Power & Associates*, determinó que la cantidad promedio de defectos, en todas las marcas, por cada vehículo nuevo es **1.07**  (*The Wall Street Journal*, 27 de enero de 1994). Suponga que se toma una muestra de **30 automóviles nuevos** de determinada marca y se obtienen las siguientes cantidades de defectos por vehículo:\n",
        "$$ 0, 1, 1, 2, 1, 0, 2, 3, 2, 1, 0, 2, 0, 0, 2, 3, 0, 4, 3, 1, 1, 1, 0, 2, 0, 2, 0, 3, 1, 0 $$\n",
        "\n",
        "**a)** ¿Cuál es el promedio muestral de la cantidad de defectos por vehículo?\n",
        "\n",
        "**b)** ¿Cuál es la desviación estándar de la muestra?\n",
        "\n",
        "**c)** Determine un intervalo de confianza del 95% para la **media de defectos** por vehículo de esta marca.\n",
        "\n",
        "**d)** Un analista sugirió que se debería **revisar una muestra mayor** antes de comparar con el promedio general de J.D. Power (1.07). ¿Respalda usted esta idea? ¿Por qué?"
      ],
      "metadata": {
        "id": "-9QrhkRiur_y"
      }
    },
    {
      "cell_type": "code",
      "source": [
        "# Datos\n",
        "defectos = np.array([0, 1, 1, 2, 1, 0, 2, 3, 2, 1, 0, 2, 0, 0, 2, 3, 0, 4, 3, 1, 1, 1, 0, 2, 0, 2, 0, 3, 1, 0])\n",
        "n = len(defectos)\n",
        "confianza = 0.95\n",
        "alpha = 1 - confianza\n",
        "grados_libertad = n - 1\n",
        "\n",
        "# a) Promedio muestral\n",
        "promedio_muestral = np.mean(defectos)\n",
        "print(f\"a) Promedio muestral: {promedio_muestral:.2f}\")\n",
        "\n",
        "# b) Desviación estándar muestral\n",
        "desviacion_estandar_muestral = np.std(defectos, ddof=1)\n",
        "print(f\"b) Desviación estándar de la muestra: {desviacion_estandar_muestral:.2f}\")\n",
        "\n",
        "# c) Intervalo de confianza del 95% para la media\n",
        "valor_critico_t = st.t.ppf(1 - alpha / 2, grados_libertad)\n",
        "error_estandar = desviacion_estandar_muestral / np.sqrt(n)\n",
        "margen_error = valor_critico_t * error_estandar\n",
        "intervalo_confianza = (promedio_muestral - margen_error, promedio_muestral + margen_error)\n",
        "print(f\"c) Intervalo de confianza del 95% para la media: ({intervalo_confianza[0]:.2f}, {intervalo_confianza[1]:.2f})\")\n",
        "\n",
        "print(\"d) Sí, respaldo la idea de revisar una muestra mayor. Una muestra más grande proporcionaría una estimación más precisa y confiable de la media poblacional,\\n lo que permitiría una comparación más significativa con el promedio general de J.D. Power.\")"
      ],
      "metadata": {
        "colab": {
          "base_uri": "https://localhost:8080/"
        },
        "id": "FFQWCFMwu0xZ",
        "outputId": "83ea61d2-7d4e-4035-ffc0-9006d3a19d34"
      },
      "execution_count": null,
      "outputs": [
        {
          "output_type": "stream",
          "name": "stdout",
          "text": [
            "a) Promedio muestral: 1.27\n",
            "b) Desviación estándar de la muestra: 1.17\n",
            "c) Intervalo de confianza del 95% para la media: (0.83, 1.70)\n",
            "d) Sí, respaldo la idea de revisar una muestra mayor. Una muestra más grande proporcionaría una estimación más precisa y confiable de la media poblacional,\n",
            " lo que permitiría una comparación más significativa con el promedio general de J.D. Power.\n"
          ]
        }
      ]
    },
    {
      "cell_type": "markdown",
      "source": [
        "**Ejercicio 6:** Un artículo que apareció en el ejemplar de noviembre de 1983 de *Consumer Reports* comparó varios tipos de baterías.  \n",
        "Se informó que los siguientes datos provienen de una muestra de 20 baterías (en horas de duración):\n",
        "$$ [2200, 2290, 2390, 2410, 2480, 2500, 2580, 2700, 2030, 2100, 2190, 1600, 1740, 1900, 1930, 2000, 1510, 1470, 1770, 1710] $$\n",
        "Determine la media muestral, la desviación estándar muestral, y el intervalo de confianza del **90%** para la media poblacional."
      ],
      "metadata": {
        "id": "GJb5zdteu3tR"
      }
    },
    {
      "cell_type": "code",
      "source": [
        "# Datos\n",
        "duraciones = np.array([2200, 2290, 2390, 2410, 2480, 2500, 2580, 2700, 2030, 2100, 2190, 1600, 1740, 1900, 1930, 2000, 1510, 1470, 1770, 1710])\n",
        "n = len(duraciones)\n",
        "confianza = 0.90\n",
        "alpha = 1 - confianza\n",
        "grados_libertad = n - 1\n",
        "\n",
        "# Calcular la media muestral\n",
        "media_muestral = np.mean(duraciones)\n",
        "print(f\"Media muestral: {media_muestral:.2f}\")\n",
        "\n",
        "# Calcular la desviación estándar muestral\n",
        "desviacion_estandar_muestral = np.std(duraciones, ddof=1)\n",
        "print(f\"Desviación estándar muestral: {desviacion_estandar_muestral:.2f}\")\n",
        "\n",
        "# Calcular el intervalo de confianza del 90% para la media poblacional\n",
        "valor_critico_t = st.t.ppf(1 - alpha / 2, grados_libertad)\n",
        "error_estandar = desviacion_estandar_muestral / np.sqrt(n)\n",
        "margen_error = valor_critico_t * error_estandar\n",
        "intervalo_confianza = (media_muestral - margen_error, media_muestral + margen_error)\n",
        "print(f\"Intervalo de confianza del 90%: ({intervalo_confianza[0]:.2f}, {intervalo_confianza[1]:.2f})\")"
      ],
      "metadata": {
        "colab": {
          "base_uri": "https://localhost:8080/"
        },
        "id": "yytOFYOdu6d5",
        "outputId": "3d5509cf-e8d0-414e-f105-3abb131150f6"
      },
      "execution_count": null,
      "outputs": [
        {
          "output_type": "stream",
          "name": "stdout",
          "text": [
            "Media muestral: 2075.00\n",
            "Desviación estándar muestral: 368.93\n",
            "Intervalo de confianza del 90%: (1932.35, 2217.65)\n"
          ]
        }
      ]
    },
    {
      "cell_type": "markdown",
      "source": [
        "**Ejercicio 7:** El toxafen es un insecticida que ha sido identificado como contaminante en el ecosistema de los Grandes Lagos.  \n",
        "Para investigar el efecto de la exposición al toxafen en animales, a grupos de ratas se les administró toxafen en su dieta.\n",
        "\n",
        "El artículo *\"Reproduction Study of Toxaphene in Rat\"* reporta **aumentos de peso (en gramos)** de ratas a las que se les administró una **dosis baja (4 ppm)** y de ratas de **control** cuya dieta no incluía el insecticida.\n",
        "\n",
        "- En el grupo **control**, una muestra de **23 ratas hembras** tuvo una media de **$\\bar{X_2} = 210$ g** y una desviación estándar de **32 g**.\n",
        "- En el grupo con **dosis baja**, una muestra de **20 ratas hembras** tuvo una media de **$\\bar{X_1} = 190$ g** y una desviación estándar de **54 g**.\n",
        "\n",
        "Encuentra un **intervalo de confianza del 90% para la diferencia de medias** poblacionales:  $\\mu_1 - \\mu_2$, donde:\n",
        "\n",
        "- $\\mu_1$ es la media poblacional de incremento de peso en el grupo con **dosis baja**.\n",
        "- $\\mu_2$ es la media poblacional de incremento de peso en el grupo **control**.\n",
        "\n",
        "¿Sugiere este intervalo que el toxafen **reduce** el incremento de peso en ratas?  \n",
        "¿Incluye el intervalo el valor 0? ¿Por qué es importante?"
      ],
      "metadata": {
        "id": "Wc6FrfNCu9t6"
      }
    },
    {
      "cell_type": "code",
      "source": [
        "# Datos 1\n",
        "n1 = 20\n",
        "media1 = 190\n",
        "std1 = 54\n",
        "\n",
        "# Datos 2\n",
        "n2 = 23\n",
        "media2 = 210\n",
        "std2 = 32\n",
        "\n",
        "# Calcular la diferencia de medias\n",
        "diff_mean = media1 - media2\n",
        "\n",
        "# Calcular el error estándar de la diferencia de medias (varianzas no asumidas iguales)\n",
        "std_err_diff = np.sqrt((std1**2 / n1) + (std2**2 / n2))\n",
        "\n",
        "# Calcular los grados de libertad (aproximación de Welch)\n",
        "numerator = (std1**2 / n1 + std2**2 / n2)**2\n",
        "denominator = (std1**2 / n1)**2 / (n1 - 1) + (std2**2 / n2)**2 / (n2 - 1)\n",
        "df = numerator / denominator\n",
        "\n",
        "# Nivel de confianza\n",
        "confidence_level = 0.90\n",
        "alpha = 1 - confidence_level\n",
        "\n",
        "# Encontrar el valor crítico de t\n",
        "critical_t = stats.t.ppf(1 - alpha / 2, df)\n",
        "\n",
        "# Calcular el margen de error\n",
        "margin_of_error = critical_t * std_err_diff\n",
        "\n",
        "# Calcular el intervalo de confianza\n",
        "confidence_interval = (diff_mean - margin_of_error, diff_mean + margin_of_error)\n",
        "\n",
        "print(f\"Intervalo de confianza del 90%: ({confidence_interval[0]:.2f}, {confidence_interval[1]:.2f}) \")\n",
        "print(\"\\nEl intervalo incluye el valor 0. \\n\\nEs importante porque sugiere que no hay una diferencia significativa en el incremento de \\npeso entre los grupos al nivel de confianza del 90%, por lo que no podemos concluir que el toxafen reduce o aumenta el peso.\")\n",
        "\n",
        "    #print(\"Esto es importante porque sugiere que no hay una diferencia significativa en el incremento de \\npeso entre los grupos al nivel de confianza del 90%, por lo que no podemos concluir que el toxafen reduce o aumenta el peso.\")\n",
        "\n"
      ],
      "metadata": {
        "colab": {
          "base_uri": "https://localhost:8080/"
        },
        "id": "_Kju4ugUvBVB",
        "outputId": "fc35f8d9-a5e7-45fa-db5b-23a21888b4ed"
      },
      "execution_count": null,
      "outputs": [
        {
          "output_type": "stream",
          "name": "stdout",
          "text": [
            "Intervalo de confianza del 90%: (-43.42, 3.42) \n",
            "\n",
            "El intervalo incluye el valor 0. \n",
            "\n",
            "Es importante porque sugiere que no hay una diferencia significativa en el incremento de \n",
            "peso entre los grupos al nivel de confianza del 90%, por lo que no podemos concluir que el toxafen reduce o aumenta el peso.\n"
          ]
        }
      ]
    },
    {
      "cell_type": "markdown",
      "source": [
        "## 3. Pruebas de Hipótesis"
      ],
      "metadata": {
        "id": "7GKJxKz3vUwC"
      }
    },
    {
      "cell_type": "markdown",
      "source": [
        "Una prueba de hipótesis es un procedimiento estadístico que permite tomar decisiones o sacar conclusiones acerca de una característica de una población, basándose en la información obtenida de una muestra.\n",
        "\n",
        "Se parte de una hipótesis nula $(H_0)$, que representa una afirmación que se desea contrastar, y una hipótesis alternativa $(H_1)$, que es lo que se plantea como posible si $H_0$ se rechaza."
      ],
      "metadata": {
        "id": "pgUqEk8FwTpR"
      }
    },
    {
      "cell_type": "markdown",
      "source": [
        "### 3.1 Características o propiedades de las pruebas de hipótesis:\n"
      ],
      "metadata": {
        "id": "shglxnsMw1A6"
      }
    },
    {
      "cell_type": "markdown",
      "source": [
        "\n",
        "**Hipótesis nula $(H_0)$:**\n",
        "Es una afirmación sobre el parámetro poblacional que se somete a prueba. Generalmente se considera verdadera hasta que se demuestre lo contrario.\n",
        "\n",
        "**Hipótesis alternativa $(H_1)$:**\n",
        "Es la afirmación contraria a H₀. Se acepta si la evidencia muestral es suficientemente fuerte para rechazar H₀.\n",
        "\n",
        "**Nivel de significancia $(α)$:**\n",
        "Es la probabilidad máxima de cometer un error tipo I, es decir, de rechazar H₀ cuando en realidad es verdadera. Valores comunes son 0.05, 0.01 o 0.10.\n",
        "\n",
        "**Valor crítico o región crítica:**\n",
        "Son los valores que delimitan la zona de rechazo para H₀. Si el estadístico de prueba cae dentro de esta región, se rechaza H₀.\n",
        "\n",
        "**Estadístico de prueba:**\n",
        "Es el valor calculado a partir de los datos muestrales que se utiliza para decidir entre H₀ y H₁. Ejemplos: prueba t, prueba z, prueba chi-cuadrado.\n",
        "\n",
        "**P-valor:**\n",
        "Es la probabilidad de obtener un valor del estadístico de prueba tan extremo como el observado, bajo la suposición de que H₀ es cierta.\n",
        "Si el p-valor < α, se rechaza H₀.\n",
        "\n",
        "**Error tipo I $(α)$:**\n",
        "Rechazar H₀ siendo verdadera.\n",
        "\n",
        "**Error tipo II $(β)$:**\n",
        "No rechazar H₀ siendo falsa."
      ],
      "metadata": {
        "id": "KK4axa7KxYaq"
      }
    },
    {
      "cell_type": "markdown",
      "source": [
        "### 3.2 Clasificación según el tipo de prueba"
      ],
      "metadata": {
        "id": "Fh_CWmdBxaKK"
      }
    },
    {
      "cell_type": "markdown",
      "source": [
        "**Pruebas de una cola:**\n",
        "\n",
        "Se utiliza cuando se desea verificar si el parámetro es mayor o menor que un valor específico.\n",
        "\n",
        "**Pruebas de dos colas:**\n",
        "\n",
        "Se utiliza cuando se desea verificar si el parámetro es diferente (mayor o menor) a un valor específico."
      ],
      "metadata": {
        "id": "45Etay2dxfOC"
      }
    },
    {
      "cell_type": "markdown",
      "source": [
        "**Ejemplo:**\n",
        "\n",
        "Una fábrica produce focos que deberían durar en promedio 1200 horas. Se toma una muestra de 30 focos y se obtiene una media de 1165 horas con una desviación estándar de 100 horas.\n",
        "¿Se puede concluir, con un 5% de significancia, que la media de duración de los focos es diferente de 1200 horas?"
      ],
      "metadata": {
        "id": "e6rfC97zx2-L"
      }
    },
    {
      "cell_type": "markdown",
      "source": [
        "**Hipótesis:**\n",
        "\n",
        "$H_0$: $μ = 1200$\n",
        "\n",
        "$H_1$ $\\mu \\neq 1200$"
      ],
      "metadata": {
        "id": "JIKXSkupx_sL"
      }
    },
    {
      "cell_type": "code",
      "source": [
        "# Datos de la muestra\n",
        "media_muestra = 1165\n",
        "desv_std_muestra = 100\n",
        "n = 30\n",
        "media_hipotetica = 1200\n",
        "alpha = 0.05\n",
        "\n",
        "# Estadístico t\n",
        "t_stat = (media_muestra - media_hipotetica) / (desv_std_muestra / np.sqrt(n))\n",
        "\n",
        "# Grados de libertad\n",
        "df = n - 1\n",
        "\n",
        "# Valor crítico t para 2 colas\n",
        "t_critico = stats.t.ppf(1 - alpha/2, df)\n",
        "\n",
        "# p-valor\n",
        "p_value = 2 * (1 - stats.t.cdf(abs(t_stat), df))\n",
        "\n",
        "# Resultados\n",
        "print(f\"Estadístico t: {t_stat:.2f}\")\n",
        "print(f\"Valor crítico ±t: {t_critico:.2f}\")\n",
        "print(f\"P-valor: {p_value:.4f}\")\n",
        "\n",
        "if p_value < alpha:\n",
        "    print(\"Se rechaza H0: Hay evidencia de que la media es diferente de 1200 horas.\")\n",
        "else:\n",
        "    print(\"No se rechaza H0: No hay evidencia suficiente para decir que la media es diferente de 1200 horas.\")\n"
      ],
      "metadata": {
        "colab": {
          "base_uri": "https://localhost:8080/"
        },
        "id": "csGz80ChyfTF",
        "outputId": "8f1b174f-2b42-4941-8c5d-653c2e0d4605"
      },
      "execution_count": null,
      "outputs": [
        {
          "output_type": "stream",
          "name": "stdout",
          "text": [
            "Estadístico t: -1.92\n",
            "Valor crítico ±t: 2.05\n",
            "P-valor: 0.0651\n",
            "No se rechaza H0: No hay evidencia suficiente para decir que la media es diferente de 1200 horas.\n"
          ]
        }
      ]
    },
    {
      "cell_type": "code",
      "source": [
        "# Gráfica de la distribución t\n",
        "x = np.linspace(-4, 4, 300)\n",
        "y = stats.t.pdf(x, df)\n",
        "\n",
        "plt.figure(figsize=(10,6))\n",
        "plt.plot(x, y, color='black', label='Distribución t')\n",
        "\n",
        "# Región crítica\n",
        "plt.fill_between(x, y, where=(x <= -t_critico) | (x >= t_critico), color='red', alpha=0.3, label='Región crítica')\n",
        "\n",
        "# Estadístico t calculado\n",
        "plt.axvline(t_stat, color='blue', linestyle='--', linewidth=2, label=f'Estadístico t = {t_stat:.2f}')\n",
        "\n",
        "# Líneas de los valores críticos\n",
        "plt.axvline(-t_critico, color='red', linestyle='--', linewidth=1)\n",
        "plt.axvline(t_critico, color='red', linestyle='--', linewidth=1)\n",
        "\n",
        "plt.title('Distribución t con Región Crítica')\n",
        "plt.xlabel('t')\n",
        "plt.ylabel('Densidad de probabilidad')\n",
        "plt.legend()\n",
        "plt.grid(True)\n",
        "plt.show()\n"
      ],
      "metadata": {
        "colab": {
          "base_uri": "https://localhost:8080/",
          "height": 573
        },
        "id": "KYhynx8bynIy",
        "outputId": "08429e34-0436-4be5-8b3f-e625500650df"
      },
      "execution_count": null,
      "outputs": [
        {
          "output_type": "display_data",
          "data": {
            "text/plain": [
              "<Figure size 1000x600 with 1 Axes>"
            ],
            "image/png": "[encoded data removed]"
          },
          "metadata": {}
        }
      ]
    }
  ]
}